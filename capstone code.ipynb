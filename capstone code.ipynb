{
 "cells": [
  {
   "cell_type": "markdown",
   "metadata": {},
   "source": [
    "# Telco customer analytics"
   ]
  },
  {
   "cell_type": "markdown",
   "metadata": {},
   "source": [
    "# Business problem:"
   ]
  },
  {
   "cell_type": "markdown",
   "metadata": {},
   "source": [
    "\n",
    "Through this project, I want to identify the root causes for customer churn and predict it by machine learning.   \n"
   ]
  },
  {
   "cell_type": "markdown",
   "metadata": {},
   "source": [
    "# Client:"
   ]
  },
  {
   "cell_type": "markdown",
   "metadata": {},
   "source": [
    "My client, Telco Company, is a telephone and internet service provider with over 5000 customers. In order to grow and maintain profitability, it’s essential that they learn how to maintain a dedicated customer base and reduce churn. Based on my analysis, Telco can :\n",
    "\n",
    "1.\tIdentify customers that are likely to churn and reach out to them to try to stop them from churning via special offers targeted to their needs\n",
    "\n",
    "2.\tFocus marketing on customers that are more likely to be long term customers\n",
    "\n",
    "3.\tModify their services to improve the likelihood customers will stay longer term\n"
   ]
  },
  {
   "cell_type": "markdown",
   "metadata": {},
   "source": [
    "# 1.\tObtaining the Data"
   ]
  },
  {
   "cell_type": "code",
   "execution_count": 1,
   "metadata": {
    "collapsed": true
   },
   "outputs": [],
   "source": [
    "import pandas as pd\n",
    "import numpy as np\n",
    "import matplotlib.pyplot as plt\n",
    "import seaborn as sns\n",
    "% matplotlib inline\n",
    "customer=pd.read_csv('customer_data.csv')\n",
    "\n",
    "customer['gender']= np.where((customer['gender'])=='Male',1, 0)\n"
   ]
  },
  {
   "cell_type": "code",
   "execution_count": 2,
   "metadata": {
    "collapsed": false
   },
   "outputs": [
    {
     "data": {
      "text/html": [
       "<div>\n",
       "<style>\n",
       "    .dataframe thead tr:only-child th {\n",
       "        text-align: right;\n",
       "    }\n",
       "\n",
       "    .dataframe thead th {\n",
       "        text-align: left;\n",
       "    }\n",
       "\n",
       "    .dataframe tbody tr th {\n",
       "        vertical-align: top;\n",
       "    }\n",
       "</style>\n",
       "<table border=\"1\" class=\"dataframe\">\n",
       "  <thead>\n",
       "    <tr style=\"text-align: right;\">\n",
       "      <th></th>\n",
       "      <th>customerID</th>\n",
       "      <th>gender</th>\n",
       "      <th>SeniorCitizen</th>\n",
       "      <th>Partner</th>\n",
       "      <th>Dependents</th>\n",
       "      <th>tenure</th>\n",
       "      <th>PhoneService</th>\n",
       "      <th>MultipleLines</th>\n",
       "      <th>InternetService</th>\n",
       "      <th>OnlineSecurity</th>\n",
       "      <th>...</th>\n",
       "      <th>DeviceProtection</th>\n",
       "      <th>TechSupport</th>\n",
       "      <th>StreamingTV</th>\n",
       "      <th>StreamingMovies</th>\n",
       "      <th>Contract</th>\n",
       "      <th>PaperlessBilling</th>\n",
       "      <th>PaymentMethod</th>\n",
       "      <th>MonthlyCharges</th>\n",
       "      <th>TotalCharges</th>\n",
       "      <th>Churn</th>\n",
       "    </tr>\n",
       "  </thead>\n",
       "  <tbody>\n",
       "    <tr>\n",
       "      <th>0</th>\n",
       "      <td>7590-VHVEG</td>\n",
       "      <td>0</td>\n",
       "      <td>0</td>\n",
       "      <td>Yes</td>\n",
       "      <td>No</td>\n",
       "      <td>1</td>\n",
       "      <td>No</td>\n",
       "      <td>No phone service</td>\n",
       "      <td>DSL</td>\n",
       "      <td>No</td>\n",
       "      <td>...</td>\n",
       "      <td>No</td>\n",
       "      <td>No</td>\n",
       "      <td>No</td>\n",
       "      <td>No</td>\n",
       "      <td>Month-to-month</td>\n",
       "      <td>Yes</td>\n",
       "      <td>Electronic check</td>\n",
       "      <td>29.85</td>\n",
       "      <td>29.85</td>\n",
       "      <td>No</td>\n",
       "    </tr>\n",
       "    <tr>\n",
       "      <th>1</th>\n",
       "      <td>5575-GNVDE</td>\n",
       "      <td>1</td>\n",
       "      <td>0</td>\n",
       "      <td>No</td>\n",
       "      <td>No</td>\n",
       "      <td>34</td>\n",
       "      <td>Yes</td>\n",
       "      <td>No</td>\n",
       "      <td>DSL</td>\n",
       "      <td>Yes</td>\n",
       "      <td>...</td>\n",
       "      <td>Yes</td>\n",
       "      <td>No</td>\n",
       "      <td>No</td>\n",
       "      <td>No</td>\n",
       "      <td>One year</td>\n",
       "      <td>No</td>\n",
       "      <td>Mailed check</td>\n",
       "      <td>56.95</td>\n",
       "      <td>1889.5</td>\n",
       "      <td>No</td>\n",
       "    </tr>\n",
       "    <tr>\n",
       "      <th>2</th>\n",
       "      <td>3668-QPYBK</td>\n",
       "      <td>1</td>\n",
       "      <td>0</td>\n",
       "      <td>No</td>\n",
       "      <td>No</td>\n",
       "      <td>2</td>\n",
       "      <td>Yes</td>\n",
       "      <td>No</td>\n",
       "      <td>DSL</td>\n",
       "      <td>Yes</td>\n",
       "      <td>...</td>\n",
       "      <td>No</td>\n",
       "      <td>No</td>\n",
       "      <td>No</td>\n",
       "      <td>No</td>\n",
       "      <td>Month-to-month</td>\n",
       "      <td>Yes</td>\n",
       "      <td>Mailed check</td>\n",
       "      <td>53.85</td>\n",
       "      <td>108.15</td>\n",
       "      <td>Yes</td>\n",
       "    </tr>\n",
       "    <tr>\n",
       "      <th>3</th>\n",
       "      <td>7795-CFOCW</td>\n",
       "      <td>1</td>\n",
       "      <td>0</td>\n",
       "      <td>No</td>\n",
       "      <td>No</td>\n",
       "      <td>45</td>\n",
       "      <td>No</td>\n",
       "      <td>No phone service</td>\n",
       "      <td>DSL</td>\n",
       "      <td>Yes</td>\n",
       "      <td>...</td>\n",
       "      <td>Yes</td>\n",
       "      <td>Yes</td>\n",
       "      <td>No</td>\n",
       "      <td>No</td>\n",
       "      <td>One year</td>\n",
       "      <td>No</td>\n",
       "      <td>Bank transfer (automatic)</td>\n",
       "      <td>42.30</td>\n",
       "      <td>1840.75</td>\n",
       "      <td>No</td>\n",
       "    </tr>\n",
       "    <tr>\n",
       "      <th>4</th>\n",
       "      <td>9237-HQITU</td>\n",
       "      <td>0</td>\n",
       "      <td>0</td>\n",
       "      <td>No</td>\n",
       "      <td>No</td>\n",
       "      <td>2</td>\n",
       "      <td>Yes</td>\n",
       "      <td>No</td>\n",
       "      <td>Fiber optic</td>\n",
       "      <td>No</td>\n",
       "      <td>...</td>\n",
       "      <td>No</td>\n",
       "      <td>No</td>\n",
       "      <td>No</td>\n",
       "      <td>No</td>\n",
       "      <td>Month-to-month</td>\n",
       "      <td>Yes</td>\n",
       "      <td>Electronic check</td>\n",
       "      <td>70.70</td>\n",
       "      <td>151.65</td>\n",
       "      <td>Yes</td>\n",
       "    </tr>\n",
       "  </tbody>\n",
       "</table>\n",
       "<p>5 rows × 21 columns</p>\n",
       "</div>"
      ],
      "text/plain": [
       "   customerID  gender  SeniorCitizen Partner Dependents  tenure PhoneService  \\\n",
       "0  7590-VHVEG       0              0     Yes         No       1           No   \n",
       "1  5575-GNVDE       1              0      No         No      34          Yes   \n",
       "2  3668-QPYBK       1              0      No         No       2          Yes   \n",
       "3  7795-CFOCW       1              0      No         No      45           No   \n",
       "4  9237-HQITU       0              0      No         No       2          Yes   \n",
       "\n",
       "      MultipleLines InternetService OnlineSecurity  ...  DeviceProtection  \\\n",
       "0  No phone service             DSL             No  ...                No   \n",
       "1                No             DSL            Yes  ...               Yes   \n",
       "2                No             DSL            Yes  ...                No   \n",
       "3  No phone service             DSL            Yes  ...               Yes   \n",
       "4                No     Fiber optic             No  ...                No   \n",
       "\n",
       "  TechSupport StreamingTV StreamingMovies        Contract PaperlessBilling  \\\n",
       "0          No          No              No  Month-to-month              Yes   \n",
       "1          No          No              No        One year               No   \n",
       "2          No          No              No  Month-to-month              Yes   \n",
       "3         Yes          No              No        One year               No   \n",
       "4          No          No              No  Month-to-month              Yes   \n",
       "\n",
       "               PaymentMethod MonthlyCharges  TotalCharges Churn  \n",
       "0           Electronic check          29.85         29.85    No  \n",
       "1               Mailed check          56.95        1889.5    No  \n",
       "2               Mailed check          53.85        108.15   Yes  \n",
       "3  Bank transfer (automatic)          42.30       1840.75    No  \n",
       "4           Electronic check          70.70        151.65   Yes  \n",
       "\n",
       "[5 rows x 21 columns]"
      ]
     },
     "execution_count": 2,
     "metadata": {},
     "output_type": "execute_result"
    }
   ],
   "source": [
    "customer.head()\n"
   ]
  },
  {
   "cell_type": "markdown",
   "metadata": {},
   "source": [
    "# 2.\tData cleaning:"
   ]
  },
  {
   "cell_type": "code",
   "execution_count": 3,
   "metadata": {
    "collapsed": false
   },
   "outputs": [
    {
     "data": {
      "text/plain": [
       "customerID          False\n",
       "gender              False\n",
       "SeniorCitizen       False\n",
       "Partner             False\n",
       "Dependents          False\n",
       "tenure              False\n",
       "PhoneService        False\n",
       "MultipleLines       False\n",
       "InternetService     False\n",
       "OnlineSecurity      False\n",
       "OnlineBackup        False\n",
       "DeviceProtection    False\n",
       "TechSupport         False\n",
       "StreamingTV         False\n",
       "StreamingMovies     False\n",
       "Contract            False\n",
       "PaperlessBilling    False\n",
       "PaymentMethod       False\n",
       "MonthlyCharges      False\n",
       "TotalCharges        False\n",
       "Churn               False\n",
       "dtype: bool"
      ]
     },
     "execution_count": 3,
     "metadata": {},
     "output_type": "execute_result"
    }
   ],
   "source": [
    "customer.isnull().any()"
   ]
  },
  {
   "cell_type": "markdown",
   "metadata": {},
   "source": [
    " This dataset has no missing values. "
   ]
  },
  {
   "cell_type": "markdown",
   "metadata": {},
   "source": [
    "# Constructing the Data:"
   ]
  },
  {
   "cell_type": "markdown",
   "metadata": {},
   "source": [
    "Convert columns with yes/ no to 0/1\n",
    "  \n"
   ]
  },
  {
   "cell_type": "code",
   "execution_count": 4,
   "metadata": {
    "collapsed": true
   },
   "outputs": [],
   "source": [
    "customer['Partner'] = customer['Partner'].apply(lambda x: 0 if x=='No' else 1)\n"
   ]
  },
  {
   "cell_type": "code",
   "execution_count": 5,
   "metadata": {
    "collapsed": true
   },
   "outputs": [],
   "source": [
    "customer['Dependents'] = customer['Dependents'].apply(lambda x: 0 if x=='No' else 1)"
   ]
  },
  {
   "cell_type": "code",
   "execution_count": 6,
   "metadata": {
    "collapsed": true
   },
   "outputs": [],
   "source": [
    "customer['PhoneService'] = customer['PhoneService'].apply(lambda x: 0 if x=='No' else 1)"
   ]
  },
  {
   "cell_type": "code",
   "execution_count": 7,
   "metadata": {
    "collapsed": true
   },
   "outputs": [],
   "source": [
    "customer['OnlineSecurity'] = customer['OnlineSecurity'].apply(lambda x: 0 if x=='No' else 1)"
   ]
  },
  {
   "cell_type": "code",
   "execution_count": 8,
   "metadata": {
    "collapsed": false
   },
   "outputs": [
    {
     "data": {
      "text/html": [
       "<div>\n",
       "<style>\n",
       "    .dataframe thead tr:only-child th {\n",
       "        text-align: right;\n",
       "    }\n",
       "\n",
       "    .dataframe thead th {\n",
       "        text-align: left;\n",
       "    }\n",
       "\n",
       "    .dataframe tbody tr th {\n",
       "        vertical-align: top;\n",
       "    }\n",
       "</style>\n",
       "<table border=\"1\" class=\"dataframe\">\n",
       "  <thead>\n",
       "    <tr style=\"text-align: right;\">\n",
       "      <th></th>\n",
       "      <th>customerID</th>\n",
       "      <th>gender</th>\n",
       "      <th>SeniorCitizen</th>\n",
       "      <th>Partner</th>\n",
       "      <th>Dependents</th>\n",
       "      <th>tenure</th>\n",
       "      <th>PhoneService</th>\n",
       "      <th>MultipleLines</th>\n",
       "      <th>InternetService</th>\n",
       "      <th>OnlineSecurity</th>\n",
       "      <th>...</th>\n",
       "      <th>DeviceProtection</th>\n",
       "      <th>TechSupport</th>\n",
       "      <th>StreamingTV</th>\n",
       "      <th>StreamingMovies</th>\n",
       "      <th>Contract</th>\n",
       "      <th>PaperlessBilling</th>\n",
       "      <th>PaymentMethod</th>\n",
       "      <th>MonthlyCharges</th>\n",
       "      <th>TotalCharges</th>\n",
       "      <th>Churn</th>\n",
       "    </tr>\n",
       "  </thead>\n",
       "  <tbody>\n",
       "    <tr>\n",
       "      <th>0</th>\n",
       "      <td>7590-VHVEG</td>\n",
       "      <td>0</td>\n",
       "      <td>0</td>\n",
       "      <td>1</td>\n",
       "      <td>0</td>\n",
       "      <td>1</td>\n",
       "      <td>0</td>\n",
       "      <td>0</td>\n",
       "      <td>DSL</td>\n",
       "      <td>0</td>\n",
       "      <td>...</td>\n",
       "      <td>0</td>\n",
       "      <td>0</td>\n",
       "      <td>0</td>\n",
       "      <td>0</td>\n",
       "      <td>Month-to-month</td>\n",
       "      <td>1</td>\n",
       "      <td>Electronic check</td>\n",
       "      <td>29.85</td>\n",
       "      <td>29.85</td>\n",
       "      <td>0</td>\n",
       "    </tr>\n",
       "    <tr>\n",
       "      <th>1</th>\n",
       "      <td>5575-GNVDE</td>\n",
       "      <td>1</td>\n",
       "      <td>0</td>\n",
       "      <td>0</td>\n",
       "      <td>0</td>\n",
       "      <td>34</td>\n",
       "      <td>1</td>\n",
       "      <td>0</td>\n",
       "      <td>DSL</td>\n",
       "      <td>1</td>\n",
       "      <td>...</td>\n",
       "      <td>1</td>\n",
       "      <td>0</td>\n",
       "      <td>0</td>\n",
       "      <td>0</td>\n",
       "      <td>One year</td>\n",
       "      <td>0</td>\n",
       "      <td>Mailed check</td>\n",
       "      <td>56.95</td>\n",
       "      <td>1889.5</td>\n",
       "      <td>0</td>\n",
       "    </tr>\n",
       "    <tr>\n",
       "      <th>2</th>\n",
       "      <td>3668-QPYBK</td>\n",
       "      <td>1</td>\n",
       "      <td>0</td>\n",
       "      <td>0</td>\n",
       "      <td>0</td>\n",
       "      <td>2</td>\n",
       "      <td>1</td>\n",
       "      <td>0</td>\n",
       "      <td>DSL</td>\n",
       "      <td>1</td>\n",
       "      <td>...</td>\n",
       "      <td>0</td>\n",
       "      <td>0</td>\n",
       "      <td>0</td>\n",
       "      <td>0</td>\n",
       "      <td>Month-to-month</td>\n",
       "      <td>1</td>\n",
       "      <td>Mailed check</td>\n",
       "      <td>53.85</td>\n",
       "      <td>108.15</td>\n",
       "      <td>1</td>\n",
       "    </tr>\n",
       "    <tr>\n",
       "      <th>3</th>\n",
       "      <td>7795-CFOCW</td>\n",
       "      <td>1</td>\n",
       "      <td>0</td>\n",
       "      <td>0</td>\n",
       "      <td>0</td>\n",
       "      <td>45</td>\n",
       "      <td>0</td>\n",
       "      <td>0</td>\n",
       "      <td>DSL</td>\n",
       "      <td>1</td>\n",
       "      <td>...</td>\n",
       "      <td>1</td>\n",
       "      <td>1</td>\n",
       "      <td>0</td>\n",
       "      <td>0</td>\n",
       "      <td>One year</td>\n",
       "      <td>0</td>\n",
       "      <td>Bank transfer (automatic)</td>\n",
       "      <td>42.30</td>\n",
       "      <td>1840.75</td>\n",
       "      <td>0</td>\n",
       "    </tr>\n",
       "    <tr>\n",
       "      <th>4</th>\n",
       "      <td>9237-HQITU</td>\n",
       "      <td>0</td>\n",
       "      <td>0</td>\n",
       "      <td>0</td>\n",
       "      <td>0</td>\n",
       "      <td>2</td>\n",
       "      <td>1</td>\n",
       "      <td>0</td>\n",
       "      <td>Fiber optic</td>\n",
       "      <td>0</td>\n",
       "      <td>...</td>\n",
       "      <td>0</td>\n",
       "      <td>0</td>\n",
       "      <td>0</td>\n",
       "      <td>0</td>\n",
       "      <td>Month-to-month</td>\n",
       "      <td>1</td>\n",
       "      <td>Electronic check</td>\n",
       "      <td>70.70</td>\n",
       "      <td>151.65</td>\n",
       "      <td>1</td>\n",
       "    </tr>\n",
       "  </tbody>\n",
       "</table>\n",
       "<p>5 rows × 21 columns</p>\n",
       "</div>"
      ],
      "text/plain": [
       "   customerID  gender  SeniorCitizen  Partner  Dependents  tenure  \\\n",
       "0  7590-VHVEG       0              0        1           0       1   \n",
       "1  5575-GNVDE       1              0        0           0      34   \n",
       "2  3668-QPYBK       1              0        0           0       2   \n",
       "3  7795-CFOCW       1              0        0           0      45   \n",
       "4  9237-HQITU       0              0        0           0       2   \n",
       "\n",
       "   PhoneService  MultipleLines InternetService  OnlineSecurity  ...   \\\n",
       "0             0              0             DSL               0  ...    \n",
       "1             1              0             DSL               1  ...    \n",
       "2             1              0             DSL               1  ...    \n",
       "3             0              0             DSL               1  ...    \n",
       "4             1              0     Fiber optic               0  ...    \n",
       "\n",
       "   DeviceProtection  TechSupport  StreamingTV  StreamingMovies  \\\n",
       "0                 0            0            0                0   \n",
       "1                 1            0            0                0   \n",
       "2                 0            0            0                0   \n",
       "3                 1            1            0                0   \n",
       "4                 0            0            0                0   \n",
       "\n",
       "         Contract PaperlessBilling              PaymentMethod MonthlyCharges  \\\n",
       "0  Month-to-month                1           Electronic check          29.85   \n",
       "1        One year                0               Mailed check          56.95   \n",
       "2  Month-to-month                1               Mailed check          53.85   \n",
       "3        One year                0  Bank transfer (automatic)          42.30   \n",
       "4  Month-to-month                1           Electronic check          70.70   \n",
       "\n",
       "   TotalCharges Churn  \n",
       "0         29.85     0  \n",
       "1        1889.5     0  \n",
       "2        108.15     1  \n",
       "3       1840.75     0  \n",
       "4        151.65     1  \n",
       "\n",
       "[5 rows x 21 columns]"
      ]
     },
     "execution_count": 8,
     "metadata": {},
     "output_type": "execute_result"
    }
   ],
   "source": [
    "customer['TechSupport'] = customer['TechSupport'].apply(lambda x: 0 if x=='No' else 1)\n",
    "customer['StreamingTV'] = customer['StreamingTV'].apply(lambda x: 0 if x=='No' else 1)\n",
    "customer['OnlineBackup'] = customer['OnlineBackup'].apply(lambda x: 0 if x=='No' else 1)\n",
    "customer['StreamingMovies'] = customer['StreamingMovies'].apply(lambda x: 0 if x=='No' else 1)\n",
    "customer['DeviceProtection'] = customer['DeviceProtection'].apply(lambda x: 0 if x=='No' else 1)\n",
    "customer['PaperlessBilling'] = customer['PaperlessBilling'].apply(lambda x: 0 if x=='No' else 1)\n",
    "customer['Churn'] = customer['Churn'].apply(lambda x: 0 if x=='No' else 1)\n",
    "customer['MultipleLines'] = customer['MultipleLines'].apply(lambda x: 1 if x=='Yes' else 0)\n",
    "customer.head()\n"
   ]
  },
  {
   "cell_type": "markdown",
   "metadata": {},
   "source": []
  },
  {
   "cell_type": "markdown",
   "metadata": {},
   "source": [
    "Use get_dummy turning a column to multiple column"
   ]
  },
  {
   "cell_type": "code",
   "execution_count": 9,
   "metadata": {
    "collapsed": true
   },
   "outputs": [],
   "source": [
    "\n",
    "customer = pd.concat([customer.drop('InternetService',axis=1), pd.get_dummies(customer['InternetService'])],axis=1)\n",
    "customer = pd.concat([customer.drop('Contract',axis=1), pd.get_dummies(customer['Contract'])],axis=1)\n",
    "customer = pd.concat([customer.drop('PaymentMethod',axis=1), pd.get_dummies(customer['PaymentMethod'])],axis=1)\n"
   ]
  },
  {
   "cell_type": "code",
   "execution_count": 10,
   "metadata": {
    "collapsed": false
   },
   "outputs": [
    {
     "name": "stdout",
     "output_type": "stream",
     "text": [
      "<class 'pandas.core.frame.DataFrame'>\n",
      "RangeIndex: 7043 entries, 0 to 7042\n",
      "Data columns (total 28 columns):\n",
      "customerID                   7043 non-null object\n",
      "gender                       7043 non-null int32\n",
      "SeniorCitizen                7043 non-null int64\n",
      "Partner                      7043 non-null int64\n",
      "Dependents                   7043 non-null int64\n",
      "tenure                       7043 non-null int64\n",
      "PhoneService                 7043 non-null int64\n",
      "MultipleLines                7043 non-null int64\n",
      "OnlineSecurity               7043 non-null int64\n",
      "OnlineBackup                 7043 non-null int64\n",
      "DeviceProtection             7043 non-null int64\n",
      "TechSupport                  7043 non-null int64\n",
      "StreamingTV                  7043 non-null int64\n",
      "StreamingMovies              7043 non-null int64\n",
      "PaperlessBilling             7043 non-null int64\n",
      "MonthlyCharges               7043 non-null float64\n",
      "TotalCharges                 7043 non-null object\n",
      "Churn                        7043 non-null int64\n",
      "DSL                          7043 non-null uint8\n",
      "Fiber optic                  7043 non-null uint8\n",
      "No                           7043 non-null uint8\n",
      "Month-to-month               7043 non-null uint8\n",
      "One year                     7043 non-null uint8\n",
      "Two year                     7043 non-null uint8\n",
      "Bank transfer (automatic)    7043 non-null uint8\n",
      "Credit card (automatic)      7043 non-null uint8\n",
      "Electronic check             7043 non-null uint8\n",
      "Mailed check                 7043 non-null uint8\n",
      "dtypes: float64(1), int32(1), int64(14), object(2), uint8(10)\n",
      "memory usage: 976.7+ KB\n"
     ]
    }
   ],
   "source": [
    "customer.info()"
   ]
  },
  {
   "cell_type": "markdown",
   "metadata": {},
   "source": [
    "# 3. Exploring the Data"
   ]
  },
  {
   "cell_type": "code",
   "execution_count": 11,
   "metadata": {
    "collapsed": true
   },
   "outputs": [],
   "source": [
    "churn_data=customer[customer['Churn']==1]"
   ]
  },
  {
   "cell_type": "markdown",
   "metadata": {},
   "source": [
    "# The percentage of churn customers in total customers"
   ]
  },
  {
   "cell_type": "markdown",
   "metadata": {},
   "source": [
    "This graph shows the result of report in which customers are churn or not churn. Form the graph, it is clear that the majority of customers are not churn with just 43 % different to churn customers. "
   ]
  },
  {
   "cell_type": "code",
   "execution_count": 12,
   "metadata": {
    "collapsed": false
   },
   "outputs": [
    {
     "data": {
      "image/png": "[encoded data removed]",
      "text/plain": [
       "<matplotlib.figure.Figure at 0x90cc730>"
      ]
     },
     "metadata": {},
     "output_type": "display_data"
    }
   ],
   "source": [
    "churncustomer = len(customer[customer['Churn']==1])\n",
    "notchurncustomer = len(customer[customer['Churn']==0])\n",
    "customer_len=len(customer)\n",
    "churn_customer=churncustomer/float(customer_len)*100\n",
    "not_churn_customer=notchurncustomer/float(customer_len)*100\n",
    "x=[1,2]\n",
    "y=[churn_customer,not_churn_customer]\n",
    "plt.bar(x, y, color=\"blue\",align = 'center')\n",
    "labels = ['Churn Customer', 'Not Churn Customer']\n",
    "plt.xticks(x,labels, color='red')\n",
    "\n",
    "plt.xlabel('Churn Types')\n",
    "plt.ylabel('Percent of Customers')\n",
    "plt.title('Churn Graph')\n",
    "plt.show()\n"
   ]
  },
  {
   "cell_type": "markdown",
   "metadata": {},
   "source": [
    "# The distribution of phone and internet service through all customers "
   ]
  },
  {
   "cell_type": "markdown",
   "metadata": {},
   "source": [
    "From the pie chart, The percent of Fiber and phone is majority with 44% of total customers. The percent of customer from using phone and DSL, is the second place in chart with 24.7% of total customers. The percent of customer  from using phone only are 21.7 % of total customers. The percent of DSl only is 9.7% total customer and 0% of fiber only.\n",
    "\n",
    "HYpothesis: the customers use phone and fiber are likely to churn than other service groups. "
   ]
  },
  {
   "cell_type": "code",
   "execution_count": 13,
   "metadata": {
    "collapsed": false
   },
   "outputs": [
    {
     "data": {
      "image/png": "[encoded data removed]",
      "text/plain": [
       "<matplotlib.figure.Figure at 0x9548390>"
      ]
     },
     "metadata": {},
     "output_type": "display_data"
    },
    {
     "data": {
      "text/plain": [
       "7043"
      ]
     },
     "execution_count": 13,
     "metadata": {},
     "output_type": "execute_result"
    }
   ],
   "source": [
    "percent_phone_DSL=len(customer[(customer[\"DSL\"]==1)&(customer[\"Fiber optic\"]==0)&(customer[\"PhoneService\"]==1)])\n",
    "percent_phone_Fiber=len(customer[(customer[\"Fiber optic\"]==1)&(customer[\"DSL\"]==0)&(customer[\"PhoneService\"]==1)])\n",
    "percent_phone=len(customer[(customer[\"PhoneService\"]==1)&(customer[\"Fiber optic\"]==0)&(customer[\"DSL\"]==0)])\n",
    "percent_Fiber=len(customer[(customer[\"PhoneService\"]==0)&(customer[\"Fiber optic\"]==1)&(customer[\"DSL\"]==0)])\n",
    "percent_DSL=len(customer[(customer[\"PhoneService\"]==0)&(customer[\"Fiber optic\"]==0)&(customer[\"DSL\"]==1)])\n",
    "\n",
    "labels = 'Phone_DSL', 'phone_Fiber', 'phone', 'Fiber','DSL'\n",
    "sizes = [percent_phone_DSL, percent_phone_Fiber, percent_phone, percent_Fiber,percent_DSL]\n",
    "colors = ['gold', 'lightgreen', 'lightskyblue', 'white','red']\n",
    "plt.figure(figsize=(10,8))\n",
    "\n",
    "plt.pie(sizes, labels=labels, colors=colors, startangle=90, autopct='%.1f%%')\n",
    "plt.title('The distribution of phone and internet services through all customers')\n",
    "plt.show()\n",
    "\n",
    "\n",
    "len(customer)"
   ]
  },
  {
   "cell_type": "markdown",
   "metadata": {},
   "source": [
    "# The percentage of customer churn from using phone and internet services."
   ]
  },
  {
   "cell_type": "markdown",
   "metadata": {},
   "source": [
    "The bar chart shows the percentage of customer churn in three distinct service groups of phone and DSL, phone and Fiber, and phone only. The percent of customer churn from using phone and fiber is majority with 41% of total customers. The percent of customer churn from using phone and DSL, is the second place in chart with 16% of total customers. Finally, the percent of customer churn from using phone only are 7 % of total customers. Overall, it is clearly that the customers use phone and fiber are likely to churn than other service groups. "
   ]
  },
  {
   "cell_type": "code",
   "execution_count": 14,
   "metadata": {
    "collapsed": false,
    "scrolled": true
   },
   "outputs": [
    {
     "data": {
      "image/png": "[encoded data removed]",
      "text/plain": [
       "<matplotlib.figure.Figure at 0x9548030>"
      ]
     },
     "metadata": {},
     "output_type": "display_data"
    }
   ],
   "source": [
    "import math as math\n",
    "def meanstd (x,y):\n",
    "    mean = x.mean()\n",
    "    std = math.sqrt((mean*(1-mean))/y)\n",
    "    return mean, std\n",
    "percent_churn_phone_DSL=customer[(customer[\"DSL\"]==1)&(customer[\"PhoneService\"]==1)].Churn\n",
    "percent_churn_phone_Fiber=customer[(customer[\"Fiber optic\"]==1)&(customer[\"PhoneService\"]==1)].Churn\n",
    "percent_churn_phone=customer[(customer[\"PhoneService\"]==1)&((customer[\"Fiber optic\"]==0)&(customer[\"DSL\"]==0))].Churn\n",
    "axis = ('percent_churn_phone','percent_churn_phone_DSL','percent_churn_phone_Fiber')\n",
    "y_pos = np.arange(len(axis))\n",
    "plt.figure(figsize=(15,10))\n",
    "value=[percent_churn_phone_DSL,percent_churn_phone_Fiber,percent_churn_phone]\n",
    "customer_length=7043\n",
    "df1_mean,df1_std=meanstd(percent_churn_phone_DSL,customer_length)\n",
    "df2_mean,df2_std=meanstd(percent_churn_phone_Fiber,customer_length)\n",
    "df3_mean,df3_std=meanstd(percent_churn_phone,customer_length)\n",
    "\n",
    "\n",
    "value = (df3_mean,df1_mean, df2_mean)\n",
    "Std = (df3_std,df1_std, df2_std)\n",
    "\n",
    "plt.bar(y_pos, value, yerr=Std, align='center', alpha=0.5, color='yellow')\n",
    "plt.xticks(y_pos, axis)\n",
    "plt.ylabel('percent of customer')\n",
    "plt.title('The percentage of customer churn from using phone and internet services')\n",
    "plt.show()\n"
   ]
  },
  {
   "cell_type": "markdown",
   "metadata": {},
   "source": [
    "# The distribution of other services through all customers\n"
   ]
  },
  {
   "cell_type": "markdown",
   "metadata": {
    "collapsed": true
   },
   "source": [
    "From The pie chart, The percent of customer from using streamTv and streammovies are majority 18.1% and 18% total customers.The percent of customer from using DeviceProtection and OnlineBackup are the second place,16.8% total customers.The last two are OnlineSecurity and TechSupport, 15.1% and 15.2% total customers."
   ]
  },
  {
   "cell_type": "code",
   "execution_count": 15,
   "metadata": {
    "collapsed": false
   },
   "outputs": [
    {
     "data": {
      "image/png": "[encoded data removed]",
      "text/plain": [
       "<matplotlib.figure.Figure at 0x3b07d30>"
      ]
     },
     "metadata": {},
     "output_type": "display_data"
    }
   ],
   "source": [
    "percent_customer_OnlineSecurity=len(customer[(customer[\"OnlineSecurity\"]==1)])\n",
    "percent_customer_OnlineBackup=len(customer[(customer[\"OnlineBackup\"]==1)])\n",
    "percent_customer_DeviceProtection=len(customer[(customer[\"DeviceProtection\"]==1)])\n",
    "percent_customer_TechSupport=len(customer[(customer[\"TechSupport\"]==1)])\n",
    "percent_customer_StreamingTV=len(customer[(customer[\"StreamingTV\"]==1)])\n",
    "percent_customer_StreamingMovies=len(customer[(customer[\"StreamingMovies\"]==1)])\n",
    "labels = 'OnlineSecurity', 'OnlineBackup', 'DeviceProtection', 'TechSupport','StreamingTV','StreamingMovies'\n",
    "sizes = [percent_customer_OnlineSecurity, percent_customer_OnlineBackup, percent_customer_DeviceProtection,\n",
    "         percent_customer_TechSupport,percent_customer_StreamingTV,percent_customer_StreamingMovies]\n",
    "colors = ['gold', 'lightgreen', 'lightskyblue', 'white','red','lightblue']\n",
    "plt.figure(figsize=(10,8))\n",
    "\n",
    "plt.pie(sizes, labels=labels, colors=colors, startangle=90, autopct='%.1f%%')\n",
    "\n",
    "plt.title('The distribution of other services through all customers')\n",
    "plt.show()\n"
   ]
  },
  {
   "cell_type": "markdown",
   "metadata": {},
   "source": [
    "# The percentage of customer churn from other services"
   ]
  },
  {
   "cell_type": "markdown",
   "metadata": {},
   "source": [
    "From The bar chart, The percent of customer churn from using streamTv and streammovies are majority, 21% total customers. The percent of customer churn from using DeviceProtection is the second place, 16.6% total customers. The percent of customer churn from using OnlineBackup is 16% of total customers. The last two are OnlineSecurity and TechSupport, 11.5% and 11.8% total customers.\n"
   ]
  },
  {
   "cell_type": "code",
   "execution_count": 16,
   "metadata": {
    "collapsed": false
   },
   "outputs": [
    {
     "data": {
      "image/png": "[encoded data removed]",
      "text/plain": [
       "<matplotlib.figure.Figure at 0x983b650>"
      ]
     },
     "metadata": {},
     "output_type": "display_data"
    },
    {
     "name": "stdout",
     "output_type": "stream",
     "text": [
      "(0.11509167842031029, 0.16080910240202276, 0.16666666666666666, 0.11848739495798319, 0.21899362154500354, 0.21864725223109441)\n"
     ]
    }
   ],
   "source": [
    "\n",
    "customer_OnlineSecurity=customer[(customer[\"OnlineSecurity\"]==1)].Churn\n",
    "customer_OnlineBackup=customer[(customer[\"OnlineBackup\"]==1)].Churn\n",
    "customer_DeviceProtection= customer[(customer[\"DeviceProtection\"]==1)].Churn\n",
    "customer_TechSupport=customer[(customer[\"TechSupport\"]==1)].Churn\n",
    "customer_StreamingTV=customer[(customer[\"StreamingTV\"]==1)].Churn\n",
    "customer_StreamingMovies=customer[(customer[\"StreamingMovies\"]==1)].Churn\n",
    "\n",
    "labels = ['OnlineSecurity', 'OnlineBackup', 'DeviceProtection', 'TechSupport','StreamingTV','StreamingMovies']\n",
    "y_pos = np.arange(len(labels))\n",
    "plt.figure(figsize=(15,10))\n",
    "value=[customer_OnlineSecurity,customer_OnlineBackup,customer_DeviceProtection,customer_TechSupport,customer_StreamingTV,customer_StreamingMovies]\n",
    "customer_length=7043\n",
    "df4_mean,df4_std=meanstd(customer_OnlineSecurity,customer_length)\n",
    "df5_mean,df5_std=meanstd(customer_OnlineBackup,customer_length)\n",
    "df6_mean,df6_std=meanstd(customer_DeviceProtection,customer_length)\n",
    "df7_mean,df7_std=meanstd(customer_TechSupport,customer_length)\n",
    "df8_mean,df8_std=meanstd(customer_StreamingTV,customer_length)\n",
    "df9_mean,df9_std=meanstd(customer_StreamingMovies,customer_length)\n",
    "\n",
    "value = (df4_mean,df5_mean, df6_mean,df7_mean, df8_mean,df9_mean)\n",
    "Std = (df4_std,df5_std, df6_std,df7_std,df8_std, df9_std)\n",
    "\n",
    "plt.bar(y_pos, value, yerr=Std, align='center', alpha=0.5, color='yellow')\n",
    "plt.xticks(y_pos, labels)\n",
    "plt.ylabel('percent of customer')\n",
    "plt.title('The distribution of other services through all customers')\n",
    "plt.show()\n",
    "print(value)\n"
   ]
  },
  {
   "cell_type": "markdown",
   "metadata": {},
   "source": [
    "# The Percentage of customer churn between the Fiber with other services and the DSL with other services."
   ]
  },
  {
   "cell_type": "markdown",
   "metadata": {},
   "source": [
    "The bar chart shows the percent of churn customers in two categories, fiber with other services and DSL with other services. Other services are online security, online backup, device protection, tech support, streaming Tv and streaming movies.T he percent of fiber with other services is 9.2% of total customers and the percent of DSL with other services is 1.3% of total customers."
   ]
  },
  {
   "cell_type": "code",
   "execution_count": 17,
   "metadata": {
    "collapsed": false
   },
   "outputs": [
    {
     "data": {
      "image/png": "[encoded data removed]",
      "text/plain": [
       "<matplotlib.figure.Figure at 0x984aed0>"
      ]
     },
     "metadata": {},
     "output_type": "display_data"
    }
   ],
   "source": [
    "churn_phone_DSL_other=customer[(customer[\"DSL\"]==1)&(customer[\"OnlineSecurity\"]==1)&(customer[\"OnlineBackup\"]==1)\n",
    "                                      &(customer[\"DeviceProtection\"]==1)&(customer[\"TechSupport\"]==1)&(customer[\"StreamingTV\"]==1)\n",
    "                                     &(customer[\"StreamingMovies\"]==1)].Churn\n",
    "churn_phone_Fiber_other=customer[(customer[\"Fiber optic\"]==1)&(customer[\"OnlineSecurity\"]==1)&(customer[\"OnlineBackup\"]==1)\n",
    "                                      &(customer[\"DeviceProtection\"]==1)&(customer[\"TechSupport\"]==1)&(customer[\"StreamingTV\"]==1)\n",
    "                                     &(customer[\"StreamingMovies\"]==1)].Churn\n",
    "axis1=[1,2]\n",
    "df_DSL_mean,df_DSL_std=meanstd(churn_phone_DSL_other,customer_length)\n",
    "\n",
    "df_Fiber_mean,df_Fiber_std=meanstd(churn_phone_Fiber_other,customer_length)\n",
    "\n",
    "value = (df_DSL_mean,df_Fiber_mean)\n",
    "Std = (df_DSL_std,df_Fiber_std)\n",
    "\n",
    "plt.bar(axis1, value, yerr=Std, align='center', alpha=0.5, color='yellow')\n",
    " \n",
    "labels = ['Fiber with other services' ,'DSL with other services']\n",
    "\n",
    "plt.xticks(axis1,labels, color='red')\n",
    "\n",
    "plt.xlabel('Service Types')\n",
    "plt.ylabel('Percent of Customers')\n",
    "plt.title('Churn internet and other Services')\n",
    "plt.show()"
   ]
  },
  {
   "cell_type": "markdown",
   "metadata": {},
   "source": [
    "# The percentage of customer churn in different payment types "
   ]
  },
  {
   "cell_type": "markdown",
   "metadata": {},
   "source": [
    "The bar chart illustrates the percentage of customer churn in four different payment types: Credit card (automatic), Bank transfer (automatic), Mailed check, Electronic check. The Electronic check is the most popular payment type with 42% of total customers. The second highest payment type is Mailed check, 19% of total customers. The Credit card (automatic) and Bank transfer (automatic) are mostly the same with 16% and 15% customers."
   ]
  },
  {
   "cell_type": "code",
   "execution_count": 18,
   "metadata": {
    "collapsed": false
   },
   "outputs": [
    {
     "data": {
      "image/png": "[encoded data removed]",
      "text/plain": [
       "<matplotlib.figure.Figure at 0x95ebf30>"
      ]
     },
     "metadata": {},
     "output_type": "display_data"
    }
   ],
   "source": [
    "percent_bank=customer[(customer[\"Bank transfer (automatic)\"]==1)].Churn\n",
    "percent_credit=customer[(customer[\"Credit card (automatic)\"]==1)].Churn\n",
    "percent_eleccheck=customer[(customer[\"Electronic check\"]==1)].Churn\n",
    "percent_mail=customer[(customer[\"Mailed check\"]==1)].Churn\n",
    "\n",
    "axisL = ('percent_bank','percent_credit','percent_eleccheck','percent_mail')\n",
    "\n",
    "y_posi = np.arange(len(axisL))\n",
    "\n",
    "plt.figure(figsize=(15,10))\n",
    "\n",
    "\n",
    "df_bank_mean,df_bank_std=meanstd(percent_bank,customer_length)\n",
    "\n",
    "df_Credit_mean,df_Credit_std=meanstd(percent_credit,customer_length)\n",
    "\n",
    "df_check_mean,df_check_std=meanstd(percent_eleccheck,customer_length)\n",
    "\n",
    "df_mail_mean,df_mail_std=meanstd(percent_mail,customer_length)\n",
    "\n",
    "value1 = (df_bank_mean,df_Credit_mean,df_check_mean, df_mail_mean)\n",
    "Std1 = (df_bank_std,df_Credit_std,df_check_std, df_mail_std)\n",
    "\n",
    "plt.bar(y_posi, value1, yerr=Std1, align='center', alpha=0.5, color='yellow')\n",
    "plt.xticks(y_posi, axisL)\n",
    "plt.ylabel('percent of customer')\n",
    "plt.title('The percentage of customer churn in different payment types')\n",
    "plt.show()"
   ]
  },
  {
   "cell_type": "markdown",
   "metadata": {},
   "source": [
    "# The percentage of churn customers in different payment plans. "
   ]
  },
  {
   "cell_type": "markdown",
   "metadata": {},
   "source": [
    "The bar chart illustrates the percentage of churn customers in three different payment plans: month to month, one year and two years. The month to month plan has the highest percent of churn customer, 42% compare to the others. The one year plan is 2% and 11% for two years. \n",
    "\n",
    "Hypothesis: customers are likely to churn when they sign up for month to month payment plan."
   ]
  },
  {
   "cell_type": "code",
   "execution_count": 19,
   "metadata": {
    "collapsed": false
   },
   "outputs": [
    {
     "data": {
      "image/png": "[encoded data removed]",
      "text/plain": [
       "<matplotlib.figure.Figure at 0x9c98d50>"
      ]
     },
     "metadata": {},
     "output_type": "display_data"
    }
   ],
   "source": [
    "percent_churn_datamonthly=customer[(customer[\"Month-to-month\"]==1)].Churn\n",
    "percent_churn_dataone=customer[(customer[\"One year\"]==1)].Churn\n",
    "percent_churn_datatwo=customer[(customer[\"Two year\"]==1)].Churn\n",
    "\n",
    "axislabel = ('two years','one year','month to month')\n",
    "y_posit = np.arange(len(axislabel))\n",
    "plt.figure(figsize=(15,10))\n",
    "value1=[percent_churn_datatwo,percent_churn_dataone,percent_churn_datamonthly]\n",
    "df_bank_mean,df_bank_std=meanstd(percent_bank,customer_length)\n",
    "\n",
    "df_two_mean,df_two_std=meanstd(percent_churn_datatwo,customer_length)\n",
    "\n",
    "df_one_mean,df_one_std=meanstd(percent_churn_dataone,customer_length)\n",
    "\n",
    "df_month_mean,df_month_std=meanstd(percent_churn_datamonthly,customer_length)\n",
    "\n",
    "\n",
    "value_pay = (df_two_mean,df_one_mean, df_month_mean)\n",
    "Std_pay = (df_two_std,df_one_std, df_month_std )\n",
    "\n",
    "plt.bar(y_posit, value_pay, yerr=Std_pay, align='center', alpha=0.5, color='yellow')\n",
    "plt.xticks(y_posit, axislabel)\n",
    "\n",
    "plt.xlabel('Payment Types')\n",
    "plt.ylabel('Percent of Customers')\n",
    "plt.title('Churn payment types')\n",
    "plt.show()\n"
   ]
  },
  {
   "cell_type": "markdown",
   "metadata": {},
   "source": [
    "# churn by tenure(month)"
   ]
  },
  {
   "cell_type": "markdown",
   "metadata": {},
   "source": [
    "The distribution of tenure vs no churn is bimodal. it has two peaks the first month and last month in tenure\n",
    "\n",
    "The distribution of tenure vs churn is skewed right. it has a peaks the first month and slowly down in the end."
   ]
  },
  {
   "cell_type": "code",
   "execution_count": 20,
   "metadata": {
    "collapsed": false
   },
   "outputs": [
    {
     "data": {
      "image/png": "[encoded data removed]",
      "text/plain": [
       "<matplotlib.figure.Figure at 0xaf52d90>"
      ]
     },
     "metadata": {},
     "output_type": "display_data"
    }
   ],
   "source": [
    "noChurn_tdata= customer[customer[\"Churn\"]==0].tenure\n",
    "churn_tdata= customer[customer[\"Churn\"]==1].tenure\n",
    "plt.figure(figsize=(15,10))\n",
    "plt.hist([noChurn_tdata], bins=72,alpha=0.5,label='noChurn'\n",
    "         )\n",
    "plt.hist([churn_tdata], bins=72,alpha=0.5,label='Churn'\n",
    "         )       \n",
    "plt.xlabel('churn by tenure(month)')\n",
    "plt.ylabel('Number of Customers')\n",
    "plt.legend(loc='upper left')\n",
    "plt.title('Churn by tenure(month)')\n",
    "plt.show()"
   ]
  },
  {
   "cell_type": "markdown",
   "metadata": {},
   "source": [
    "# The percentage of customer churn in Demographics (gender/partner/dependents) "
   ]
  },
  {
   "cell_type": "markdown",
   "metadata": {},
   "source": [
    "The bar chart shows the percent of churn customers compares in three different demographics’ categories gender, partner, and dependent. In gender category, the percent of customer churn in female and male are mostly the same, male is 26.9% of total customers and female is 26.1% of total customers. In partner category, the customers have no partner likely to churn than partner. The percent of churn customer with partner is 19 % total cutomer, and the percent with no partner is 32% total customer. In dependent category, it is mostly the same with partner category. The percent of no dependent is higher than dependents, the no dependent is 31%total cutsomers, and the dependent is 15% total customers. \n",
    "\n",
    "Hypothesis: the customer has no partner and no dependent is highly percent to churn than other. "
   ]
  },
  {
   "cell_type": "code",
   "execution_count": 21,
   "metadata": {
    "collapsed": true
   },
   "outputs": [],
   "source": [
    "def barplot(x):\n",
    "    length= len(customer[x])\n",
    "    axislabel = (1,2)\n",
    "    y_position = np.arange(len(axislabel))\n",
    "    churn_x=customer[(customer[x]==1)].Churn\n",
    "    churn_y= customer[(customer[x]==0)].Churn\n",
    "    value_cond=[churn_x,churn_y]\n",
    "    df_x_mean = churn_x.mean()\n",
    "    df_x_std = math.sqrt((df_x_mean*(1-df_x_mean))/length)\n",
    "    df_y_mean = churn_y.mean()\n",
    "    df_y_std = math.sqrt((df_y_mean*(1-df_y_mean))/length)\n",
    "    value_def = (df_x_mean, df_y_mean )\n",
    "    Std_def = (df_x_std, df_y_std)\n",
    "\n",
    "    return  value_def,Std_def,y_position\n",
    "\n",
    "\n",
    "\n",
    "    "
   ]
  },
  {
   "cell_type": "markdown",
   "metadata": {},
   "source": [
    "# Gender"
   ]
  },
  {
   "cell_type": "code",
   "execution_count": 22,
   "metadata": {
    "collapsed": false
   },
   "outputs": [
    {
     "data": {
      "image/png": "[encoded data removed]",
      "text/plain": [
       "<matplotlib.figure.Figure at 0x9bf72b0>"
      ]
     },
     "metadata": {},
     "output_type": "display_data"
    }
   ],
   "source": [
    "gender_mean, gender_std, gender_position= barplot(\"gender\")\n",
    "plt.bar(gender_position, gender_mean, yerr=gender_std, align='center', alpha=0.5)\n",
    "labels = ['Male','Female']\n",
    "\n",
    "plt.xticks(gender_position, labels)\n",
    "\n",
    "plt.xlabel('gender')\n",
    "plt.ylabel('Percent of Customers')\n",
    "plt.title('Churn Customer Demographics')\n",
    "plt.show()"
   ]
  },
  {
   "cell_type": "markdown",
   "metadata": {},
   "source": [
    "# Partner"
   ]
  },
  {
   "cell_type": "code",
   "execution_count": 23,
   "metadata": {
    "collapsed": false
   },
   "outputs": [
    {
     "data": {
      "image/png": "[encoded data removed]",
      "text/plain": [
       "<matplotlib.figure.Figure at 0x960bd30>"
      ]
     },
     "metadata": {},
     "output_type": "display_data"
    }
   ],
   "source": [
    "\n",
    "partner_mean,partner_std, partner_position= barplot(\"Partner\")\n",
    "plt.bar(partner_position, partner_mean, yerr=partner_std, align='center', alpha=0.5)\n",
    "labels = ['Partner','No Partner']\n",
    "\n",
    "plt.xticks(partner_position,labels, color='red')\n",
    "\n",
    "plt.xlabel('partner status')\n",
    "plt.ylabel('Percent of Customers')\n",
    "plt.title('Churn Customer Demographics')\n",
    "plt.show()\n",
    "\n"
   ]
  },
  {
   "cell_type": "markdown",
   "metadata": {},
   "source": [
    "# Dependents:"
   ]
  },
  {
   "cell_type": "code",
   "execution_count": 24,
   "metadata": {
    "collapsed": false
   },
   "outputs": [
    {
     "data": {
      "image/png": "[encoded data removed]",
      "text/plain": [
       "<matplotlib.figure.Figure at 0x97d4f30>"
      ]
     },
     "metadata": {},
     "output_type": "display_data"
    }
   ],
   "source": [
    "Dependents_mean,Dependents_std, Dependents_position= barplot(\"Dependents\")\n",
    "plt.bar(Dependents_position, Dependents_mean, yerr=Dependents_std, align='center', alpha=0.5)\n",
    "\n",
    "plt.xticks(Dependents_position,labels, color='red')\n",
    "\n",
    "labels = ['Dependents','No Dependents']\n",
    "\n",
    "plt.xlabel('Dependents status')\n",
    "plt.ylabel('Percent of Customers')\n",
    "plt.title('Churn Customer Demographics')\n",
    "plt.show()"
   ]
  },
  {
   "cell_type": "markdown",
   "metadata": {},
   "source": [
    "# The percentage of churn customers in total senior customers"
   ]
  },
  {
   "cell_type": "markdown",
   "metadata": {},
   "source": [
    "\n",
    "This graph shows the result of report in which senior customers are churn or not churn. Form the graph, it is clear that the majority of customers are not churn with just 2.7 % different to churn customers. "
   ]
  },
  {
   "cell_type": "code",
   "execution_count": 25,
   "metadata": {
    "collapsed": false
   },
   "outputs": [
    {
     "data": {
      "image/png": "[encoded data removed]",
      "text/plain": [
       "<matplotlib.figure.Figure at 0xb16c6b0>"
      ]
     },
     "metadata": {},
     "output_type": "display_data"
    },
    {
     "name": "stdout",
     "output_type": "stream",
     "text": [
      "(6.758483600738321, 9.456197643049837)\n"
     ]
    }
   ],
   "source": [
    "churncustomer = len(customer[(customer['Churn']==1)&(customer[\"SeniorCitizen\"]==1)])\n",
    "notchurncustomer = len(customer[(customer['Churn']==0)&(customer[\"SeniorCitizen\"]==1)])\n",
    "customer_len=len(customer)\n",
    "churn_customer=churncustomer/float(customer_len)*100\n",
    "not_churn_customer=notchurncustomer/float(customer_len)*100\n",
    "x=[1,2]\n",
    "y=[churn_customer,not_churn_customer]\n",
    "plt.bar(x, y, color=\"blue\",align = 'center')\n",
    "labels = ['Churn Customer', 'Not Churn Customer']\n",
    "plt.xticks(x,labels, color='red')\n",
    "\n",
    "plt.xlabel('Churn Types')\n",
    "plt.ylabel('Percent of total Customers')\n",
    "plt.title('Senior Churn customers Graph')\n",
    "plt.show()\n",
    "print(churn_customer,not_churn_customer)"
   ]
  },
  {
   "cell_type": "markdown",
   "metadata": {},
   "source": [
    "# Sernior Discount by Tenure (month)"
   ]
  },
  {
   "cell_type": "markdown",
   "metadata": {},
   "source": [
    "The histogram chart shows the number of customers are senior by tenure (month). The distribution of tenure is bimodal. it has two peaks the first month and last month in tenure.The first month has majority of the customer with 86 customers, and the second peak has 56 customers at last month . The data range from about 1 to about 72, so the approximate range equals 71. There seem to be no probable outliers in this graph."
   ]
  },
  {
   "cell_type": "code",
   "execution_count": 26,
   "metadata": {
    "collapsed": false
   },
   "outputs": [
    {
     "data": {
      "image/png": "[encoded data removed]",
      "text/plain": [
       "<matplotlib.figure.Figure at 0xb1785f0>"
      ]
     },
     "metadata": {},
     "output_type": "display_data"
    }
   ],
   "source": [
    "seniordata= customer[customer[\"SeniorCitizen\"]==1].tenure\n",
    "\n",
    "plt.figure(figsize=(15,10))\n",
    "plt.hist([seniordata], bins=72,\n",
    "         color=[\"Blue\"]) \n",
    "plt.xlabel('Sernior Discount by Tenure(month)')\n",
    "plt.ylabel('Number of Customers')\n",
    "plt.title('Churn Sernior Discount by Tenure')\n",
    "plt.show()"
   ]
  },
  {
   "cell_type": "markdown",
   "metadata": {},
   "source": [
    "# The percentage of churn customers in total not senior customers"
   ]
  },
  {
   "cell_type": "markdown",
   "metadata": {},
   "source": [
    "This graph shows the result of report in which non-senior customers are churn or not churn. Form the graph, it is clear that the majority of customers are not churn with just 44.3 % different to churn customers. Therefore, this company is still doing a good job to keep senior customers happy with its services."
   ]
  },
  {
   "cell_type": "code",
   "execution_count": 27,
   "metadata": {
    "collapsed": false
   },
   "outputs": [
    {
     "data": {
      "image/png": "[encoded data removed]",
      "text/plain": [
       "<matplotlib.figure.Figure at 0xb402d50>"
      ]
     },
     "metadata": {},
     "output_type": "display_data"
    },
    {
     "name": "stdout",
     "output_type": "stream",
     "text": [
      "(19.778503478631265, 64.00681527758057)\n"
     ]
    }
   ],
   "source": [
    "churncustomer = len(customer[(customer['Churn']==1)&(customer[\"SeniorCitizen\"]==0)])\n",
    "notchurncustomer = len(customer[(customer['Churn']==0)&(customer[\"SeniorCitizen\"]==0)])\n",
    "customer_len=len(customer)\n",
    "churn_customer=churncustomer/float(customer_len)*100\n",
    "not_churn_customer=notchurncustomer/float(customer_len)*100\n",
    "x=[1,2]\n",
    "y=[churn_customer,not_churn_customer]\n",
    "plt.bar(x, y, color=\"blue\",align = 'center')\n",
    "labels = ['Churn Customer', 'Not Churn Customer']\n",
    "plt.xticks(x,labels, color='red')\n",
    "\n",
    "plt.xlabel('Churn Types')\n",
    "plt.ylabel('Percent of total Customers')\n",
    "plt.title('Non-Senior Churn customers Graph')\n",
    "plt.show()\n",
    "print(churn_customer,not_churn_customer)"
   ]
  },
  {
   "cell_type": "markdown",
   "metadata": {},
   "source": [
    "# No senior by tenure (month)"
   ]
  },
  {
   "cell_type": "markdown",
   "metadata": {},
   "source": [
    "The histogram chart shows the number of customers are not senior by tenure (month). The distribution of tenure is bimodal. it has two peaks the first month and last month in tenure.The first month has majority of the customer with over 527 customers, and the second peak has 306 total customers at last month . The data range from about 1 to about 72, so the approximate range equals 71. There seem to be no probable outliers in this graph."
   ]
  },
  {
   "cell_type": "code",
   "execution_count": 28,
   "metadata": {
    "collapsed": false
   },
   "outputs": [
    {
     "data": {
      "image/png": "[encoded data removed]",
      "text/plain": [
       "<matplotlib.figure.Figure at 0xb3f6910>"
      ]
     },
     "metadata": {},
     "output_type": "display_data"
    }
   ],
   "source": [
    "nosenior_data= customer[customer[\"SeniorCitizen\"]==0].tenure\n",
    "plt.figure(figsize=(15,10))\n",
    "plt.hist([nosenior_data], bins=72,\n",
    "         color=[\"Blue\"]) \n",
    "plt.xlabel('non-sernior discount by tenure(month)')\n",
    "plt.ylabel('Number of Customers')\n",
    "plt.title('Churn non-sernior discount by tenure(month)')\n",
    "plt.show()"
   ]
  },
  {
   "cell_type": "code",
   "execution_count": 29,
   "metadata": {
    "collapsed": false
   },
   "outputs": [
    {
     "data": {
      "text/plain": [
       "gender                        0.504756\n",
       "SeniorCitizen                 0.162147\n",
       "Partner                       0.483033\n",
       "Dependents                    0.299588\n",
       "tenure                       32.371149\n",
       "PhoneService                  0.903166\n",
       "MultipleLines                 0.421837\n",
       "OnlineSecurity                0.503337\n",
       "OnlineBackup                  0.561550\n",
       "DeviceProtection              0.560557\n",
       "TechSupport                   0.506886\n",
       "StreamingTV                   0.601022\n",
       "StreamingMovies               0.604572\n",
       "PaperlessBilling              0.592219\n",
       "MonthlyCharges               64.761692\n",
       "Churn                         0.265370\n",
       "DSL                           0.343746\n",
       "Fiber optic                   0.439585\n",
       "No                            0.216669\n",
       "Month-to-month                0.550192\n",
       "One year                      0.209144\n",
       "Two year                      0.240664\n",
       "Bank transfer (automatic)     0.219225\n",
       "Credit card (automatic)       0.216101\n",
       "Electronic check              0.335794\n",
       "Mailed check                  0.228880\n",
       "dtype: float64"
      ]
     },
     "execution_count": 29,
     "metadata": {},
     "output_type": "execute_result"
    }
   ],
   "source": [
    "customer.mean()"
   ]
  },
  {
   "cell_type": "markdown",
   "metadata": {},
   "source": [
    "# 4. Inferential Statistics"
   ]
  },
  {
   "cell_type": "markdown",
   "metadata": {},
   "source": [
    "Apply the fundamentals of statistical inference and hypothesis testing to this project.\n",
    " \n",
    "Project Question: Is there a correlation between the customer groups and the tenure? If so, \n",
    "We use the tenure like a satisfaction measurement to pinpoint directly to these customer groups, try to understand further what distinctions are there, and which traits lead to better productiblity or lead to less satisfaction. \n",
    " \n",
    "Questions for Concern:\n",
    "1.    Are there variables that are particularly significant in terms of explaining the answer to your project question?\n",
    "·         Most Important Variable: tenure\n",
    "2.    Are there strong correlations between pairs of independent variables, or between an independent and a dependent variable?"
   ]
  },
  {
   "cell_type": "markdown",
   "metadata": {},
   "source": [
    "# Summary Statistics"
   ]
  },
  {
   "cell_type": "markdown",
   "metadata": {},
   "source": [
    "\n",
    "·         There are churn customer, and stayed customers.\n",
    "\n",
    "·         Overview of churn V.S. Non-churn Statistics\n",
    "\n",
    "·         Summary Statistics"
   ]
  },
  {
   "cell_type": "markdown",
   "metadata": {},
   "source": [
    "# Statistical Analysis"
   ]
  },
  {
   "cell_type": "code",
   "execution_count": 30,
   "metadata": {
    "collapsed": false
   },
   "outputs": [
    {
     "data": {
      "text/html": [
       "<div>\n",
       "<style>\n",
       "    .dataframe thead tr:only-child th {\n",
       "        text-align: right;\n",
       "    }\n",
       "\n",
       "    .dataframe thead th {\n",
       "        text-align: left;\n",
       "    }\n",
       "\n",
       "    .dataframe tbody tr th {\n",
       "        vertical-align: top;\n",
       "    }\n",
       "</style>\n",
       "<table border=\"1\" class=\"dataframe\">\n",
       "  <thead>\n",
       "    <tr style=\"text-align: right;\">\n",
       "      <th></th>\n",
       "      <th>gender</th>\n",
       "      <th>SeniorCitizen</th>\n",
       "      <th>Partner</th>\n",
       "      <th>Dependents</th>\n",
       "      <th>tenure</th>\n",
       "      <th>PhoneService</th>\n",
       "      <th>MultipleLines</th>\n",
       "      <th>OnlineSecurity</th>\n",
       "      <th>OnlineBackup</th>\n",
       "      <th>DeviceProtection</th>\n",
       "      <th>...</th>\n",
       "      <th>DSL</th>\n",
       "      <th>Fiber optic</th>\n",
       "      <th>No</th>\n",
       "      <th>Month-to-month</th>\n",
       "      <th>One year</th>\n",
       "      <th>Two year</th>\n",
       "      <th>Bank transfer (automatic)</th>\n",
       "      <th>Credit card (automatic)</th>\n",
       "      <th>Electronic check</th>\n",
       "      <th>Mailed check</th>\n",
       "    </tr>\n",
       "  </thead>\n",
       "  <tbody>\n",
       "    <tr>\n",
       "      <th>gender</th>\n",
       "      <td>1.000000</td>\n",
       "      <td>-0.001874</td>\n",
       "      <td>-0.001808</td>\n",
       "      <td>0.010517</td>\n",
       "      <td>0.005106</td>\n",
       "      <td>-0.006488</td>\n",
       "      <td>-0.008414</td>\n",
       "      <td>-0.010429</td>\n",
       "      <td>-0.008191</td>\n",
       "      <td>0.002988</td>\n",
       "      <td>...</td>\n",
       "      <td>0.006568</td>\n",
       "      <td>-0.011286</td>\n",
       "      <td>0.006026</td>\n",
       "      <td>-0.003386</td>\n",
       "      <td>0.008026</td>\n",
       "      <td>-0.003695</td>\n",
       "      <td>-0.016024</td>\n",
       "      <td>0.001215</td>\n",
       "      <td>0.000752</td>\n",
       "      <td>0.013744</td>\n",
       "    </tr>\n",
       "    <tr>\n",
       "      <th>SeniorCitizen</th>\n",
       "      <td>-0.001874</td>\n",
       "      <td>1.000000</td>\n",
       "      <td>0.016479</td>\n",
       "      <td>-0.211185</td>\n",
       "      <td>0.016567</td>\n",
       "      <td>0.008576</td>\n",
       "      <td>0.142948</td>\n",
       "      <td>-0.185532</td>\n",
       "      <td>-0.087952</td>\n",
       "      <td>-0.094810</td>\n",
       "      <td>...</td>\n",
       "      <td>-0.108322</td>\n",
       "      <td>0.255338</td>\n",
       "      <td>-0.182742</td>\n",
       "      <td>0.138360</td>\n",
       "      <td>-0.046262</td>\n",
       "      <td>-0.117000</td>\n",
       "      <td>-0.016159</td>\n",
       "      <td>-0.024135</td>\n",
       "      <td>0.171718</td>\n",
       "      <td>-0.153477</td>\n",
       "    </tr>\n",
       "    <tr>\n",
       "      <th>Partner</th>\n",
       "      <td>-0.001808</td>\n",
       "      <td>0.016479</td>\n",
       "      <td>1.000000</td>\n",
       "      <td>0.452676</td>\n",
       "      <td>0.379697</td>\n",
       "      <td>0.017706</td>\n",
       "      <td>0.142057</td>\n",
       "      <td>0.129936</td>\n",
       "      <td>0.136058</td>\n",
       "      <td>0.147692</td>\n",
       "      <td>...</td>\n",
       "      <td>-0.000851</td>\n",
       "      <td>0.000304</td>\n",
       "      <td>0.000615</td>\n",
       "      <td>-0.280865</td>\n",
       "      <td>0.082783</td>\n",
       "      <td>0.248091</td>\n",
       "      <td>0.110706</td>\n",
       "      <td>0.082029</td>\n",
       "      <td>-0.083852</td>\n",
       "      <td>-0.095125</td>\n",
       "    </tr>\n",
       "    <tr>\n",
       "      <th>Dependents</th>\n",
       "      <td>0.010517</td>\n",
       "      <td>-0.211185</td>\n",
       "      <td>0.452676</td>\n",
       "      <td>1.000000</td>\n",
       "      <td>0.159712</td>\n",
       "      <td>-0.001762</td>\n",
       "      <td>-0.024526</td>\n",
       "      <td>0.188434</td>\n",
       "      <td>0.138756</td>\n",
       "      <td>0.129415</td>\n",
       "      <td>...</td>\n",
       "      <td>0.052010</td>\n",
       "      <td>-0.165818</td>\n",
       "      <td>0.139812</td>\n",
       "      <td>-0.231720</td>\n",
       "      <td>0.068368</td>\n",
       "      <td>0.204613</td>\n",
       "      <td>0.052021</td>\n",
       "      <td>0.060267</td>\n",
       "      <td>-0.150642</td>\n",
       "      <td>0.059071</td>\n",
       "    </tr>\n",
       "    <tr>\n",
       "      <th>tenure</th>\n",
       "      <td>0.005106</td>\n",
       "      <td>0.016567</td>\n",
       "      <td>0.379697</td>\n",
       "      <td>0.159712</td>\n",
       "      <td>1.000000</td>\n",
       "      <td>0.008448</td>\n",
       "      <td>0.331941</td>\n",
       "      <td>0.263746</td>\n",
       "      <td>0.312694</td>\n",
       "      <td>0.312740</td>\n",
       "      <td>...</td>\n",
       "      <td>0.013274</td>\n",
       "      <td>0.019720</td>\n",
       "      <td>-0.039062</td>\n",
       "      <td>-0.645561</td>\n",
       "      <td>0.202570</td>\n",
       "      <td>0.558533</td>\n",
       "      <td>0.243510</td>\n",
       "      <td>0.233006</td>\n",
       "      <td>-0.208363</td>\n",
       "      <td>-0.233852</td>\n",
       "    </tr>\n",
       "    <tr>\n",
       "      <th>PhoneService</th>\n",
       "      <td>-0.006488</td>\n",
       "      <td>0.008576</td>\n",
       "      <td>0.017706</td>\n",
       "      <td>-0.001762</td>\n",
       "      <td>0.008448</td>\n",
       "      <td>1.000000</td>\n",
       "      <td>0.279690</td>\n",
       "      <td>0.057880</td>\n",
       "      <td>0.092867</td>\n",
       "      <td>0.074776</td>\n",
       "      <td>...</td>\n",
       "      <td>-0.452425</td>\n",
       "      <td>0.289999</td>\n",
       "      <td>0.172209</td>\n",
       "      <td>-0.000742</td>\n",
       "      <td>-0.002791</td>\n",
       "      <td>0.003519</td>\n",
       "      <td>0.007556</td>\n",
       "      <td>-0.007721</td>\n",
       "      <td>0.003062</td>\n",
       "      <td>-0.003319</td>\n",
       "    </tr>\n",
       "    <tr>\n",
       "      <th>MultipleLines</th>\n",
       "      <td>-0.008414</td>\n",
       "      <td>0.142948</td>\n",
       "      <td>0.142057</td>\n",
       "      <td>-0.024526</td>\n",
       "      <td>0.331941</td>\n",
       "      <td>0.279690</td>\n",
       "      <td>1.000000</td>\n",
       "      <td>-0.084766</td>\n",
       "      <td>0.018908</td>\n",
       "      <td>0.017718</td>\n",
       "      <td>...</td>\n",
       "      <td>-0.199920</td>\n",
       "      <td>0.366083</td>\n",
       "      <td>-0.210564</td>\n",
       "      <td>-0.088203</td>\n",
       "      <td>-0.003794</td>\n",
       "      <td>0.106253</td>\n",
       "      <td>0.075527</td>\n",
       "      <td>0.060048</td>\n",
       "      <td>0.083618</td>\n",
       "      <td>-0.227206</td>\n",
       "    </tr>\n",
       "    <tr>\n",
       "      <th>OnlineSecurity</th>\n",
       "      <td>-0.010429</td>\n",
       "      <td>-0.185532</td>\n",
       "      <td>0.129936</td>\n",
       "      <td>0.188434</td>\n",
       "      <td>0.263746</td>\n",
       "      <td>0.057880</td>\n",
       "      <td>-0.084766</td>\n",
       "      <td>1.000000</td>\n",
       "      <td>0.378468</td>\n",
       "      <td>0.371808</td>\n",
       "      <td>...</td>\n",
       "      <td>-0.023066</td>\n",
       "      <td>-0.411561</td>\n",
       "      <td>0.522429</td>\n",
       "      <td>-0.403255</td>\n",
       "      <td>0.121904</td>\n",
       "      <td>0.353300</td>\n",
       "      <td>0.084322</td>\n",
       "      <td>0.105510</td>\n",
       "      <td>-0.336364</td>\n",
       "      <td>0.191715</td>\n",
       "    </tr>\n",
       "    <tr>\n",
       "      <th>OnlineBackup</th>\n",
       "      <td>-0.008191</td>\n",
       "      <td>-0.087952</td>\n",
       "      <td>0.136058</td>\n",
       "      <td>0.138756</td>\n",
       "      <td>0.312694</td>\n",
       "      <td>0.092867</td>\n",
       "      <td>0.018908</td>\n",
       "      <td>0.378468</td>\n",
       "      <td>1.000000</td>\n",
       "      <td>0.361488</td>\n",
       "      <td>...</td>\n",
       "      <td>-0.164783</td>\n",
       "      <td>-0.228047</td>\n",
       "      <td>0.464720</td>\n",
       "      <td>-0.338796</td>\n",
       "      <td>0.111755</td>\n",
       "      <td>0.287944</td>\n",
       "      <td>0.081590</td>\n",
       "      <td>0.087822</td>\n",
       "      <td>-0.236947</td>\n",
       "      <td>0.099975</td>\n",
       "    </tr>\n",
       "    <tr>\n",
       "      <th>DeviceProtection</th>\n",
       "      <td>0.002988</td>\n",
       "      <td>-0.094810</td>\n",
       "      <td>0.147692</td>\n",
       "      <td>0.129415</td>\n",
       "      <td>0.312740</td>\n",
       "      <td>0.074776</td>\n",
       "      <td>0.017718</td>\n",
       "      <td>0.371808</td>\n",
       "      <td>0.361488</td>\n",
       "      <td>1.000000</td>\n",
       "      <td>...</td>\n",
       "      <td>-0.175942</td>\n",
       "      <td>-0.218148</td>\n",
       "      <td>0.465658</td>\n",
       "      <td>-0.397454</td>\n",
       "      <td>0.129639</td>\n",
       "      <td>0.339190</td>\n",
       "      <td>0.077791</td>\n",
       "      <td>0.107618</td>\n",
       "      <td>-0.239705</td>\n",
       "      <td>0.087422</td>\n",
       "    </tr>\n",
       "    <tr>\n",
       "      <th>TechSupport</th>\n",
       "      <td>-0.003397</td>\n",
       "      <td>-0.205620</td>\n",
       "      <td>0.109443</td>\n",
       "      <td>0.172645</td>\n",
       "      <td>0.262143</td>\n",
       "      <td>0.054447</td>\n",
       "      <td>-0.082211</td>\n",
       "      <td>0.470359</td>\n",
       "      <td>0.385341</td>\n",
       "      <td>0.419892</td>\n",
       "      <td>...</td>\n",
       "      <td>-0.029402</td>\n",
       "      <td>-0.402430</td>\n",
       "      <td>0.518733</td>\n",
       "      <td>-0.439110</td>\n",
       "      <td>0.118262</td>\n",
       "      <td>0.398490</td>\n",
       "      <td>0.090177</td>\n",
       "      <td>0.107310</td>\n",
       "      <td>-0.339031</td>\n",
       "      <td>0.187185</td>\n",
       "    </tr>\n",
       "    <tr>\n",
       "      <th>StreamingTV</th>\n",
       "      <td>-0.003267</td>\n",
       "      <td>-0.049062</td>\n",
       "      <td>0.124357</td>\n",
       "      <td>0.101176</td>\n",
       "      <td>0.245039</td>\n",
       "      <td>0.122455</td>\n",
       "      <td>0.078300</td>\n",
       "      <td>0.257699</td>\n",
       "      <td>0.316689</td>\n",
       "      <td>0.420720</td>\n",
       "      <td>...</td>\n",
       "      <td>-0.304062</td>\n",
       "      <td>-0.064707</td>\n",
       "      <td>0.428504</td>\n",
       "      <td>-0.295479</td>\n",
       "      <td>0.093177</td>\n",
       "      <td>0.255209</td>\n",
       "      <td>0.044168</td>\n",
       "      <td>0.041031</td>\n",
       "      <td>-0.096033</td>\n",
       "      <td>0.024261</td>\n",
       "    </tr>\n",
       "    <tr>\n",
       "      <th>StreamingMovies</th>\n",
       "      <td>-0.005374</td>\n",
       "      <td>-0.034210</td>\n",
       "      <td>0.117529</td>\n",
       "      <td>0.078198</td>\n",
       "      <td>0.252220</td>\n",
       "      <td>0.112254</td>\n",
       "      <td>0.080450</td>\n",
       "      <td>0.265304</td>\n",
       "      <td>0.307200</td>\n",
       "      <td>0.429545</td>\n",
       "      <td>...</td>\n",
       "      <td>-0.295107</td>\n",
       "      <td>-0.070650</td>\n",
       "      <td>0.425339</td>\n",
       "      <td>-0.300457</td>\n",
       "      <td>0.096726</td>\n",
       "      <td>0.257625</td>\n",
       "      <td>0.046705</td>\n",
       "      <td>0.049277</td>\n",
       "      <td>-0.102571</td>\n",
       "      <td>0.021034</td>\n",
       "    </tr>\n",
       "    <tr>\n",
       "      <th>PaperlessBilling</th>\n",
       "      <td>-0.011754</td>\n",
       "      <td>0.156530</td>\n",
       "      <td>-0.014877</td>\n",
       "      <td>-0.111377</td>\n",
       "      <td>0.006152</td>\n",
       "      <td>0.016505</td>\n",
       "      <td>0.163530</td>\n",
       "      <td>-0.267793</td>\n",
       "      <td>-0.145120</td>\n",
       "      <td>-0.167121</td>\n",
       "      <td>...</td>\n",
       "      <td>-0.063121</td>\n",
       "      <td>0.326853</td>\n",
       "      <td>-0.321013</td>\n",
       "      <td>0.169096</td>\n",
       "      <td>-0.051391</td>\n",
       "      <td>-0.147889</td>\n",
       "      <td>-0.016332</td>\n",
       "      <td>-0.013589</td>\n",
       "      <td>0.208865</td>\n",
       "      <td>-0.205398</td>\n",
       "    </tr>\n",
       "    <tr>\n",
       "      <th>MonthlyCharges</th>\n",
       "      <td>-0.014569</td>\n",
       "      <td>0.220173</td>\n",
       "      <td>0.096848</td>\n",
       "      <td>-0.113890</td>\n",
       "      <td>0.247900</td>\n",
       "      <td>0.247398</td>\n",
       "      <td>0.490434</td>\n",
       "      <td>-0.360898</td>\n",
       "      <td>-0.210753</td>\n",
       "      <td>-0.171836</td>\n",
       "      <td>...</td>\n",
       "      <td>-0.160189</td>\n",
       "      <td>0.787066</td>\n",
       "      <td>-0.763557</td>\n",
       "      <td>0.060165</td>\n",
       "      <td>0.004904</td>\n",
       "      <td>-0.074681</td>\n",
       "      <td>0.042812</td>\n",
       "      <td>0.030550</td>\n",
       "      <td>0.271625</td>\n",
       "      <td>-0.377437</td>\n",
       "    </tr>\n",
       "    <tr>\n",
       "      <th>Churn</th>\n",
       "      <td>-0.008612</td>\n",
       "      <td>0.150889</td>\n",
       "      <td>-0.150448</td>\n",
       "      <td>-0.164221</td>\n",
       "      <td>-0.352229</td>\n",
       "      <td>0.011942</td>\n",
       "      <td>0.040102</td>\n",
       "      <td>-0.342637</td>\n",
       "      <td>-0.268005</td>\n",
       "      <td>-0.252481</td>\n",
       "      <td>...</td>\n",
       "      <td>-0.124214</td>\n",
       "      <td>0.308020</td>\n",
       "      <td>-0.227890</td>\n",
       "      <td>0.405103</td>\n",
       "      <td>-0.177820</td>\n",
       "      <td>-0.302253</td>\n",
       "      <td>-0.117937</td>\n",
       "      <td>-0.134302</td>\n",
       "      <td>0.301919</td>\n",
       "      <td>-0.091683</td>\n",
       "    </tr>\n",
       "    <tr>\n",
       "      <th>DSL</th>\n",
       "      <td>0.006568</td>\n",
       "      <td>-0.108322</td>\n",
       "      <td>-0.000851</td>\n",
       "      <td>0.052010</td>\n",
       "      <td>0.013274</td>\n",
       "      <td>-0.452425</td>\n",
       "      <td>-0.199920</td>\n",
       "      <td>-0.023066</td>\n",
       "      <td>-0.164783</td>\n",
       "      <td>-0.175942</td>\n",
       "      <td>...</td>\n",
       "      <td>1.000000</td>\n",
       "      <td>-0.640987</td>\n",
       "      <td>-0.380635</td>\n",
       "      <td>-0.065509</td>\n",
       "      <td>0.046795</td>\n",
       "      <td>0.031714</td>\n",
       "      <td>0.025476</td>\n",
       "      <td>0.051438</td>\n",
       "      <td>-0.104418</td>\n",
       "      <td>0.041899</td>\n",
       "    </tr>\n",
       "    <tr>\n",
       "      <th>Fiber optic</th>\n",
       "      <td>-0.011286</td>\n",
       "      <td>0.255338</td>\n",
       "      <td>0.000304</td>\n",
       "      <td>-0.165818</td>\n",
       "      <td>0.019720</td>\n",
       "      <td>0.289999</td>\n",
       "      <td>0.366083</td>\n",
       "      <td>-0.411561</td>\n",
       "      <td>-0.228047</td>\n",
       "      <td>-0.218148</td>\n",
       "      <td>...</td>\n",
       "      <td>-0.640987</td>\n",
       "      <td>1.000000</td>\n",
       "      <td>-0.465793</td>\n",
       "      <td>0.244164</td>\n",
       "      <td>-0.076324</td>\n",
       "      <td>-0.211526</td>\n",
       "      <td>-0.022624</td>\n",
       "      <td>-0.050077</td>\n",
       "      <td>0.336410</td>\n",
       "      <td>-0.306834</td>\n",
       "    </tr>\n",
       "    <tr>\n",
       "      <th>No</th>\n",
       "      <td>0.006026</td>\n",
       "      <td>-0.182742</td>\n",
       "      <td>0.000615</td>\n",
       "      <td>0.139812</td>\n",
       "      <td>-0.039062</td>\n",
       "      <td>0.172209</td>\n",
       "      <td>-0.210564</td>\n",
       "      <td>0.522429</td>\n",
       "      <td>0.464720</td>\n",
       "      <td>0.465658</td>\n",
       "      <td>...</td>\n",
       "      <td>-0.380635</td>\n",
       "      <td>-0.465793</td>\n",
       "      <td>1.000000</td>\n",
       "      <td>-0.218639</td>\n",
       "      <td>0.038004</td>\n",
       "      <td>0.218278</td>\n",
       "      <td>-0.002113</td>\n",
       "      <td>0.001030</td>\n",
       "      <td>-0.284917</td>\n",
       "      <td>0.321361</td>\n",
       "    </tr>\n",
       "    <tr>\n",
       "      <th>Month-to-month</th>\n",
       "      <td>-0.003386</td>\n",
       "      <td>0.138360</td>\n",
       "      <td>-0.280865</td>\n",
       "      <td>-0.231720</td>\n",
       "      <td>-0.645561</td>\n",
       "      <td>-0.000742</td>\n",
       "      <td>-0.088203</td>\n",
       "      <td>-0.403255</td>\n",
       "      <td>-0.338796</td>\n",
       "      <td>-0.397454</td>\n",
       "      <td>...</td>\n",
       "      <td>-0.065509</td>\n",
       "      <td>0.244164</td>\n",
       "      <td>-0.218639</td>\n",
       "      <td>1.000000</td>\n",
       "      <td>-0.568744</td>\n",
       "      <td>-0.622633</td>\n",
       "      <td>-0.179707</td>\n",
       "      <td>-0.204145</td>\n",
       "      <td>0.331661</td>\n",
       "      <td>0.004138</td>\n",
       "    </tr>\n",
       "    <tr>\n",
       "      <th>One year</th>\n",
       "      <td>0.008026</td>\n",
       "      <td>-0.046262</td>\n",
       "      <td>0.082783</td>\n",
       "      <td>0.068368</td>\n",
       "      <td>0.202570</td>\n",
       "      <td>-0.002791</td>\n",
       "      <td>-0.003794</td>\n",
       "      <td>0.121904</td>\n",
       "      <td>0.111755</td>\n",
       "      <td>0.129639</td>\n",
       "      <td>...</td>\n",
       "      <td>0.046795</td>\n",
       "      <td>-0.076324</td>\n",
       "      <td>0.038004</td>\n",
       "      <td>-0.568744</td>\n",
       "      <td>1.000000</td>\n",
       "      <td>-0.289510</td>\n",
       "      <td>0.057451</td>\n",
       "      <td>0.067589</td>\n",
       "      <td>-0.109130</td>\n",
       "      <td>-0.000116</td>\n",
       "    </tr>\n",
       "    <tr>\n",
       "      <th>Two year</th>\n",
       "      <td>-0.003695</td>\n",
       "      <td>-0.117000</td>\n",
       "      <td>0.248091</td>\n",
       "      <td>0.204613</td>\n",
       "      <td>0.558533</td>\n",
       "      <td>0.003519</td>\n",
       "      <td>0.106253</td>\n",
       "      <td>0.353300</td>\n",
       "      <td>0.287944</td>\n",
       "      <td>0.339190</td>\n",
       "      <td>...</td>\n",
       "      <td>0.031714</td>\n",
       "      <td>-0.211526</td>\n",
       "      <td>0.218278</td>\n",
       "      <td>-0.622633</td>\n",
       "      <td>-0.289510</td>\n",
       "      <td>1.000000</td>\n",
       "      <td>0.154471</td>\n",
       "      <td>0.173265</td>\n",
       "      <td>-0.282138</td>\n",
       "      <td>-0.004705</td>\n",
       "    </tr>\n",
       "    <tr>\n",
       "      <th>Bank transfer (automatic)</th>\n",
       "      <td>-0.016024</td>\n",
       "      <td>-0.016159</td>\n",
       "      <td>0.110706</td>\n",
       "      <td>0.052021</td>\n",
       "      <td>0.243510</td>\n",
       "      <td>0.007556</td>\n",
       "      <td>0.075527</td>\n",
       "      <td>0.084322</td>\n",
       "      <td>0.081590</td>\n",
       "      <td>0.077791</td>\n",
       "      <td>...</td>\n",
       "      <td>0.025476</td>\n",
       "      <td>-0.022624</td>\n",
       "      <td>-0.002113</td>\n",
       "      <td>-0.179707</td>\n",
       "      <td>0.057451</td>\n",
       "      <td>0.154471</td>\n",
       "      <td>1.000000</td>\n",
       "      <td>-0.278215</td>\n",
       "      <td>-0.376762</td>\n",
       "      <td>-0.288685</td>\n",
       "    </tr>\n",
       "    <tr>\n",
       "      <th>Credit card (automatic)</th>\n",
       "      <td>0.001215</td>\n",
       "      <td>-0.024135</td>\n",
       "      <td>0.082029</td>\n",
       "      <td>0.060267</td>\n",
       "      <td>0.233006</td>\n",
       "      <td>-0.007721</td>\n",
       "      <td>0.060048</td>\n",
       "      <td>0.105510</td>\n",
       "      <td>0.087822</td>\n",
       "      <td>0.107618</td>\n",
       "      <td>...</td>\n",
       "      <td>0.051438</td>\n",
       "      <td>-0.050077</td>\n",
       "      <td>0.001030</td>\n",
       "      <td>-0.204145</td>\n",
       "      <td>0.067589</td>\n",
       "      <td>0.173265</td>\n",
       "      <td>-0.278215</td>\n",
       "      <td>1.000000</td>\n",
       "      <td>-0.373322</td>\n",
       "      <td>-0.286049</td>\n",
       "    </tr>\n",
       "    <tr>\n",
       "      <th>Electronic check</th>\n",
       "      <td>0.000752</td>\n",
       "      <td>0.171718</td>\n",
       "      <td>-0.083852</td>\n",
       "      <td>-0.150642</td>\n",
       "      <td>-0.208363</td>\n",
       "      <td>0.003062</td>\n",
       "      <td>0.083618</td>\n",
       "      <td>-0.336364</td>\n",
       "      <td>-0.236947</td>\n",
       "      <td>-0.239705</td>\n",
       "      <td>...</td>\n",
       "      <td>-0.104418</td>\n",
       "      <td>0.336410</td>\n",
       "      <td>-0.284917</td>\n",
       "      <td>0.331661</td>\n",
       "      <td>-0.109130</td>\n",
       "      <td>-0.282138</td>\n",
       "      <td>-0.376762</td>\n",
       "      <td>-0.373322</td>\n",
       "      <td>1.000000</td>\n",
       "      <td>-0.387372</td>\n",
       "    </tr>\n",
       "    <tr>\n",
       "      <th>Mailed check</th>\n",
       "      <td>0.013744</td>\n",
       "      <td>-0.153477</td>\n",
       "      <td>-0.095125</td>\n",
       "      <td>0.059071</td>\n",
       "      <td>-0.233852</td>\n",
       "      <td>-0.003319</td>\n",
       "      <td>-0.227206</td>\n",
       "      <td>0.191715</td>\n",
       "      <td>0.099975</td>\n",
       "      <td>0.087422</td>\n",
       "      <td>...</td>\n",
       "      <td>0.041899</td>\n",
       "      <td>-0.306834</td>\n",
       "      <td>0.321361</td>\n",
       "      <td>0.004138</td>\n",
       "      <td>-0.000116</td>\n",
       "      <td>-0.004705</td>\n",
       "      <td>-0.288685</td>\n",
       "      <td>-0.286049</td>\n",
       "      <td>-0.387372</td>\n",
       "      <td>1.000000</td>\n",
       "    </tr>\n",
       "  </tbody>\n",
       "</table>\n",
       "<p>26 rows × 26 columns</p>\n",
       "</div>"
      ],
      "text/plain": [
       "                             gender  SeniorCitizen   Partner  Dependents  \\\n",
       "gender                     1.000000      -0.001874 -0.001808    0.010517   \n",
       "SeniorCitizen             -0.001874       1.000000  0.016479   -0.211185   \n",
       "Partner                   -0.001808       0.016479  1.000000    0.452676   \n",
       "Dependents                 0.010517      -0.211185  0.452676    1.000000   \n",
       "tenure                     0.005106       0.016567  0.379697    0.159712   \n",
       "PhoneService              -0.006488       0.008576  0.017706   -0.001762   \n",
       "MultipleLines             -0.008414       0.142948  0.142057   -0.024526   \n",
       "OnlineSecurity            -0.010429      -0.185532  0.129936    0.188434   \n",
       "OnlineBackup              -0.008191      -0.087952  0.136058    0.138756   \n",
       "DeviceProtection           0.002988      -0.094810  0.147692    0.129415   \n",
       "TechSupport               -0.003397      -0.205620  0.109443    0.172645   \n",
       "StreamingTV               -0.003267      -0.049062  0.124357    0.101176   \n",
       "StreamingMovies           -0.005374      -0.034210  0.117529    0.078198   \n",
       "PaperlessBilling          -0.011754       0.156530 -0.014877   -0.111377   \n",
       "MonthlyCharges            -0.014569       0.220173  0.096848   -0.113890   \n",
       "Churn                     -0.008612       0.150889 -0.150448   -0.164221   \n",
       "DSL                        0.006568      -0.108322 -0.000851    0.052010   \n",
       "Fiber optic               -0.011286       0.255338  0.000304   -0.165818   \n",
       "No                         0.006026      -0.182742  0.000615    0.139812   \n",
       "Month-to-month            -0.003386       0.138360 -0.280865   -0.231720   \n",
       "One year                   0.008026      -0.046262  0.082783    0.068368   \n",
       "Two year                  -0.003695      -0.117000  0.248091    0.204613   \n",
       "Bank transfer (automatic) -0.016024      -0.016159  0.110706    0.052021   \n",
       "Credit card (automatic)    0.001215      -0.024135  0.082029    0.060267   \n",
       "Electronic check           0.000752       0.171718 -0.083852   -0.150642   \n",
       "Mailed check               0.013744      -0.153477 -0.095125    0.059071   \n",
       "\n",
       "                             tenure  PhoneService  MultipleLines  \\\n",
       "gender                     0.005106     -0.006488      -0.008414   \n",
       "SeniorCitizen              0.016567      0.008576       0.142948   \n",
       "Partner                    0.379697      0.017706       0.142057   \n",
       "Dependents                 0.159712     -0.001762      -0.024526   \n",
       "tenure                     1.000000      0.008448       0.331941   \n",
       "PhoneService               0.008448      1.000000       0.279690   \n",
       "MultipleLines              0.331941      0.279690       1.000000   \n",
       "OnlineSecurity             0.263746      0.057880      -0.084766   \n",
       "OnlineBackup               0.312694      0.092867       0.018908   \n",
       "DeviceProtection           0.312740      0.074776       0.017718   \n",
       "TechSupport                0.262143      0.054447      -0.082211   \n",
       "StreamingTV                0.245039      0.122455       0.078300   \n",
       "StreamingMovies            0.252220      0.112254       0.080450   \n",
       "PaperlessBilling           0.006152      0.016505       0.163530   \n",
       "MonthlyCharges             0.247900      0.247398       0.490434   \n",
       "Churn                     -0.352229      0.011942       0.040102   \n",
       "DSL                        0.013274     -0.452425      -0.199920   \n",
       "Fiber optic                0.019720      0.289999       0.366083   \n",
       "No                        -0.039062      0.172209      -0.210564   \n",
       "Month-to-month            -0.645561     -0.000742      -0.088203   \n",
       "One year                   0.202570     -0.002791      -0.003794   \n",
       "Two year                   0.558533      0.003519       0.106253   \n",
       "Bank transfer (automatic)  0.243510      0.007556       0.075527   \n",
       "Credit card (automatic)    0.233006     -0.007721       0.060048   \n",
       "Electronic check          -0.208363      0.003062       0.083618   \n",
       "Mailed check              -0.233852     -0.003319      -0.227206   \n",
       "\n",
       "                           OnlineSecurity  OnlineBackup  DeviceProtection  \\\n",
       "gender                          -0.010429     -0.008191          0.002988   \n",
       "SeniorCitizen                   -0.185532     -0.087952         -0.094810   \n",
       "Partner                          0.129936      0.136058          0.147692   \n",
       "Dependents                       0.188434      0.138756          0.129415   \n",
       "tenure                           0.263746      0.312694          0.312740   \n",
       "PhoneService                     0.057880      0.092867          0.074776   \n",
       "MultipleLines                   -0.084766      0.018908          0.017718   \n",
       "OnlineSecurity                   1.000000      0.378468          0.371808   \n",
       "OnlineBackup                     0.378468      1.000000          0.361488   \n",
       "DeviceProtection                 0.371808      0.361488          1.000000   \n",
       "TechSupport                      0.470359      0.385341          0.419892   \n",
       "StreamingTV                      0.257699      0.316689          0.420720   \n",
       "StreamingMovies                  0.265304      0.307200          0.429545   \n",
       "PaperlessBilling                -0.267793     -0.145120         -0.167121   \n",
       "MonthlyCharges                  -0.360898     -0.210753         -0.171836   \n",
       "Churn                           -0.342637     -0.268005         -0.252481   \n",
       "DSL                             -0.023066     -0.164783         -0.175942   \n",
       "Fiber optic                     -0.411561     -0.228047         -0.218148   \n",
       "No                               0.522429      0.464720          0.465658   \n",
       "Month-to-month                  -0.403255     -0.338796         -0.397454   \n",
       "One year                         0.121904      0.111755          0.129639   \n",
       "Two year                         0.353300      0.287944          0.339190   \n",
       "Bank transfer (automatic)        0.084322      0.081590          0.077791   \n",
       "Credit card (automatic)          0.105510      0.087822          0.107618   \n",
       "Electronic check                -0.336364     -0.236947         -0.239705   \n",
       "Mailed check                     0.191715      0.099975          0.087422   \n",
       "\n",
       "                               ...            DSL  Fiber optic        No  \\\n",
       "gender                         ...       0.006568    -0.011286  0.006026   \n",
       "SeniorCitizen                  ...      -0.108322     0.255338 -0.182742   \n",
       "Partner                        ...      -0.000851     0.000304  0.000615   \n",
       "Dependents                     ...       0.052010    -0.165818  0.139812   \n",
       "tenure                         ...       0.013274     0.019720 -0.039062   \n",
       "PhoneService                   ...      -0.452425     0.289999  0.172209   \n",
       "MultipleLines                  ...      -0.199920     0.366083 -0.210564   \n",
       "OnlineSecurity                 ...      -0.023066    -0.411561  0.522429   \n",
       "OnlineBackup                   ...      -0.164783    -0.228047  0.464720   \n",
       "DeviceProtection               ...      -0.175942    -0.218148  0.465658   \n",
       "TechSupport                    ...      -0.029402    -0.402430  0.518733   \n",
       "StreamingTV                    ...      -0.304062    -0.064707  0.428504   \n",
       "StreamingMovies                ...      -0.295107    -0.070650  0.425339   \n",
       "PaperlessBilling               ...      -0.063121     0.326853 -0.321013   \n",
       "MonthlyCharges                 ...      -0.160189     0.787066 -0.763557   \n",
       "Churn                          ...      -0.124214     0.308020 -0.227890   \n",
       "DSL                            ...       1.000000    -0.640987 -0.380635   \n",
       "Fiber optic                    ...      -0.640987     1.000000 -0.465793   \n",
       "No                             ...      -0.380635    -0.465793  1.000000   \n",
       "Month-to-month                 ...      -0.065509     0.244164 -0.218639   \n",
       "One year                       ...       0.046795    -0.076324  0.038004   \n",
       "Two year                       ...       0.031714    -0.211526  0.218278   \n",
       "Bank transfer (automatic)      ...       0.025476    -0.022624 -0.002113   \n",
       "Credit card (automatic)        ...       0.051438    -0.050077  0.001030   \n",
       "Electronic check               ...      -0.104418     0.336410 -0.284917   \n",
       "Mailed check                   ...       0.041899    -0.306834  0.321361   \n",
       "\n",
       "                           Month-to-month  One year  Two year  \\\n",
       "gender                          -0.003386  0.008026 -0.003695   \n",
       "SeniorCitizen                    0.138360 -0.046262 -0.117000   \n",
       "Partner                         -0.280865  0.082783  0.248091   \n",
       "Dependents                      -0.231720  0.068368  0.204613   \n",
       "tenure                          -0.645561  0.202570  0.558533   \n",
       "PhoneService                    -0.000742 -0.002791  0.003519   \n",
       "MultipleLines                   -0.088203 -0.003794  0.106253   \n",
       "OnlineSecurity                  -0.403255  0.121904  0.353300   \n",
       "OnlineBackup                    -0.338796  0.111755  0.287944   \n",
       "DeviceProtection                -0.397454  0.129639  0.339190   \n",
       "TechSupport                     -0.439110  0.118262  0.398490   \n",
       "StreamingTV                     -0.295479  0.093177  0.255209   \n",
       "StreamingMovies                 -0.300457  0.096726  0.257625   \n",
       "PaperlessBilling                 0.169096 -0.051391 -0.147889   \n",
       "MonthlyCharges                   0.060165  0.004904 -0.074681   \n",
       "Churn                            0.405103 -0.177820 -0.302253   \n",
       "DSL                             -0.065509  0.046795  0.031714   \n",
       "Fiber optic                      0.244164 -0.076324 -0.211526   \n",
       "No                              -0.218639  0.038004  0.218278   \n",
       "Month-to-month                   1.000000 -0.568744 -0.622633   \n",
       "One year                        -0.568744  1.000000 -0.289510   \n",
       "Two year                        -0.622633 -0.289510  1.000000   \n",
       "Bank transfer (automatic)       -0.179707  0.057451  0.154471   \n",
       "Credit card (automatic)         -0.204145  0.067589  0.173265   \n",
       "Electronic check                 0.331661 -0.109130 -0.282138   \n",
       "Mailed check                     0.004138 -0.000116 -0.004705   \n",
       "\n",
       "                           Bank transfer (automatic)  Credit card (automatic)  \\\n",
       "gender                                     -0.016024                 0.001215   \n",
       "SeniorCitizen                              -0.016159                -0.024135   \n",
       "Partner                                     0.110706                 0.082029   \n",
       "Dependents                                  0.052021                 0.060267   \n",
       "tenure                                      0.243510                 0.233006   \n",
       "PhoneService                                0.007556                -0.007721   \n",
       "MultipleLines                               0.075527                 0.060048   \n",
       "OnlineSecurity                              0.084322                 0.105510   \n",
       "OnlineBackup                                0.081590                 0.087822   \n",
       "DeviceProtection                            0.077791                 0.107618   \n",
       "TechSupport                                 0.090177                 0.107310   \n",
       "StreamingTV                                 0.044168                 0.041031   \n",
       "StreamingMovies                             0.046705                 0.049277   \n",
       "PaperlessBilling                           -0.016332                -0.013589   \n",
       "MonthlyCharges                              0.042812                 0.030550   \n",
       "Churn                                      -0.117937                -0.134302   \n",
       "DSL                                         0.025476                 0.051438   \n",
       "Fiber optic                                -0.022624                -0.050077   \n",
       "No                                         -0.002113                 0.001030   \n",
       "Month-to-month                             -0.179707                -0.204145   \n",
       "One year                                    0.057451                 0.067589   \n",
       "Two year                                    0.154471                 0.173265   \n",
       "Bank transfer (automatic)                   1.000000                -0.278215   \n",
       "Credit card (automatic)                    -0.278215                 1.000000   \n",
       "Electronic check                           -0.376762                -0.373322   \n",
       "Mailed check                               -0.288685                -0.286049   \n",
       "\n",
       "                           Electronic check  Mailed check  \n",
       "gender                             0.000752      0.013744  \n",
       "SeniorCitizen                      0.171718     -0.153477  \n",
       "Partner                           -0.083852     -0.095125  \n",
       "Dependents                        -0.150642      0.059071  \n",
       "tenure                            -0.208363     -0.233852  \n",
       "PhoneService                       0.003062     -0.003319  \n",
       "MultipleLines                      0.083618     -0.227206  \n",
       "OnlineSecurity                    -0.336364      0.191715  \n",
       "OnlineBackup                      -0.236947      0.099975  \n",
       "DeviceProtection                  -0.239705      0.087422  \n",
       "TechSupport                       -0.339031      0.187185  \n",
       "StreamingTV                       -0.096033      0.024261  \n",
       "StreamingMovies                   -0.102571      0.021034  \n",
       "PaperlessBilling                   0.208865     -0.205398  \n",
       "MonthlyCharges                     0.271625     -0.377437  \n",
       "Churn                              0.301919     -0.091683  \n",
       "DSL                               -0.104418      0.041899  \n",
       "Fiber optic                        0.336410     -0.306834  \n",
       "No                                -0.284917      0.321361  \n",
       "Month-to-month                     0.331661      0.004138  \n",
       "One year                          -0.109130     -0.000116  \n",
       "Two year                          -0.282138     -0.004705  \n",
       "Bank transfer (automatic)         -0.376762     -0.288685  \n",
       "Credit card (automatic)           -0.373322     -0.286049  \n",
       "Electronic check                   1.000000     -0.387372  \n",
       "Mailed check                      -0.387372      1.000000  \n",
       "\n",
       "[26 rows x 26 columns]"
      ]
     },
     "execution_count": 30,
     "metadata": {},
     "output_type": "execute_result"
    }
   ],
   "source": [
    "s=customer.corr()\n",
    "s"
   ]
  },
  {
   "cell_type": "code",
   "execution_count": 31,
   "metadata": {
    "collapsed": false
   },
   "outputs": [
    {
     "name": "stdout",
     "output_type": "stream",
     "text": [
      "No              MonthlyCharges   -0.763557\n",
      "MonthlyCharges  No               -0.763557\n",
      "tenure          Month-to-month   -0.645561\n",
      "Month-to-month  tenure           -0.645561\n",
      "Fiber optic     DSL              -0.640987\n",
      "dtype: float64\n"
     ]
    }
   ],
   "source": [
    "\n",
    "s = s.unstack()\n",
    "so = s.sort_values()\n",
    "\n",
    "print (so.head())"
   ]
  },
  {
   "cell_type": "markdown",
   "metadata": {},
   "source": [
    "Highest correlated features: Fiber optic & MonthlyCharges\n",
    "\n",
    "Lowest correlated feature : No internet service & MonthlyCharges\n"
   ]
  },
  {
   "cell_type": "code",
   "execution_count": 32,
   "metadata": {
    "collapsed": false
   },
   "outputs": [
    {
     "data": {
      "text/html": [
       "<div>\n",
       "<style>\n",
       "    .dataframe thead tr:only-child th {\n",
       "        text-align: right;\n",
       "    }\n",
       "\n",
       "    .dataframe thead th {\n",
       "        text-align: left;\n",
       "    }\n",
       "\n",
       "    .dataframe tbody tr th {\n",
       "        vertical-align: top;\n",
       "    }\n",
       "</style>\n",
       "<table border=\"1\" class=\"dataframe\">\n",
       "  <thead>\n",
       "    <tr style=\"text-align: right;\">\n",
       "      <th></th>\n",
       "      <th>gender</th>\n",
       "      <th>SeniorCitizen</th>\n",
       "      <th>Partner</th>\n",
       "      <th>Dependents</th>\n",
       "      <th>tenure</th>\n",
       "      <th>PhoneService</th>\n",
       "      <th>MultipleLines</th>\n",
       "      <th>OnlineSecurity</th>\n",
       "      <th>OnlineBackup</th>\n",
       "      <th>DeviceProtection</th>\n",
       "      <th>...</th>\n",
       "      <th>DSL</th>\n",
       "      <th>Fiber optic</th>\n",
       "      <th>No</th>\n",
       "      <th>Month-to-month</th>\n",
       "      <th>One year</th>\n",
       "      <th>Two year</th>\n",
       "      <th>Bank transfer (automatic)</th>\n",
       "      <th>Credit card (automatic)</th>\n",
       "      <th>Electronic check</th>\n",
       "      <th>Mailed check</th>\n",
       "    </tr>\n",
       "    <tr>\n",
       "      <th>Churn</th>\n",
       "      <th></th>\n",
       "      <th></th>\n",
       "      <th></th>\n",
       "      <th></th>\n",
       "      <th></th>\n",
       "      <th></th>\n",
       "      <th></th>\n",
       "      <th></th>\n",
       "      <th></th>\n",
       "      <th></th>\n",
       "      <th></th>\n",
       "      <th></th>\n",
       "      <th></th>\n",
       "      <th></th>\n",
       "      <th></th>\n",
       "      <th></th>\n",
       "      <th></th>\n",
       "      <th></th>\n",
       "      <th></th>\n",
       "      <th></th>\n",
       "      <th></th>\n",
       "    </tr>\n",
       "  </thead>\n",
       "  <tbody>\n",
       "    <tr>\n",
       "      <th>0</th>\n",
       "      <td>0.507344</td>\n",
       "      <td>0.128721</td>\n",
       "      <td>0.528218</td>\n",
       "      <td>0.344801</td>\n",
       "      <td>37.569965</td>\n",
       "      <td>0.901044</td>\n",
       "      <td>0.409934</td>\n",
       "      <td>0.606301</td>\n",
       "      <td>0.641477</td>\n",
       "      <td>0.635872</td>\n",
       "      <td>...</td>\n",
       "      <td>0.379204</td>\n",
       "      <td>0.347700</td>\n",
       "      <td>0.273096</td>\n",
       "      <td>0.429068</td>\n",
       "      <td>0.252609</td>\n",
       "      <td>0.318322</td>\n",
       "      <td>0.248550</td>\n",
       "      <td>0.249324</td>\n",
       "      <td>0.250097</td>\n",
       "      <td>0.252029</td>\n",
       "    </tr>\n",
       "    <tr>\n",
       "      <th>1</th>\n",
       "      <td>0.497592</td>\n",
       "      <td>0.254682</td>\n",
       "      <td>0.357945</td>\n",
       "      <td>0.174425</td>\n",
       "      <td>17.979133</td>\n",
       "      <td>0.909042</td>\n",
       "      <td>0.454789</td>\n",
       "      <td>0.218299</td>\n",
       "      <td>0.340289</td>\n",
       "      <td>0.352060</td>\n",
       "      <td>...</td>\n",
       "      <td>0.245586</td>\n",
       "      <td>0.693954</td>\n",
       "      <td>0.060460</td>\n",
       "      <td>0.885500</td>\n",
       "      <td>0.088818</td>\n",
       "      <td>0.025682</td>\n",
       "      <td>0.138042</td>\n",
       "      <td>0.124131</td>\n",
       "      <td>0.573034</td>\n",
       "      <td>0.164794</td>\n",
       "    </tr>\n",
       "  </tbody>\n",
       "</table>\n",
       "<p>2 rows × 25 columns</p>\n",
       "</div>"
      ],
      "text/plain": [
       "         gender  SeniorCitizen   Partner  Dependents     tenure  PhoneService  \\\n",
       "Churn                                                                           \n",
       "0      0.507344       0.128721  0.528218    0.344801  37.569965      0.901044   \n",
       "1      0.497592       0.254682  0.357945    0.174425  17.979133      0.909042   \n",
       "\n",
       "       MultipleLines  OnlineSecurity  OnlineBackup  DeviceProtection  \\\n",
       "Churn                                                                  \n",
       "0           0.409934        0.606301      0.641477          0.635872   \n",
       "1           0.454789        0.218299      0.340289          0.352060   \n",
       "\n",
       "           ...            DSL  Fiber optic        No  Month-to-month  \\\n",
       "Churn      ...                                                         \n",
       "0          ...       0.379204     0.347700  0.273096        0.429068   \n",
       "1          ...       0.245586     0.693954  0.060460        0.885500   \n",
       "\n",
       "       One year  Two year  Bank transfer (automatic)  Credit card (automatic)  \\\n",
       "Churn                                                                           \n",
       "0      0.252609  0.318322                   0.248550                 0.249324   \n",
       "1      0.088818  0.025682                   0.138042                 0.124131   \n",
       "\n",
       "       Electronic check  Mailed check  \n",
       "Churn                                  \n",
       "0              0.250097      0.252029  \n",
       "1              0.573034      0.164794  \n",
       "\n",
       "[2 rows x 25 columns]"
      ]
     },
     "execution_count": 32,
     "metadata": {},
     "output_type": "execute_result"
    }
   ],
   "source": [
    "churn_summary=customer.groupby('Churn')\n",
    "churn_summary.mean()"
   ]
  },
  {
   "cell_type": "code",
   "execution_count": 33,
   "metadata": {
    "collapsed": false
   },
   "outputs": [
    {
     "data": {
      "text/plain": [
       "gender                        0.504756\n",
       "SeniorCitizen                 0.162147\n",
       "Partner                       0.483033\n",
       "Dependents                    0.299588\n",
       "tenure                       32.371149\n",
       "PhoneService                  0.903166\n",
       "MultipleLines                 0.421837\n",
       "OnlineSecurity                0.503337\n",
       "OnlineBackup                  0.561550\n",
       "DeviceProtection              0.560557\n",
       "TechSupport                   0.506886\n",
       "StreamingTV                   0.601022\n",
       "StreamingMovies               0.604572\n",
       "PaperlessBilling              0.592219\n",
       "MonthlyCharges               64.761692\n",
       "Churn                         0.265370\n",
       "DSL                           0.343746\n",
       "Fiber optic                   0.439585\n",
       "No                            0.216669\n",
       "Month-to-month                0.550192\n",
       "One year                      0.209144\n",
       "Two year                      0.240664\n",
       "Bank transfer (automatic)     0.219225\n",
       "Credit card (automatic)       0.216101\n",
       "Electronic check              0.335794\n",
       "Mailed check                  0.228880\n",
       "dtype: float64"
      ]
     },
     "execution_count": 33,
     "metadata": {},
     "output_type": "execute_result"
    }
   ],
   "source": [
    "customer.mean()"
   ]
  },
  {
   "cell_type": "markdown",
   "metadata": {},
   "source": [
    "Divided two group of customers: churn vs non churn "
   ]
  },
  {
   "cell_type": "code",
   "execution_count": 34,
   "metadata": {
    "collapsed": true
   },
   "outputs": [],
   "source": [
    "# group 1 : churn\n",
    "churn_pop=customer[(customer['Churn']==1)]\n",
    "# group 2 : non churn\n",
    "notchurn_pop=customer[(customer['Churn' ]!=1)]"
   ]
  },
  {
   "cell_type": "code",
   "execution_count": 35,
   "metadata": {
    "collapsed": true
   },
   "outputs": [],
   "source": [
    "#create variables \n",
    "#length of chrun customers \n",
    "n1 = len(churn_pop)\n",
    "#length of not chrun customers \n",
    "n2 = len(notchurn_pop)\n",
    "#mean of chrun customers \n",
    "mean1= churn_pop.mean()\n",
    "#mean of not chrun customers \n",
    "mean2= notchurn_pop.mean()"
   ]
  },
  {
   "cell_type": "markdown",
   "metadata": {},
   "source": [
    "# Histogram"
   ]
  },
  {
   "cell_type": "code",
   "execution_count": 36,
   "metadata": {
    "collapsed": false
   },
   "outputs": [
    {
     "data": {
      "text/plain": [
       "<matplotlib.text.Text at 0x9830f10>"
      ]
     },
     "execution_count": 36,
     "metadata": {},
     "output_type": "execute_result"
    },
    {
     "data": {
      "image/png": "[encoded data removed]",
      "text/plain": [
       "<matplotlib.figure.Figure at 0x972d3d0>"
      ]
     },
     "metadata": {},
     "output_type": "display_data"
    }
   ],
   "source": [
    "#Graph of entire customer \n",
    "customer['tenure'].plot(kind='hist',color='0.5',bins=25,title='tenure of all customer populartion').set_xlabel('tenure')"
   ]
  },
  {
   "cell_type": "code",
   "execution_count": 37,
   "metadata": {
    "collapsed": false
   },
   "outputs": [
    {
     "data": {
      "text/plain": [
       "<matplotlib.text.Text at 0x94652b0>"
      ]
     },
     "execution_count": 37,
     "metadata": {},
     "output_type": "execute_result"
    },
    {
     "data": {
      "image/png": "[encoded data removed]",
      "text/plain": [
       "<matplotlib.figure.Figure at 0x9758c70>"
      ]
     },
     "metadata": {},
     "output_type": "display_data"
    }
   ],
   "source": [
    "#Graph of entire churn customer \n",
    "churn_pop['tenure'].plot(kind='hist',color='0.5',bins=25,title='tenure of churn customer populartion').set_xlabel('tenure')"
   ]
  },
  {
   "cell_type": "code",
   "execution_count": 38,
   "metadata": {
    "collapsed": false
   },
   "outputs": [
    {
     "data": {
      "text/plain": [
       "<matplotlib.text.Text at 0x973a890>"
      ]
     },
     "execution_count": 38,
     "metadata": {},
     "output_type": "execute_result"
    },
    {
     "data": {
      "image/png": "[encoded data removed]",
      "text/plain": [
       "<matplotlib.figure.Figure at 0x9383cf0>"
      ]
     },
     "metadata": {},
     "output_type": "display_data"
    }
   ],
   "source": [
    "#Graph of entire not churn customer \n",
    "notchurn_pop['tenure'].plot(kind='hist',color='0.5',bins=25,title='tenure of not churn customer populartion').set_xlabel('tenure')"
   ]
  },
  {
   "cell_type": "markdown",
   "metadata": {},
   "source": [
    "# T-TEST"
   ]
  },
  {
   "cell_type": "markdown",
   "metadata": {},
   "source": [
    "The T-Test is one type of inferential statistics. It is used to determine whether there is a significant difference between the means of two groups."
   ]
  },
  {
   "cell_type": "markdown",
   "metadata": {},
   "source": [
    "# One sample test:"
   ]
  },
  {
   "cell_type": "markdown",
   "metadata": {},
   "source": [
    "The One Sample T-Test determines whether the sample mean is statistically different from a known or hypothesized population mean.\n",
    " \n",
    "·         Null Hypothesis:  there is no difference in tenure between churn customers and the customer population.\n",
    "\n",
    "·         Alternate Hypothesis: there is a significant difference in tenure between churn custom"
   ]
  },
  {
   "cell_type": "code",
   "execution_count": 39,
   "metadata": {
    "collapsed": true
   },
   "outputs": [],
   "source": [
    "import scipy.stats as stats\n",
    "from scipy.stats import norm\n",
    "import scipy.stats\n",
    "import math as math\n",
    "\n"
   ]
  },
  {
   "cell_type": "markdown",
   "metadata": {},
   "source": [
    "# Conducting the T-Test"
   ]
  },
  {
   "cell_type": "markdown",
   "metadata": {},
   "source": [
    "At 95% confidence level to test the hypothesis. Stats.ttest_1samp () function is used to conduct one sample T-Test"
   ]
  },
  {
   "cell_type": "code",
   "execution_count": 40,
   "metadata": {
    "collapsed": false
   },
   "outputs": [
    {
     "name": "stdout",
     "output_type": "stream",
     "text": [
      "The mean for the customer population is: 32.3711486582\n",
      "The mean for the Churn customer : 17.9791332263\n"
     ]
    }
   ],
   "source": [
    "emp_population_tenure = customer['tenure'].mean()\n",
    "emp_churn_tenure = customer[customer['Churn']==1]['tenure'].mean()\n",
    "\n",
    "print( 'The mean for the customer population is: ' + str(emp_population_tenure) )\n",
    "print( 'The mean for the Churn customer : ' + str(emp_churn_tenure) )"
   ]
  },
  {
   "cell_type": "code",
   "execution_count": 41,
   "metadata": {
    "collapsed": false
   },
   "outputs": [
    {
     "data": {
      "text/plain": [
       "Ttest_1sampResult(statistic=-31.856572712421674, pvalue=3.0614037111362083e-178)"
      ]
     },
     "execution_count": 41,
     "metadata": {},
     "output_type": "execute_result"
    }
   ],
   "source": [
    "stats.ttest_1samp(a=  customer[customer['Churn']==1]['tenure'], \n",
    "                  popmean = emp_population_tenure) "
   ]
  },
  {
   "cell_type": "markdown",
   "metadata": {},
   "source": [
    " \n",
    "The result the t value is -31.85 , and p value < 0.05. In order to proof that null hypothesis is rejected surely, we calculate degrees of freedom whether the t-statistic is outside of the quantiles of the t-distribution. "
   ]
  },
  {
   "cell_type": "code",
   "execution_count": 42,
   "metadata": {
    "collapsed": false
   },
   "outputs": [
    {
     "name": "stdout",
     "output_type": "stream",
     "text": [
      "The t-distribution left quartile range is: -1.96123406594\n",
      "The t-distribution right quartile range is: 1.96123406594\n"
     ]
    }
   ],
   "source": [
    "degree_freedom = len(customer[customer['Churn']==1])\n",
    "# Left Quartile\n",
    "LeftQ = stats.t.ppf(0.025,degree_freedom) \n",
    " # Right Quartile\n",
    "RightQ = stats.t.ppf(0.975,degree_freedom) \n",
    "\n",
    "print ('The t-distribution left quartile range is: ' + str(LeftQ))\n",
    "print ('The t-distribution right quartile range is: ' + str(RightQ))"
   ]
  },
  {
   "cell_type": "code",
   "execution_count": 43,
   "metadata": {
    "collapsed": false
   },
   "outputs": [
    {
     "data": {
      "text/plain": [
       "(17.093332889308954, 18.86493356333952)"
      ]
     },
     "execution_count": 43,
     "metadata": {},
     "output_type": "execute_result"
    }
   ],
   "source": [
    "\n",
    "sigma = customer[customer['Churn']==1]['tenure'].std()/math.sqrt(degree_freedom + 1)  # Sample stdev/sample size\n",
    "\n",
    "stats.t.interval(0.95,                        # Confidence level\n",
    "                 df = degree_freedom,                     # Degrees of freedom\n",
    "                 loc = emp_churn_tenure, # Sample mean\n",
    "                 scale= sigma)"
   ]
  },
  {
   "cell_type": "markdown",
   "metadata": {},
   "source": [
    " \n",
    "The t-statistic is outside of the quantiles of the t-distribution and p value is less than 0.05. Therefore null hypothesis is rejected. "
   ]
  },
  {
   "cell_type": "markdown",
   "metadata": {},
   "source": [
    "# Two Sample test:\n",
    "    "
   ]
  },
  {
   "cell_type": "markdown",
   "metadata": {},
   "source": [
    "---Gender:\n",
    "\n",
    "null hypothesis : there is no different between male and female in customer churn.\n",
    "\n",
    "hypothesis :there is a different between male and female in customer churn.\n",
    "\n",
    "    "
   ]
  },
  {
   "cell_type": "code",
   "execution_count": 44,
   "metadata": {
    "collapsed": false
   },
   "outputs": [
    {
     "data": {
      "text/plain": [
       "Ttest_indResult(statistic=-0.72261049878576156, pvalue=0.46994323541735661)"
      ]
     },
     "execution_count": 44,
     "metadata": {},
     "output_type": "execute_result"
    }
   ],
   "source": [
    "male = customer[customer['gender']==1].Churn\n",
    "female= customer[customer['gender']==0].Churn\n",
    "stats.ttest_ind(male,female,equal_var=False)"
   ]
  },
  {
   "cell_type": "markdown",
   "metadata": {},
   "source": [
    "pvalue<0.05 , so null hypothesis is rejected "
   ]
  },
  {
   "cell_type": "markdown",
   "metadata": {},
   "source": [
    "---Dependent status :\n",
    "\n",
    "\n",
    "null hypothesis : there is no different between dependent and no dependent in customer churn.\n",
    "\n",
    "hypothesis :there is a different between dependent and no dependent in customer churn.\n",
    "    "
   ]
  },
  {
   "cell_type": "code",
   "execution_count": 45,
   "metadata": {
    "collapsed": false
   },
   "outputs": [
    {
     "data": {
      "text/plain": [
       "Ttest_indResult(statistic=-15.409078802902004, pvalue=2.1775286391572522e-52)"
      ]
     },
     "execution_count": 45,
     "metadata": {},
     "output_type": "execute_result"
    }
   ],
   "source": [
    "depent = customer[customer['Dependents']==1].Churn\n",
    "no_depent =customer[customer['Dependents']==0].Churn\n",
    "stats.ttest_ind(depent,no_depent,equal_var=False)"
   ]
  },
  {
   "cell_type": "markdown",
   "metadata": {},
   "source": [
    "pvalue<0.05 , so null hypothesis is rejected "
   ]
  },
  {
   "cell_type": "markdown",
   "metadata": {},
   "source": [
    "---Partner status :\n",
    "\n",
    "\n",
    "\n",
    "null hypothesis : there is no different between partner and no partner in customer churn.\n",
    "\n",
    "hypothesis :there is a different between partner and no partner in customer churn.\n",
    "    "
   ]
  },
  {
   "cell_type": "code",
   "execution_count": 46,
   "metadata": {
    "collapsed": false
   },
   "outputs": [
    {
     "data": {
      "text/plain": [
       "Ttest_indResult(statistic=-12.841725043203832, pvalue=2.529114349220257e-37)"
      ]
     },
     "execution_count": 46,
     "metadata": {},
     "output_type": "execute_result"
    }
   ],
   "source": [
    "partner = customer[customer['Partner']==1].Churn\n",
    "no_partner =customer[customer['Partner']==0].Churn\n",
    "stats.ttest_ind(partner,no_partner,equal_var=False)"
   ]
  },
  {
   "cell_type": "markdown",
   "metadata": {},
   "source": [
    "pvalue<0.05 , so null hypothesis is rejected "
   ]
  },
  {
   "cell_type": "markdown",
   "metadata": {},
   "source": [
    "---senior discount:\n",
    "\n",
    "null hypothesis : there is no different between senior and no senior in customer churn.\n",
    "\n",
    "hypothesis :there is a different between senior and no senior in customer churn."
   ]
  },
  {
   "cell_type": "code",
   "execution_count": 47,
   "metadata": {
    "collapsed": false
   },
   "outputs": [
    {
     "data": {
      "text/plain": [
       "Ttest_indResult(statistic=11.580732091336619, pvalue=9.3643915616853527e-30)"
      ]
     },
     "execution_count": 47,
     "metadata": {},
     "output_type": "execute_result"
    }
   ],
   "source": [
    "Senior = customer[customer['SeniorCitizen']==1].Churn\n",
    "no_Senior =customer[customer['SeniorCitizen']==0].Churn\n",
    "stats.ttest_ind(Senior,no_Senior,equal_var=False)"
   ]
  },
  {
   "cell_type": "markdown",
   "metadata": {},
   "source": [
    "pvalue<0.05 , so null hypothesis is rejected "
   ]
  },
  {
   "cell_type": "markdown",
   "metadata": {},
   "source": [
    "# Conclusion"
   ]
  },
  {
   "cell_type": "markdown",
   "metadata": {},
   "source": [
    "Based on the statistical analysis, statistical significance and practical significance are significantly difference. Although Statistical significance, the correlation coefficient for the tenure and churn is -0.35, which shows that the tenure and the churn has no correlation. However, p value is less than 0.05, there are some significant correlation coefficient between the tenure and the churn. Moreover, we may conduct more tests on other variables from data set in order to determine churn customers, such as gender, dependent, partner, and senior citizen. \n",
    "\n",
    "\n",
    "Demographic factors are the most important factors to analyze customer churn, because of the correlation between demographic and Churn. In gender, there is a different between male and female group. In partner status, there is a different between partner and no partner, no partner has higher percentage churn customers than partner. In dependent status, it is similar with partner, there is also a significant different between no dependent and dependent. Finally, the senior and non-senior also are different in the percentage of churn customers. \n",
    "\n",
    "\n"
   ]
  },
  {
   "cell_type": "markdown",
   "metadata": {
    "collapsed": true
   },
   "source": [
    "# Machine Leaning "
   ]
  },
  {
   "cell_type": "markdown",
   "metadata": {},
   "source": [
    "For this project, we use four model such as Decision Tree Model, AdaBoost Model, Logistic Regression Model, and Random Forest Model"
   ]
  },
  {
   "cell_type": "code",
   "execution_count": 48,
   "metadata": {
    "collapsed": false
   },
   "outputs": [
    {
     "name": "stderr",
     "output_type": "stream",
     "text": [
      "C:\\ProgramData\\Miniconda3\\envs\\tutorial\\lib\\site-packages\\sklearn\\utils\\fixes.py:313: FutureWarning: numpy not_equal will not check object identity in the future. The comparison did not return the same result as suggested by the identity (`is`)) and will change.\n",
      "  _nan_object_mask = _nan_object_array != _nan_object_array\n"
     ]
    }
   ],
   "source": [
    "from sklearn.model_selection import GridSearchCV\n"
   ]
  },
  {
   "cell_type": "markdown",
   "metadata": {},
   "source": [
    "# Base Rate Model"
   ]
  },
  {
   "cell_type": "markdown",
   "metadata": {},
   "source": [
    "•\tBase rate generally refers to the (base) class probabilities unconditioned on evidence, frequently also known as prior probabilities. A Base Rate Model is a model that always selects the majority class which compares to other models. In this project, we compare Churn =0 where are customers who don't churn.\n",
    "\n",
    "•\tIn churn vs not churn customer graph, the percentage of churn customer is 28.5% total customer, and the percentage of non-churn customer is 71.5% total customer. The base rate model would predict every non churn customers and ignore churn customers. \n",
    "\n",
    "•\tExample: The base rate accuracy for this data set, when classifying everything as 0's, would be 71.5% because 71.5% of the dataset are labeled as 0's (not churn customers).\n",
    "\n"
   ]
  },
  {
   "cell_type": "markdown",
   "metadata": {},
   "source": [
    "# Class Imbalance"
   ]
  },
  {
   "cell_type": "markdown",
   "metadata": {},
   "source": [
    "Due to skewed distribution of customers who churn and don’t churn, the data set is an imbalanced problem. Imbalanced data typically refers to a problem with classification problems where the classes are not represented equally. In this case, the conventional model evaluation methods do not accurately measure model performance when faced with imbalanced datasets. We has to know the different errors and concepts.\n",
    "\n",
    "In this type of evaluation: False Positive and False Negative errors.\n",
    "\n",
    "False Positives (Type I Error): You predict that the customers will churn, but do not\n",
    "\n",
    "False Negatives (Type II Error): You predict that the customers will not churn, but does churn\n",
    "\n",
    "In this problem, what type of errors do we care about more? False Positives or False Negatives?\n"
   ]
  },
  {
   "cell_type": "markdown",
   "metadata": {},
   "source": [
    "# Different Ways to Evaluate Classification Models:"
   ]
  },
  {
   "cell_type": "markdown",
   "metadata": {},
   "source": [
    "Due to this project, it is a binary class problem.   Persian and recall is very important , because Precision is sort of like accuracy but it looks only at the data you predicted positive (in this example you’re only looking at data where you predict a churn) and the recall is also sort of like accuracy but it looks only at the data that is “relevant” in some way.\n",
    "\n",
    "Threshold, which is an internal number between 0 and 1 that determines whether a prediction is positive or not. increasing the threshold value above 0.5, it becomes more difficult for a data item to be classified as positive. If you change a binary classifier parameter (the threshold for a logistic regression classifier), it turns out the precision and recall will change. But if the precision increases (your chance of winning your bet), the recall (your number of betting opportunities) will decrease. And vice versa.\n"
   ]
  },
  {
   "cell_type": "markdown",
   "metadata": {},
   "source": [
    "\n",
    "\n",
    "•\tDecision tree models allow you to develop classification systems that predict or classify future observations based on a set of decision rules\n",
    "\n",
    "•\tAdaBoost Model: AdaBoost can be used to boost the performance of any machine learning algorithm. It is best used with weak learners. These are models that achieve accuracy just above random chance on a classification problem.\n",
    "\n",
    "•\tRandom Forest Model: Random Forest grows many classification trees. To classify a new object from an input vector, put the input vector down each of the trees in the forest. "
   ]
  },
  {
   "cell_type": "code",
   "execution_count": 49,
   "metadata": {
    "collapsed": true
   },
   "outputs": [],
   "source": [
    "from sklearn.linear_model import LogisticRegression\n",
    "from sklearn.preprocessing import LabelEncoder\n",
    "from sklearn.model_selection import train_test_split\n",
    "\n",
    "from sklearn.metrics import accuracy_score, classification_report, precision_score, recall_score, confusion_matrix, precision_recall_curve\n",
    "from sklearn.preprocessing import RobustScaler"
   ]
  },
  {
   "cell_type": "code",
   "execution_count": 50,
   "metadata": {
    "collapsed": false
   },
   "outputs": [
    {
     "name": "stdout",
     "output_type": "stream",
     "text": [
      "<class 'pandas.core.frame.DataFrame'>\n",
      "RangeIndex: 7043 entries, 0 to 7042\n",
      "Data columns (total 28 columns):\n",
      "customerID                   7043 non-null object\n",
      "gender                       7043 non-null int32\n",
      "SeniorCitizen                7043 non-null int64\n",
      "Partner                      7043 non-null int64\n",
      "Dependents                   7043 non-null int64\n",
      "tenure                       7043 non-null int64\n",
      "PhoneService                 7043 non-null int64\n",
      "MultipleLines                7043 non-null int64\n",
      "OnlineSecurity               7043 non-null int64\n",
      "OnlineBackup                 7043 non-null int64\n",
      "DeviceProtection             7043 non-null int64\n",
      "TechSupport                  7043 non-null int64\n",
      "StreamingTV                  7043 non-null int64\n",
      "StreamingMovies              7043 non-null int64\n",
      "PaperlessBilling             7043 non-null int64\n",
      "MonthlyCharges               7043 non-null float64\n",
      "TotalCharges                 7043 non-null object\n",
      "Churn                        7043 non-null int64\n",
      "DSL                          7043 non-null uint8\n",
      "Fiber optic                  7043 non-null uint8\n",
      "No                           7043 non-null uint8\n",
      "Month-to-month               7043 non-null uint8\n",
      "One year                     7043 non-null uint8\n",
      "Two year                     7043 non-null uint8\n",
      "Bank transfer (automatic)    7043 non-null uint8\n",
      "Credit card (automatic)      7043 non-null uint8\n",
      "Electronic check             7043 non-null uint8\n",
      "Mailed check                 7043 non-null uint8\n",
      "dtypes: float64(1), int32(1), int64(14), object(2), uint8(10)\n",
      "memory usage: 976.7+ KB\n"
     ]
    }
   ],
   "source": [
    "customer.info()"
   ]
  },
  {
   "cell_type": "code",
   "execution_count": 51,
   "metadata": {
    "collapsed": false
   },
   "outputs": [
    {
     "name": "stdout",
     "output_type": "stream",
     "text": [
      "<class 'pandas.core.frame.DataFrame'>\n",
      "RangeIndex: 7043 entries, 0 to 7042\n",
      "Data columns (total 26 columns):\n",
      "gender                       7043 non-null int32\n",
      "SeniorCitizen                7043 non-null int64\n",
      "Partner                      7043 non-null int64\n",
      "Dependents                   7043 non-null int64\n",
      "tenure                       7043 non-null int64\n",
      "PhoneService                 7043 non-null int64\n",
      "MultipleLines                7043 non-null int64\n",
      "OnlineSecurity               7043 non-null int64\n",
      "OnlineBackup                 7043 non-null int64\n",
      "DeviceProtection             7043 non-null int64\n",
      "TechSupport                  7043 non-null int64\n",
      "StreamingTV                  7043 non-null int64\n",
      "StreamingMovies              7043 non-null int64\n",
      "PaperlessBilling             7043 non-null int64\n",
      "MonthlyCharges               7043 non-null float64\n",
      "Churn                        7043 non-null int64\n",
      "DSL                          7043 non-null uint8\n",
      "Fiber optic                  7043 non-null uint8\n",
      "No                           7043 non-null uint8\n",
      "Month-to-month               7043 non-null uint8\n",
      "One year                     7043 non-null uint8\n",
      "Two year                     7043 non-null uint8\n",
      "Bank transfer (automatic)    7043 non-null uint8\n",
      "Credit card (automatic)      7043 non-null uint8\n",
      "Electronic check             7043 non-null uint8\n",
      "Mailed check                 7043 non-null uint8\n",
      "dtypes: float64(1), int32(1), int64(14), uint8(10)\n",
      "memory usage: 921.7 KB\n"
     ]
    }
   ],
   "source": [
    "new_customer=customer.drop('TotalCharges',axis=1)\n",
    "new_customer=new_customer.drop('customerID',axis=1)\n",
    "new_customer.info()"
   ]
  },
  {
   "cell_type": "code",
   "execution_count": 52,
   "metadata": {
    "collapsed": false
   },
   "outputs": [
    {
     "name": "stdout",
     "output_type": "stream",
     "text": [
      "0.811226194454\n",
      "0.589687726943\n",
      "{'bootstrap': True, 'n_estimators': 10, 'min_samples_split': 4, 'criterion': 'entropy', 'max_features': 0.25, 'max_depth': 6}\n",
      "{'rank_test_score': array([43, 37, 46, 43, 37, 46, 43, 37, 46, 15, 22, 19, 16, 23, 18, 34, 30,\n",
      "       33, 12,  4,  9, 11, 10,  2, 17, 35, 32, 40, 49, 52, 40, 49, 52, 40,\n",
      "       49, 52, 13, 27, 24, 13, 26, 25, 21, 36, 31,  1,  6,  5,  8,  7,  3,\n",
      "       20, 29, 28]), 'split0_train_score': array([ 0.37242192,  0.40068886,  0.33904529,  0.37242192,  0.40068886,\n",
      "        0.33904529,  0.37242192,  0.40068886,  0.33904529,  0.55637708,\n",
      "        0.54667305,  0.54353054,  0.55555556,  0.54186718,  0.53999031,\n",
      "        0.50403226,  0.47478992,  0.47238296,  0.62342039,  0.62122519,\n",
      "        0.61832393,  0.62457912,  0.61511729,  0.61719773,  0.5316092 ,\n",
      "        0.47853403,  0.48066876,  0.37242192,  0.34003656,  0.32673267,\n",
      "        0.37242192,  0.34003656,  0.32673267,  0.37242192,  0.34003656,\n",
      "        0.32673267,  0.56700575,  0.55009634,  0.54164637,  0.56700575,\n",
      "        0.55122655,  0.54457364,  0.52783109,  0.484375  ,  0.47368421,\n",
      "        0.62101234,  0.61343805,  0.61404274,  0.6229097 ,  0.61452514,\n",
      "        0.61884183,  0.51811949,  0.48012552,  0.48569943]), 'split2_test_score': array([ 0.34634146,  0.34889435,  0.35207824,  0.34634146,  0.34889435,\n",
      "        0.35207824,  0.34634146,  0.34889435,  0.35207824,  0.48316832,\n",
      "        0.49902534,  0.50287908,  0.48316832,  0.49019608,  0.50481696,\n",
      "        0.48163265,  0.47250509,  0.46153846,  0.54545455,  0.57699115,\n",
      "        0.56327986,  0.56993007,  0.57651246,  0.57651246,  0.5254902 ,\n",
      "        0.45643154,  0.45548654,  0.34634146,  0.30769231,  0.30848329,\n",
      "        0.34634146,  0.30769231,  0.30848329,  0.34634146,  0.30769231,\n",
      "        0.30848329,  0.54135338,  0.49122807,  0.48412698,  0.54135338,\n",
      "        0.48722986,  0.48316832,  0.46025105,  0.46216769,  0.46341463,\n",
      "        0.57293497,  0.5597148 ,  0.5658363 ,  0.55887522,  0.5754386 ,\n",
      "        0.56737589,  0.4939759 ,  0.47983871,  0.48275862]), 'mean_fit_time': array([ 0.19279995,  0.59459991,  1.14980001,  0.24259996,  0.63999996,\n",
      "        1.18419995,  0.2552    ,  0.65900002,  1.18959999,  0.23920002,\n",
      "        0.67419996,  1.28760004,  0.26740003,  0.70640001,  1.33339996,\n",
      "        0.20619998,  0.70500002,  1.32759995,  0.22019997,  0.72139997,\n",
      "        1.47959991,  0.24520001,  0.74700003,  1.4612    ,  0.2526    ,\n",
      "        0.68680005,  1.28080001,  0.27200003,  0.66859994,  1.22020006,\n",
      "        0.25079999,  0.62939997,  1.22859998,  0.25540004,  0.64679999,\n",
      "        1.18260007,  0.2256    ,  0.68979998,  1.37840004,  0.31539993,\n",
      "        0.7243999 ,  1.34700003,  0.22499995,  0.73099995,  1.49000006,\n",
      "        0.32880006,  0.84860001,  1.51880007,  0.24820004,  0.85      ,\n",
      "        1.66659999,  0.40160007,  0.76339998,  1.36359997]), 'split3_train_score': array([ 0.32653061,  0.36961722,  0.30914826,  0.32653061,  0.36961722,\n",
      "        0.30914826,  0.32653061,  0.36961722,  0.30914826,  0.52501238,\n",
      "        0.52307692,  0.54642684,  0.52501238,  0.52402179,  0.5476536 ,\n",
      "        0.53301205,  0.52506203,  0.52736318,  0.59855335,  0.60701439,\n",
      "        0.60529861,  0.6112577 ,  0.60706303,  0.60865685,  0.54100719,\n",
      "        0.53016815,  0.52636816,  0.36450268,  0.33537332,  0.31194969,\n",
      "        0.36450268,  0.33537332,  0.31194969,  0.36450268,  0.33537332,\n",
      "        0.31194969,  0.53228191,  0.50177755,  0.5295858 ,  0.53228191,\n",
      "        0.50404858,  0.53215513,  0.52255825,  0.49720386,  0.51609658,\n",
      "        0.59894459,  0.61835749,  0.6108156 ,  0.62687849,  0.60815603,\n",
      "        0.60614152,  0.51266766,  0.51825913,  0.52818991]), 'param_min_samples_split': masked_array(data = [4 4 4 40 40 40 400 400 400 4 4 4 40 40 40 400 400 400 4 4 4 40 40 40 400\n",
      " 400 400 4 4 4 40 40 40 400 400 400 4 4 4 40 40 40 400 400 400 4 4 4 40 40\n",
      " 40 400 400 400],\n",
      "             mask = [False False False False False False False False False False False False\n",
      " False False False False False False False False False False False False\n",
      " False False False False False False False False False False False False\n",
      " False False False False False False False False False False False False\n",
      " False False False False False False],\n",
      "       fill_value = ?)\n",
      ", 'std_test_score': array([ 0.02405734,  0.01927492,  0.02651469,  0.02405734,  0.01927492,\n",
      "        0.02651469,  0.02405734,  0.01927492,  0.02651469,  0.03323422,\n",
      "        0.03694714,  0.02046605,  0.03317496,  0.03522687,  0.01528568,\n",
      "        0.03506202,  0.02901736,  0.03326937,  0.01617884,  0.02015512,\n",
      "        0.01743312,  0.02124845,  0.01770691,  0.01574474,  0.01686222,\n",
      "        0.03198127,  0.03296133,  0.0262972 ,  0.0231413 ,  0.01780228,\n",
      "        0.0262972 ,  0.0231413 ,  0.01780228,  0.0262972 ,  0.0231413 ,\n",
      "        0.01780228,  0.03866166,  0.03515915,  0.02793829,  0.03866166,\n",
      "        0.03483096,  0.02852183,  0.03345219,  0.02935936,  0.0294594 ,\n",
      "        0.01375747,  0.01727016,  0.01628207,  0.01374435,  0.01451636,\n",
      "        0.01972547,  0.0229694 ,  0.03462162,  0.03680658]), 'params': [{'bootstrap': True, 'n_estimators': 10, 'min_samples_split': 4, 'criterion': 'gini', 'max_features': 0.25, 'max_depth': 2}, {'bootstrap': True, 'n_estimators': 50, 'min_samples_split': 4, 'criterion': 'gini', 'max_features': 0.25, 'max_depth': 2}, {'bootstrap': True, 'n_estimators': 100, 'min_samples_split': 4, 'criterion': 'gini', 'max_features': 0.25, 'max_depth': 2}, {'bootstrap': True, 'n_estimators': 10, 'min_samples_split': 40, 'criterion': 'gini', 'max_features': 0.25, 'max_depth': 2}, {'bootstrap': True, 'n_estimators': 50, 'min_samples_split': 40, 'criterion': 'gini', 'max_features': 0.25, 'max_depth': 2}, {'bootstrap': True, 'n_estimators': 100, 'min_samples_split': 40, 'criterion': 'gini', 'max_features': 0.25, 'max_depth': 2}, {'bootstrap': True, 'n_estimators': 10, 'min_samples_split': 400, 'criterion': 'gini', 'max_features': 0.25, 'max_depth': 2}, {'bootstrap': True, 'n_estimators': 50, 'min_samples_split': 400, 'criterion': 'gini', 'max_features': 0.25, 'max_depth': 2}, {'bootstrap': True, 'n_estimators': 100, 'min_samples_split': 400, 'criterion': 'gini', 'max_features': 0.25, 'max_depth': 2}, {'bootstrap': True, 'n_estimators': 10, 'min_samples_split': 4, 'criterion': 'gini', 'max_features': 0.25, 'max_depth': 4}, {'bootstrap': True, 'n_estimators': 50, 'min_samples_split': 4, 'criterion': 'gini', 'max_features': 0.25, 'max_depth': 4}, {'bootstrap': True, 'n_estimators': 100, 'min_samples_split': 4, 'criterion': 'gini', 'max_features': 0.25, 'max_depth': 4}, {'bootstrap': True, 'n_estimators': 10, 'min_samples_split': 40, 'criterion': 'gini', 'max_features': 0.25, 'max_depth': 4}, {'bootstrap': True, 'n_estimators': 50, 'min_samples_split': 40, 'criterion': 'gini', 'max_features': 0.25, 'max_depth': 4}, {'bootstrap': True, 'n_estimators': 100, 'min_samples_split': 40, 'criterion': 'gini', 'max_features': 0.25, 'max_depth': 4}, {'bootstrap': True, 'n_estimators': 10, 'min_samples_split': 400, 'criterion': 'gini', 'max_features': 0.25, 'max_depth': 4}, {'bootstrap': True, 'n_estimators': 50, 'min_samples_split': 400, 'criterion': 'gini', 'max_features': 0.25, 'max_depth': 4}, {'bootstrap': True, 'n_estimators': 100, 'min_samples_split': 400, 'criterion': 'gini', 'max_features': 0.25, 'max_depth': 4}, {'bootstrap': True, 'n_estimators': 10, 'min_samples_split': 4, 'criterion': 'gini', 'max_features': 0.25, 'max_depth': 6}, {'bootstrap': True, 'n_estimators': 50, 'min_samples_split': 4, 'criterion': 'gini', 'max_features': 0.25, 'max_depth': 6}, {'bootstrap': True, 'n_estimators': 100, 'min_samples_split': 4, 'criterion': 'gini', 'max_features': 0.25, 'max_depth': 6}, {'bootstrap': True, 'n_estimators': 10, 'min_samples_split': 40, 'criterion': 'gini', 'max_features': 0.25, 'max_depth': 6}, {'bootstrap': True, 'n_estimators': 50, 'min_samples_split': 40, 'criterion': 'gini', 'max_features': 0.25, 'max_depth': 6}, {'bootstrap': True, 'n_estimators': 100, 'min_samples_split': 40, 'criterion': 'gini', 'max_features': 0.25, 'max_depth': 6}, {'bootstrap': True, 'n_estimators': 10, 'min_samples_split': 400, 'criterion': 'gini', 'max_features': 0.25, 'max_depth': 6}, {'bootstrap': True, 'n_estimators': 50, 'min_samples_split': 400, 'criterion': 'gini', 'max_features': 0.25, 'max_depth': 6}, {'bootstrap': True, 'n_estimators': 100, 'min_samples_split': 400, 'criterion': 'gini', 'max_features': 0.25, 'max_depth': 6}, {'bootstrap': True, 'n_estimators': 10, 'min_samples_split': 4, 'criterion': 'entropy', 'max_features': 0.25, 'max_depth': 2}, {'bootstrap': True, 'n_estimators': 50, 'min_samples_split': 4, 'criterion': 'entropy', 'max_features': 0.25, 'max_depth': 2}, {'bootstrap': True, 'n_estimators': 100, 'min_samples_split': 4, 'criterion': 'entropy', 'max_features': 0.25, 'max_depth': 2}, {'bootstrap': True, 'n_estimators': 10, 'min_samples_split': 40, 'criterion': 'entropy', 'max_features': 0.25, 'max_depth': 2}, {'bootstrap': True, 'n_estimators': 50, 'min_samples_split': 40, 'criterion': 'entropy', 'max_features': 0.25, 'max_depth': 2}, {'bootstrap': True, 'n_estimators': 100, 'min_samples_split': 40, 'criterion': 'entropy', 'max_features': 0.25, 'max_depth': 2}, {'bootstrap': True, 'n_estimators': 10, 'min_samples_split': 400, 'criterion': 'entropy', 'max_features': 0.25, 'max_depth': 2}, {'bootstrap': True, 'n_estimators': 50, 'min_samples_split': 400, 'criterion': 'entropy', 'max_features': 0.25, 'max_depth': 2}, {'bootstrap': True, 'n_estimators': 100, 'min_samples_split': 400, 'criterion': 'entropy', 'max_features': 0.25, 'max_depth': 2}, {'bootstrap': True, 'n_estimators': 10, 'min_samples_split': 4, 'criterion': 'entropy', 'max_features': 0.25, 'max_depth': 4}, {'bootstrap': True, 'n_estimators': 50, 'min_samples_split': 4, 'criterion': 'entropy', 'max_features': 0.25, 'max_depth': 4}, {'bootstrap': True, 'n_estimators': 100, 'min_samples_split': 4, 'criterion': 'entropy', 'max_features': 0.25, 'max_depth': 4}, {'bootstrap': True, 'n_estimators': 10, 'min_samples_split': 40, 'criterion': 'entropy', 'max_features': 0.25, 'max_depth': 4}, {'bootstrap': True, 'n_estimators': 50, 'min_samples_split': 40, 'criterion': 'entropy', 'max_features': 0.25, 'max_depth': 4}, {'bootstrap': True, 'n_estimators': 100, 'min_samples_split': 40, 'criterion': 'entropy', 'max_features': 0.25, 'max_depth': 4}, {'bootstrap': True, 'n_estimators': 10, 'min_samples_split': 400, 'criterion': 'entropy', 'max_features': 0.25, 'max_depth': 4}, {'bootstrap': True, 'n_estimators': 50, 'min_samples_split': 400, 'criterion': 'entropy', 'max_features': 0.25, 'max_depth': 4}, {'bootstrap': True, 'n_estimators': 100, 'min_samples_split': 400, 'criterion': 'entropy', 'max_features': 0.25, 'max_depth': 4}, {'bootstrap': True, 'n_estimators': 10, 'min_samples_split': 4, 'criterion': 'entropy', 'max_features': 0.25, 'max_depth': 6}, {'bootstrap': True, 'n_estimators': 50, 'min_samples_split': 4, 'criterion': 'entropy', 'max_features': 0.25, 'max_depth': 6}, {'bootstrap': True, 'n_estimators': 100, 'min_samples_split': 4, 'criterion': 'entropy', 'max_features': 0.25, 'max_depth': 6}, {'bootstrap': True, 'n_estimators': 10, 'min_samples_split': 40, 'criterion': 'entropy', 'max_features': 0.25, 'max_depth': 6}, {'bootstrap': True, 'n_estimators': 50, 'min_samples_split': 40, 'criterion': 'entropy', 'max_features': 0.25, 'max_depth': 6}, {'bootstrap': True, 'n_estimators': 100, 'min_samples_split': 40, 'criterion': 'entropy', 'max_features': 0.25, 'max_depth': 6}, {'bootstrap': True, 'n_estimators': 10, 'min_samples_split': 400, 'criterion': 'entropy', 'max_features': 0.25, 'max_depth': 6}, {'bootstrap': True, 'n_estimators': 50, 'min_samples_split': 400, 'criterion': 'entropy', 'max_features': 0.25, 'max_depth': 6}, {'bootstrap': True, 'n_estimators': 100, 'min_samples_split': 400, 'criterion': 'entropy', 'max_features': 0.25, 'max_depth': 6}], 'std_fit_time': array([ 0.01457944,  0.07466353,  0.15778139,  0.04955238,  0.04397732,\n",
      "        0.1117844 ,  0.05566829,  0.04635508,  0.14360441,  0.05068096,\n",
      "        0.08945927,  0.14677682,  0.0898946 ,  0.05799525,  0.11379737,\n",
      "        0.00980602,  0.07716736,  0.07979626,  0.0230425 ,  0.12927433,\n",
      "        0.14638935,  0.06059175,  0.08656093,  0.1979398 ,  0.07911913,\n",
      "        0.04697832,  0.18015599,  0.04176129,  0.04207889,  0.11890561,\n",
      "        0.05313909,  0.04924067,  0.13243804,  0.03420873,  0.05882656,\n",
      "        0.18463211,  0.05204853,  0.05335693,  0.2279023 ,  0.0758014 ,\n",
      "        0.08878423,  0.17023744,  0.02414953,  0.11432758,  0.13426987,\n",
      "        0.12843434,  0.14862654,  0.15634757,  0.03889676,  0.16812019,\n",
      "        0.1069478 ,  0.20182335,  0.11417986,  0.13836126]), 'std_score_time': array([ 0.0046648 ,  0.00714421,  0.01099814,  0.00597996,  0.01774714,\n",
      "        0.03156836,  0.00844748,  0.02054661,  0.02027814,  0.00911263,\n",
      "        0.01299848,  0.06209479,  0.00440913,  0.02237848,  0.03489417,\n",
      "        0.00272768,  0.02930249,  0.01894623,  0.00708243,  0.04389079,\n",
      "        0.04487937,  0.01115352,  0.02870961,  0.06676999,  0.0213598 ,\n",
      "        0.0257247 ,  0.06009126,  0.01119641,  0.01820991,  0.03412335,\n",
      "        0.0032    ,  0.00485801,  0.02813105,  0.01098359,  0.01929141,\n",
      "        0.00890833,  0.0039294 ,  0.02736713,  0.0581653 ,  0.01565121,\n",
      "        0.03269496,  0.01923533,  0.01315443,  0.02497517,  0.06620272,\n",
      "        0.00126489,  0.014483  ,  0.07036928,  0.01647305,  0.06367861,\n",
      "        0.01339256,  0.00492344,  0.00406937,  0.07065245]), 'std_train_score': array([ 0.01856324,  0.03136166,  0.00969594,  0.01856324,  0.03136166,\n",
      "        0.00969594,  0.01856324,  0.03136166,  0.00969594,  0.01803094,\n",
      "        0.01428883,  0.01804498,  0.01784646,  0.01275724,  0.01884387,\n",
      "        0.02651479,  0.01846424,  0.02033813,  0.01953513,  0.01061971,\n",
      "        0.00771283,  0.01675313,  0.01048705,  0.01039302,  0.01529897,\n",
      "        0.01676267,  0.01777836,  0.02299628,  0.01892695,  0.01276388,\n",
      "        0.02299628,  0.01892695,  0.01276388,  0.02299628,  0.01892695,\n",
      "        0.01276388,  0.02632822,  0.01984291,  0.01502106,  0.02632822,\n",
      "        0.01810965,  0.01687848,  0.02744753,  0.0075897 ,  0.01481865,\n",
      "        0.01026273,  0.00981885,  0.00877935,  0.0183081 ,  0.0136316 ,\n",
      "        0.01468076,  0.00219615,  0.02051403,  0.0183884 ]), 'split4_test_score': array([ 0.28198433,  0.31202046,  0.30412371,  0.28198433,  0.31202046,\n",
      "        0.30412371,  0.28198433,  0.31202046,  0.30412371,  0.52380952,\n",
      "        0.50409836,  0.51836735,  0.52380952,  0.50916497,  0.51428571,\n",
      "        0.43400447,  0.50423729,  0.50317125,  0.57361377,  0.58241758,\n",
      "        0.58608059,  0.56603774,  0.59232176,  0.58671587,  0.52918288,\n",
      "        0.50105263,  0.50947368,  0.28198433,  0.28720627,  0.28272251,\n",
      "        0.28198433,  0.28720627,  0.28272251,  0.28198433,  0.28720627,\n",
      "        0.28272251,  0.47280335,  0.50622407,  0.51037344,  0.47280335,\n",
      "        0.50617284,  0.50727651,  0.54545455,  0.5       ,  0.50632911,\n",
      "        0.58227848,  0.58695652,  0.58608059,  0.58536585,  0.58380414,\n",
      "        0.59328358,  0.52485089,  0.50317125,  0.50840336]), 'param_criterion': masked_array(data = ['gini' 'gini' 'gini' 'gini' 'gini' 'gini' 'gini' 'gini' 'gini' 'gini'\n",
      " 'gini' 'gini' 'gini' 'gini' 'gini' 'gini' 'gini' 'gini' 'gini' 'gini'\n",
      " 'gini' 'gini' 'gini' 'gini' 'gini' 'gini' 'gini' 'entropy' 'entropy'\n",
      " 'entropy' 'entropy' 'entropy' 'entropy' 'entropy' 'entropy' 'entropy'\n",
      " 'entropy' 'entropy' 'entropy' 'entropy' 'entropy' 'entropy' 'entropy'\n",
      " 'entropy' 'entropy' 'entropy' 'entropy' 'entropy' 'entropy' 'entropy'\n",
      " 'entropy' 'entropy' 'entropy' 'entropy'],\n",
      "             mask = [False False False False False False False False False False False False\n",
      " False False False False False False False False False False False False\n",
      " False False False False False False False False False False False False\n",
      " False False False False False False False False False False False False\n",
      " False False False False False False],\n",
      "       fill_value = ?)\n",
      ", 'param_max_depth': masked_array(data = [2 2 2 2 2 2 2 2 2 4 4 4 4 4 4 4 4 4 6 6 6 6 6 6 6 6 6 2 2 2 2 2 2 2 2 2 4\n",
      " 4 4 4 4 4 4 4 4 6 6 6 6 6 6 6 6 6],\n",
      "             mask = [False False False False False False False False False False False False\n",
      " False False False False False False False False False False False False\n",
      " False False False False False False False False False False False False\n",
      " False False False False False False False False False False False False\n",
      " False False False False False False],\n",
      "       fill_value = ?)\n",
      ", 'split1_train_score': array([ 0.32635468,  0.33171324,  0.32782875,  0.32635468,  0.33171324,\n",
      "        0.32782875,  0.32635468,  0.33171324,  0.32782875,  0.55893186,\n",
      "        0.53794428,  0.51730959,  0.55893186,  0.52811736,  0.51269288,\n",
      "        0.51211073,  0.50453172,  0.50629089,  0.57116279,  0.59225923,\n",
      "        0.60313199,  0.58670261,  0.59161349,  0.59037239,  0.49723201,\n",
      "        0.50025419,  0.50406504,  0.31572405,  0.30069488,  0.29784537,\n",
      "        0.31572405,  0.30069488,  0.29784537,  0.31572405,  0.30069488,\n",
      "        0.29784537,  0.55380459,  0.53583454,  0.53649106,  0.55380459,\n",
      "        0.53512993,  0.53835022,  0.51970803,  0.48820513,  0.50556117,\n",
      "        0.60736196,  0.60026679,  0.59720343,  0.58901099,  0.58393502,\n",
      "        0.58450385,  0.51862745,  0.52487805,  0.52682927]), 'param_bootstrap': masked_array(data = [True True True True True True True True True True True True True True True\n",
      " True True True True True True True True True True True True True True True\n",
      " True True True True True True True True True True True True True True True\n",
      " True True True True True True True True True],\n",
      "             mask = [False False False False False False False False False False False False\n",
      " False False False False False False False False False False False False\n",
      " False False False False False False False False False False False False\n",
      " False False False False False False False False False False False False\n",
      " False False False False False False],\n",
      "       fill_value = ?)\n",
      ", 'split2_train_score': array([ 0.32329441,  0.31747993,  0.32123077,  0.32329441,  0.31747993,\n",
      "        0.32123077,  0.32329441,  0.31747993,  0.32123077,  0.52324431,\n",
      "        0.53753027,  0.54815525,  0.52324431,  0.53637245,  0.54719693,\n",
      "        0.4989858 ,  0.50176322,  0.49592668,  0.60900265,  0.61098705,\n",
      "        0.60826595,  0.59991217,  0.59585959,  0.6032316 ,  0.52616137,\n",
      "        0.49923586,  0.49872514,  0.32329441,  0.29150824,  0.28917197,\n",
      "        0.32329441,  0.29150824,  0.28917197,  0.32329441,  0.29150824,\n",
      "        0.28917197,  0.54900095,  0.53210117,  0.52909535,  0.54900095,\n",
      "        0.53067186,  0.52857841,  0.46104589,  0.50375563,  0.50100806,\n",
      "        0.59493108,  0.59810555,  0.60036004,  0.5984252 ,  0.60159011,\n",
      "        0.60277653,  0.51664183,  0.51932607,  0.51551552]), 'param_n_estimators': masked_array(data = [10 50 100 10 50 100 10 50 100 10 50 100 10 50 100 10 50 100 10 50 100 10\n",
      " 50 100 10 50 100 10 50 100 10 50 100 10 50 100 10 50 100 10 50 100 10 50\n",
      " 100 10 50 100 10 50 100 10 50 100],\n",
      "             mask = [False False False False False False False False False False False False\n",
      " False False False False False False False False False False False False\n",
      " False False False False False False False False False False False False\n",
      " False False False False False False False False False False False False\n",
      " False False False False False False],\n",
      "       fill_value = ?)\n",
      ", 'split4_train_score': array([ 0.32866707,  0.32600733,  0.32309582,  0.32866707,  0.32600733,\n",
      "        0.32309582,  0.32866707,  0.32600733,  0.32309582,  0.51597289,\n",
      "        0.50601202,  0.50353179,  0.51597289,  0.50475714,  0.50227388,\n",
      "        0.45244492,  0.47843943,  0.4754522 ,  0.57692308,  0.59505618,\n",
      "        0.59452178,  0.57773689,  0.58631627,  0.59068295,  0.53529133,\n",
      "        0.49412966,  0.47702633,  0.32866707,  0.31389578,  0.3071161 ,\n",
      "        0.32866707,  0.31389578,  0.3071161 ,  0.32866707,  0.31389578,\n",
      "        0.3071161 ,  0.49085366,  0.49974709,  0.49849549,  0.49085366,\n",
      "        0.50553877,  0.49598394,  0.53980217,  0.48487955,  0.48695652,\n",
      "        0.59292035,  0.59219858,  0.59023735,  0.58076225,  0.57947321,\n",
      "        0.57870792,  0.51819505,  0.47830579,  0.48852626]), 'mean_score_time': array([ 0.00320005,  0.02440009,  0.0552    ,  0.00620003,  0.0512001 ,\n",
      "        0.08420005,  0.00780001,  0.04920001,  0.08299999,  0.01139998,\n",
      "        0.03820004,  0.11320004,  0.00759997,  0.04900002,  0.09099998,\n",
      "        0.00640001,  0.0474    ,  0.06880002,  0.01480002,  0.07500005,\n",
      "        0.12520003,  0.01199999,  0.05739994,  0.11659999,  0.01240001,\n",
      "        0.0652    ,  0.10120001,  0.00919995,  0.05300007,  0.09199996,\n",
      "        0.00739999,  0.02400002,  0.08779998,  0.01459994,  0.03619995,\n",
      "        0.04219995,  0.00440001,  0.06280003,  0.09699998,  0.01180005,\n",
      "        0.06780005,  0.05999999,  0.01340003,  0.04319997,  0.12299991,\n",
      "        0.00800004,  0.03980002,  0.18659992,  0.01719995,  0.06419997,\n",
      "        0.05719991,  0.00760007,  0.02320004,  0.10580006]), 'mean_train_score': array([ 0.33545374,  0.34910132,  0.32406978,  0.33545374,  0.34910132,\n",
      "        0.32406978,  0.33545374,  0.34910132,  0.32406978,  0.53590771,\n",
      "        0.53024731,  0.5317908 ,  0.5357434 ,  0.52702718,  0.52996152,\n",
      "        0.50011715,  0.49691726,  0.49548318,  0.59581245,  0.60530841,\n",
      "        0.60590845,  0.6000377 ,  0.59919393,  0.6020283 ,  0.52626022,\n",
      "        0.50046438,  0.49737069,  0.34092203,  0.31630176,  0.30656316,\n",
      "        0.34092203,  0.31630176,  0.30656316,  0.34092203,  0.31630176,\n",
      "        0.30656316,  0.53858937,  0.52391134,  0.52706281,  0.53858937,\n",
      "        0.52532314,  0.52792827,  0.51418909,  0.49168383,  0.49666131,\n",
      "        0.60303406,  0.60447329,  0.60253183,  0.60359732,  0.5975359 ,\n",
      "        0.59819433,  0.5168503 ,  0.50417891,  0.50895208]), 'split0_test_score': array([ 0.31884058,  0.36915888,  0.285     ,  0.31884058,  0.36915888,\n",
      "        0.285     ,  0.31884058,  0.36915888,  0.285     ,  0.52751423,\n",
      "        0.49019608,  0.49706458,  0.52671756,  0.48818898,  0.49606299,\n",
      "        0.47107438,  0.44871795,  0.44301075,  0.57240204,  0.56597222,\n",
      "        0.56392294,  0.5819398 ,  0.56690141,  0.56742557,  0.504     ,\n",
      "        0.43965517,  0.44539615,  0.31884058,  0.27638191,  0.27777778,\n",
      "        0.31884058,  0.27638191,  0.27777778,  0.31884058,  0.27638191,\n",
      "        0.27777778,  0.55062167,  0.4990099 ,  0.50196078,  0.55062167,\n",
      "        0.50687623,  0.49803922,  0.51663405,  0.44871795,  0.45064378,\n",
      "        0.56661046,  0.56338028,  0.57242583,  0.57912458,  0.56794425,\n",
      "        0.56993007,  0.51792829,  0.44492441,  0.44539615]), 'mean_test_score': array([ 0.32550728,  0.34728012,  0.32186398,  0.32550728,  0.34728012,\n",
      "        0.32186398,  0.32550728,  0.34728012,  0.32186398,  0.51485393,\n",
      "        0.50766282,  0.51060035,  0.51469449,  0.50479014,  0.51106987,\n",
      "        0.48227353,  0.48598644,  0.4839482 ,  0.56134504,  0.57529093,\n",
      "        0.57273702,  0.56644654,  0.57227302,  0.57613209,  0.51132993,\n",
      "        0.47998278,  0.48419896,  0.32869959,  0.30741218,  0.30126958,\n",
      "        0.32869959,  0.30741218,  0.30126958,  0.32869959,  0.30741218,\n",
      "        0.30126958,  0.52038274,  0.49722989,  0.50159571,  0.52038274,\n",
      "        0.49845734,  0.50078244,  0.50790035,  0.47697457,  0.48433033,\n",
      "        0.57858353,  0.57406459,  0.57433275,  0.57347473,  0.57351677,\n",
      "        0.57575579,  0.50809189,  0.48671243,  0.49029991]), 'param_max_features': masked_array(data = [0.25 0.25 0.25 0.25 0.25 0.25 0.25 0.25 0.25 0.25 0.25 0.25 0.25 0.25 0.25\n",
      " 0.25 0.25 0.25 0.25 0.25 0.25 0.25 0.25 0.25 0.25 0.25 0.25 0.25 0.25 0.25\n",
      " 0.25 0.25 0.25 0.25 0.25 0.25 0.25 0.25 0.25 0.25 0.25 0.25 0.25 0.25 0.25\n",
      " 0.25 0.25 0.25 0.25 0.25 0.25 0.25 0.25 0.25],\n",
      "             mask = [False False False False False False False False False False False False\n",
      " False False False False False False False False False False False False\n",
      " False False False False False False False False False False False False\n",
      " False False False False False False False False False False False False\n",
      " False False False False False False],\n",
      "       fill_value = ?)\n",
      ", 'split3_test_score': array([ 0.33333333,  0.34741784,  0.3163017 ,  0.33333333,  0.34741784,\n",
      "        0.3163017 ,  0.33333333,  0.34741784,  0.3163017 ,  0.47389558,\n",
      "        0.46774194,  0.48818898,  0.47389558,  0.46653144,  0.50097847,\n",
      "        0.4815534 ,  0.47244094,  0.4743083 ,  0.53818182,  0.54478976,\n",
      "        0.55109489,  0.52688172,  0.54113346,  0.55210238,  0.48249027,\n",
      "        0.47337278,  0.47731755,  0.3556582 ,  0.33490566,  0.31476998,\n",
      "        0.3556582 ,  0.33490566,  0.31476998,  0.3556582 ,  0.33490566,\n",
      "        0.31476998,  0.47464503,  0.43983402,  0.464     ,  0.47464503,\n",
      "        0.44214876,  0.46520875,  0.47826087,  0.45121951,  0.47105788,\n",
      "        0.56737589,  0.55855856,  0.55009107,  0.55536028,  0.54909091,\n",
      "        0.54644809,  0.47035573,  0.46153846,  0.464     ]), 'split1_test_score': array([ 0.34698795,  0.35885167,  0.35180723,  0.34698795,  0.35885167,\n",
      "        0.35180723,  0.34698795,  0.35885167,  0.35180723,  0.5658363 ,\n",
      "        0.57720588,  0.54648956,  0.5658363 ,  0.5698324 ,  0.53919694,\n",
      "        0.54302103,  0.53203883,  0.5377176 ,  0.57706093,  0.60627178,\n",
      "        0.59930314,  0.58741259,  0.58450704,  0.5979021 ,  0.51550388,\n",
      "        0.52941176,  0.53333333,  0.3406326 ,  0.3308642 ,  0.32258065,\n",
      "        0.3406326 ,  0.3308642 ,  0.32258065,  0.3406326 ,  0.3308642 ,\n",
      "        0.32258065,  0.56239016,  0.5498155 ,  0.54748603,  0.56239016,\n",
      "        0.5498155 ,  0.55018587,  0.53889943,  0.52277228,  0.53021442,\n",
      "        0.60370995,  0.6017094 ,  0.59722222,  0.58864028,  0.59130435,\n",
      "        0.60173913,  0.53333333,  0.54409006,  0.5509434 ])}\n",
      "\n",
      "\n",
      " ---grid_search Model- ROC--\n",
      "grid_search AUC = 0.69\n",
      "              precision    recall  f1-score   support\n",
      "\n",
      "           0       0.83      0.92      0.87       777\n",
      "           1       0.67      0.46      0.55       280\n",
      "\n",
      "   micro avg       0.80      0.80      0.80      1057\n",
      "   macro avg       0.75      0.69      0.71      1057\n",
      "weighted avg       0.78      0.80      0.78      1057\n",
      "\n"
     ]
    }
   ],
   "source": [
    "from sklearn.preprocessing import StandardScaler \n",
    "from sklearn.metrics import accuracy_score, f1_score\n",
    "from sklearn.metrics import roc_auc_score\n",
    "from sklearn.metrics import roc_curve\n",
    "from sklearn.metrics import precision_recall_curve\n",
    "from sklearn.metrics import f1_score\n",
    "from sklearn.metrics import auc\n",
    "from sklearn.metrics import average_precision_score\n",
    "X = new_customer.drop([\"Churn\"],axis=1)\n",
    "X= X.values\n",
    "from sklearn.preprocessing import MinMaxScaler\n",
    "y = new_customer[\"Churn\"].values\n",
    "from sklearn.model_selection import train_test_split  \n",
    "\n",
    "minmax_scaler = MinMaxScaler ()\n",
    "X = minmax_scaler.fit_transform(X)\n",
    "y = new_customer[\"Churn\"].values\n",
    "X_train, X_test, y_train, y_test = train_test_split(X, y, test_size=0.15, random_state=123,stratify=y)\n",
    "\n",
    "from sklearn.ensemble import RandomForestClassifier  \n",
    "classifier = RandomForestClassifier(n_estimators=300, random_state=0)  \n",
    "from sklearn.model_selection import cross_val_score\n",
    "from sklearn import model_selection\n",
    "all_accuracies = model_selection.cross_val_score(estimator=classifier, X=X_train, y=y_train, cv=5)  \n",
    "\n",
    "\n",
    "grid_param = {  \n",
    "    'n_estimators': [10,50,100],\n",
    "    'min_samples_split':[4,40,400],\n",
    "    'criterion': ['gini', 'entropy'],\n",
    "    'bootstrap': [True],\n",
    "    'max_depth':[2,4,6],\n",
    "    'max_features':[0.25],\n",
    "     \n",
    "    \n",
    "    \n",
    "}\n",
    "gd_sr = GridSearchCV(estimator=classifier,  \n",
    "                     param_grid=grid_param,\n",
    "                     scoring='f1',\n",
    "                     cv=5,\n",
    "                     n_jobs=-1)\n",
    "gd_sr.fit(X_train, y_train)  \n",
    "y_pred = gd_sr.predict(X_train)\n",
    "print(accuracy_score(y_pred,y_train))\n",
    "print(f1_score(y_pred,y_train))\n",
    "\n",
    "print(gd_sr.best_params_)\n",
    "print(gd_sr.cv_results_)\n",
    "print (\"\\n\\n ---grid_search Model- ROC--\")\n",
    "grid_roc_auc = roc_auc_score(y_test, gd_sr.predict(X_test))\n",
    "print (\"grid_search AUC = %2.2f\" % grid_roc_auc)\n",
    "print(classification_report(y_test, gd_sr.predict(X_test)))\n",
    "\n"
   ]
  },
  {
   "cell_type": "code",
   "execution_count": 53,
   "metadata": {
    "collapsed": false
   },
   "outputs": [
    {
     "name": "stdout",
     "output_type": "stream",
     "text": [
      "Precision recall curve\n",
      "f1=0.547 \n"
     ]
    },
    {
     "data": {
      "image/png": "[encoded data removed]",
      "text/plain": [
       "<matplotlib.figure.Figure at 0xb487f30>"
      ]
     },
     "metadata": {},
     "output_type": "display_data"
    }
   ],
   "source": [
    "\n",
    "\n",
    "\n",
    "y_predtest = gd_sr.predict(X_test)\n",
    "\n",
    "\n",
    "grid_fpr, grid_tpr, grid_thresholds = precision_recall_curve(y_test,y_predtest)\n",
    "\n",
    "\n",
    "auc = auc(grid_fpr, grid_tpr)\n",
    "f1 = f1_score(y_test,y_predtest)\n",
    "AP=average_precision_score(y_test,y_predtest)\n",
    "print('Precision recall curve' )\n",
    "print('f1=%0.3f '%(f1))\n",
    "plt.plot(grid_fpr, grid_tpr)\n",
    "plt.xlim([0.0, 1.0])\n",
    "plt.ylim([0.0, 1.05])\n",
    "plt.xlabel('recall Rate')\n",
    "plt.ylabel('Precision Rate')\n",
    "plt.title('Precision recall curve Graph(AP=%.2f)'% AP)\n",
    "\n",
    "plt.show()\n"
   ]
  },
  {
   "cell_type": "code",
   "execution_count": 54,
   "metadata": {
    "collapsed": false
   },
   "outputs": [
    {
     "name": "stdout",
     "output_type": "stream",
     "text": [
      "Tuned Logistic Regression Parameters: {'C': 0.43939705607607948}\n",
      "Best score is 0.80354159706\n",
      "('Best Penalty:', 'l2')\n"
     ]
    },
    {
     "name": "stderr",
     "output_type": "stream",
     "text": [
      "C:\\ProgramData\\Miniconda3\\envs\\tutorial\\lib\\site-packages\\sklearn\\linear_model\\logistic.py:432: FutureWarning: Default solver will be changed to 'lbfgs' in 0.22. Specify a solver to silence this warning.\n",
      "  FutureWarning)\n"
     ]
    }
   ],
   "source": [
    "from sklearn.linear_model import LogisticRegression\n",
    "c_space = np.logspace(-5, 8, 15)\n",
    "param_grid = {'C': c_space}\n",
    "logreg = LogisticRegression()\n",
    "clf = GridSearchCV(logreg, param_grid,cv=5, verbose=0)\n",
    "clf .fit(X_train, y_train)\n",
    "print(\"Tuned Logistic Regression Parameters: {}\".format(clf .best_params_))\n",
    "print(\"Best score is {}\".format(clf .best_score_))\n",
    "print('Best Penalty:', clf.best_estimator_.get_params()['penalty'])"
   ]
  },
  {
   "cell_type": "markdown",
   "metadata": {},
   "source": [
    "Due to this is larger imbalanced set, we will calculate the F1 in precision and recall rather the ROC curve accuracy. For this, the F1 score, measures the harmonic mean of precision and recal,  > 0.5."
   ]
  },
  {
   "cell_type": "code",
   "execution_count": 55,
   "metadata": {
    "collapsed": false
   },
   "outputs": [
    {
     "data": {
      "text/plain": [
       "5986"
      ]
     },
     "execution_count": 55,
     "metadata": {},
     "output_type": "execute_result"
    }
   ],
   "source": [
    "len(y_train)"
   ]
  },
  {
   "cell_type": "code",
   "execution_count": 56,
   "metadata": {
    "collapsed": true
   },
   "outputs": [],
   "source": [
    "# Create base rate model\n",
    "def base_rate_model(X) :\n",
    "    y = np.zeros(X.shape[0])\n",
    "    return y\n",
    "\n",
    "# Create train and test splits\n",
    "target_name = 'Churn'\n",
    "X = new_customer.drop('Churn', axis=1)\n",
    "robust_scaler = RobustScaler()\n",
    "X = robust_scaler.fit_transform(X)\n",
    "y=new_customer[target_name]\n",
    "X_train, X_test, y_train, y_test = train_test_split(X,y,test_size=0.15, random_state=123, stratify=y)"
   ]
  },
  {
   "cell_type": "code",
   "execution_count": 57,
   "metadata": {
    "collapsed": false
   },
   "outputs": [
    {
     "name": "stdout",
     "output_type": "stream",
     "text": [
      "Base rate accuracy is 0.74\n"
     ]
    }
   ],
   "source": [
    "# Check accuracy of base rate model\n",
    "y_base_rate = base_rate_model(X_test)\n",
    "from sklearn.metrics import accuracy_score\n",
    "print (\"Base rate accuracy is %2.2f\" % accuracy_score(y_test, y_base_rate))"
   ]
  },
  {
   "cell_type": "code",
   "execution_count": 58,
   "metadata": {
    "collapsed": false
   },
   "outputs": [
    {
     "name": "stdout",
     "output_type": "stream",
     "text": [
      "<class 'pandas.core.frame.DataFrame'>\n",
      "RangeIndex: 7043 entries, 0 to 7042\n",
      "Data columns (total 26 columns):\n",
      "gender                       7043 non-null int32\n",
      "SeniorCitizen                7043 non-null int64\n",
      "Partner                      7043 non-null int64\n",
      "Dependents                   7043 non-null int64\n",
      "tenure                       7043 non-null int64\n",
      "PhoneService                 7043 non-null int64\n",
      "MultipleLines                7043 non-null int64\n",
      "OnlineSecurity               7043 non-null int64\n",
      "OnlineBackup                 7043 non-null int64\n",
      "DeviceProtection             7043 non-null int64\n",
      "TechSupport                  7043 non-null int64\n",
      "StreamingTV                  7043 non-null int64\n",
      "StreamingMovies              7043 non-null int64\n",
      "PaperlessBilling             7043 non-null int64\n",
      "MonthlyCharges               7043 non-null float64\n",
      "Churn                        7043 non-null int64\n",
      "DSL                          7043 non-null uint8\n",
      "Fiber optic                  7043 non-null uint8\n",
      "No                           7043 non-null uint8\n",
      "Month-to-month               7043 non-null uint8\n",
      "One year                     7043 non-null uint8\n",
      "Two year                     7043 non-null uint8\n",
      "Bank transfer (automatic)    7043 non-null uint8\n",
      "Credit card (automatic)      7043 non-null uint8\n",
      "Electronic check             7043 non-null uint8\n",
      "Mailed check                 7043 non-null uint8\n",
      "dtypes: float64(1), int32(1), int64(14), uint8(10)\n",
      "memory usage: 921.7 KB\n"
     ]
    }
   ],
   "source": [
    "new_customer.isnull().any()\n",
    "new_customer = new_customer.fillna(lambda x: x.median())\n",
    "new_customer.info()"
   ]
  },
  {
   "cell_type": "code",
   "execution_count": null,
   "metadata": {
    "collapsed": true
   },
   "outputs": [],
   "source": []
  },
  {
   "cell_type": "code",
   "execution_count": 59,
   "metadata": {
    "collapsed": false
   },
   "outputs": [
    {
     "name": "stdout",
     "output_type": "stream",
     "text": [
      "Logistic accuracy is 0.80\n"
     ]
    }
   ],
   "source": [
    "# Check accuracy of Logistic Model\n",
    "from sklearn.linear_model import LogisticRegression\n",
    "model = LogisticRegression(penalty='l2', C=0.43)\n",
    "\n",
    "\n",
    "model.fit(X_train, y_train)\n",
    "print (\"Logistic accuracy is %2.2f\" % accuracy_score(y_test, model.predict(X_test)))"
   ]
  },
  {
   "cell_type": "code",
   "execution_count": 60,
   "metadata": {
    "collapsed": false
   },
   "outputs": [
    {
     "name": "stdout",
     "output_type": "stream",
     "text": [
      "AUC: 0.843 (0.014)\n"
     ]
    }
   ],
   "source": [
    "\n",
    "# Using 10 fold Cross-Validation to train our Logistic Regression Model\n",
    "from sklearn import model_selection\n",
    "from sklearn.linear_model import LogisticRegression\n",
    "kfold = model_selection.KFold(n_splits=10, random_state=7)\n",
    "modelCV = LogisticRegression(class_weight = \"balanced\")\n",
    "scoring = 'roc_auc'\n",
    "results = model_selection.cross_val_score(modelCV, X_train, y_train, cv=kfold, scoring=scoring)\n",
    "print(\"AUC: %.3f (%.3f)\" % (results.mean(), results.std()))"
   ]
  },
  {
   "cell_type": "code",
   "execution_count": 61,
   "metadata": {
    "collapsed": false
   },
   "outputs": [
    {
     "name": "stdout",
     "output_type": "stream",
     "text": [
      "---Base Model---\n",
      "Base Rate AUC = 0.50\n",
      "              precision    recall  f1-score   support\n",
      "\n",
      "           0       0.74      1.00      0.85       777\n",
      "           1       0.00      0.00      0.00       280\n",
      "\n",
      "   micro avg       0.74      0.74      0.74      1057\n",
      "   macro avg       0.37      0.50      0.42      1057\n",
      "weighted avg       0.54      0.74      0.62      1057\n",
      "\n",
      "\n",
      "\n",
      " ---Logistic Model---\n",
      "Logistic AUC = 0.77\n",
      "              precision    recall  f1-score   support\n",
      "\n",
      "           0       0.91      0.75      0.82       777\n",
      "           1       0.53      0.80      0.64       280\n",
      "\n",
      "   micro avg       0.76      0.76      0.76      1057\n",
      "   macro avg       0.72      0.77      0.73      1057\n",
      "weighted avg       0.81      0.76      0.77      1057\n",
      "\n",
      "\n",
      "\n",
      " ---Decision Tree Model---\n",
      "Decision Tree AUC = 0.76\n",
      "              precision    recall  f1-score   support\n",
      "\n",
      "           0       0.91      0.72      0.80       777\n",
      "           1       0.51      0.79      0.62       280\n",
      "\n",
      "   micro avg       0.74      0.74      0.74      1057\n",
      "   macro avg       0.71      0.76      0.71      1057\n",
      "weighted avg       0.80      0.74      0.76      1057\n",
      "\n",
      "\n",
      "\n",
      " ---Random Forest Model---\n",
      "Random Forest AUC = 0.77\n",
      "              precision    recall  f1-score   support\n",
      "\n",
      "           0       0.91      0.73      0.81       777\n",
      "           1       0.52      0.81      0.63       280\n",
      "\n",
      "   micro avg       0.75      0.75      0.75      1057\n",
      "   macro avg       0.72      0.77      0.72      1057\n",
      "weighted avg       0.81      0.75      0.77      1057\n",
      "\n",
      "\n",
      "\n",
      " ---AdaBoost Model---\n",
      "AdaBoost AUC = 0.71\n",
      "              precision    recall  f1-score   support\n",
      "\n",
      "           0       0.84      0.90      0.87       777\n",
      "           1       0.64      0.52      0.57       280\n",
      "\n",
      "   micro avg       0.80      0.80      0.80      1057\n",
      "   macro avg       0.74      0.71      0.72      1057\n",
      "weighted avg       0.79      0.80      0.79      1057\n",
      "\n"
     ]
    },
    {
     "name": "stderr",
     "output_type": "stream",
     "text": [
      "C:\\ProgramData\\Miniconda3\\envs\\tutorial\\lib\\site-packages\\sklearn\\metrics\\classification.py:1143: UndefinedMetricWarning: Precision and F-score are ill-defined and being set to 0.0 in labels with no predicted samples.\n",
      "  'precision', 'predicted', average, warn_for)\n",
      "C:\\ProgramData\\Miniconda3\\envs\\tutorial\\lib\\site-packages\\sklearn\\metrics\\classification.py:1143: UndefinedMetricWarning: Precision and F-score are ill-defined and being set to 0.0 in labels with no predicted samples.\n",
      "  'precision', 'predicted', average, warn_for)\n",
      "C:\\ProgramData\\Miniconda3\\envs\\tutorial\\lib\\site-packages\\sklearn\\metrics\\classification.py:1143: UndefinedMetricWarning: Precision and F-score are ill-defined and being set to 0.0 in labels with no predicted samples.\n",
      "  'precision', 'predicted', average, warn_for)\n"
     ]
    }
   ],
   "source": [
    "# Compare the Logistic Regression Model V.S. Base Rate Model V.S. Random Forest Model\n",
    "from sklearn.metrics import roc_auc_score\n",
    "from sklearn.metrics import classification_report\n",
    "from sklearn.ensemble import RandomForestClassifier\n",
    "\n",
    "from sklearn import tree\n",
    "from sklearn.tree import DecisionTreeClassifier\n",
    "from sklearn.linear_model import LogisticRegression\n",
    "from sklearn.ensemble import ExtraTreesClassifier\n",
    "from sklearn.ensemble import BaggingClassifier\n",
    "from sklearn.ensemble import AdaBoostClassifier\n",
    "from sklearn.ensemble import GradientBoostingClassifier\n",
    "from sklearn.ensemble import VotingClassifier\n",
    "\n",
    "\n",
    "print (\"---Base Model---\")\n",
    "base_roc_auc = roc_auc_score(y_test, base_rate_model(X_test))\n",
    "print (\"Base Rate AUC = %2.2f\" % base_roc_auc)\n",
    "print(classification_report(y_test, base_rate_model(X_test)))\n",
    "\n",
    "logis = LogisticRegression(class_weight = \"balanced\")\n",
    "logis.fit(X_train, y_train)\n",
    "print (\"\\n\\n ---Logistic Model---\")\n",
    "logit_roc_auc = roc_auc_score(y_test, logis.predict(X_test))\n",
    "print (\"Logistic AUC = %2.2f\" % logit_roc_auc)\n",
    "print(classification_report(y_test, logis.predict(X_test)))\n",
    "\n",
    "# Decision Tree Model\n",
    "dtree = tree.DecisionTreeClassifier(\n",
    "  class_weight=\"balanced\", min_weight_fraction_leaf=0.01\n",
    "    \n",
    "    )\n",
    "dtree = dtree.fit(X_train,y_train)\n",
    "print (\"\\n\\n ---Decision Tree Model---\")\n",
    "dt_roc_auc = roc_auc_score(y_test, dtree.predict(X_test))\n",
    "print (\"Decision Tree AUC = %2.2f\" % dt_roc_auc)\n",
    "print(classification_report(y_test, dtree.predict(X_test)))\n",
    "\n",
    "# Random Forest Model\n",
    "rf = RandomForestClassifier(\n",
    "   bootstrap= True, n_estimators=10, min_samples_split=4, criterion='entropy', max_features= 0.25, max_depth=6,\n",
    "    class_weight=\"balanced\"\n",
    "    \n",
    "    )\n",
    "rf.fit(X_train, y_train)\n",
    "print (\"\\n\\n ---Random Forest Model---\")\n",
    "rf_roc_auc = roc_auc_score(y_test, rf.predict(X_test))\n",
    "print (\"Random Forest AUC = %2.2f\" % rf_roc_auc)\n",
    "print(classification_report(y_test, rf.predict(X_test)))\n",
    "\n",
    "\n",
    "# Ada Boost\n",
    "ada = AdaBoostClassifier(n_estimators=400, learning_rate=0.1)\n",
    "ada.fit(X_train,y_train)\n",
    "print (\"\\n\\n ---AdaBoost Model---\")\n",
    "ada_roc_auc = roc_auc_score(y_test, ada.predict(X_test))\n",
    "print (\"AdaBoost AUC = %2.2f\" % ada_roc_auc)\n",
    "print(classification_report(y_test, ada.predict(X_test)))\n"
   ]
  },
  {
   "cell_type": "code",
   "execution_count": 62,
   "metadata": {
    "collapsed": false
   },
   "outputs": [
    {
     "data": {
      "image/png": "[encoded data removed]",
      "text/plain": [
       "<matplotlib.figure.Figure at 0xcc32110>"
      ]
     },
     "metadata": {},
     "output_type": "display_data"
    }
   ],
   "source": [
    "\n",
    "# Create ROC Graph\n",
    "from sklearn.metrics import roc_curve\n",
    "fpr, tpr, thresholds = roc_curve(y_test, logis.predict_proba(X_test)[:,1])\n",
    "rf_fpr, rf_tpr, rf_thresholds = roc_curve(y_test, rf.predict_proba(X_test)[:,1])\n",
    "dt_fpr, dt_tpr, dt_thresholds = roc_curve(y_test, dtree.predict_proba(X_test)[:,1])\n",
    "ada_fpr, ada_tpr, ada_thresholds = roc_curve(y_test, ada.predict_proba(X_test)[:,1])\n",
    "\n",
    "plt.figure()\n",
    "\n",
    "# Plot Logistic Regression ROC\n",
    "plt.plot(fpr, tpr, label='Logistic Regression (area = %0.2f)' % logit_roc_auc)\n",
    "\n",
    "# Plot Random Forest ROC\n",
    "plt.plot(rf_fpr, rf_tpr, label='Random Forest (area = %0.2f)' % rf_roc_auc)\n",
    "\n",
    "# Plot Decision Tree ROC\n",
    "plt.plot(dt_fpr, dt_tpr, label='Decision Tree (area = %0.2f)' % dt_roc_auc)\n",
    "\n",
    "# Plot AdaBoost ROC\n",
    "plt.plot(ada_fpr, ada_tpr, label='AdaBoost (area = %0.2f)' % ada_roc_auc)\n",
    "\n",
    "# Plot Base Rate ROC\n",
    "plt.plot([0,1], [0,1],label='Base Rate' 'k--')\n",
    "\n",
    "plt.xlim([0.0, 1.0])\n",
    "plt.ylim([0.0, 1.05])\n",
    "plt.xlabel('False Positive Rate')\n",
    "plt.ylabel('True Positive Rate')\n",
    "plt.title('ROC Graph')\n",
    "plt.legend(loc=\"lower right\")\n",
    "plt.show()"
   ]
  },
  {
   "cell_type": "markdown",
   "metadata": {},
   "source": [
    "In a Receiver Operating Characteristic (ROC) curve the true positive rate (Sensitivity) is plotted in function of the false positive rate (100-Specificity) for different cut-off points. Each point on the ROC curve represents a sensitivity/specificity pair corresponding to a particular decision threshold. A test with perfect discrimination (no overlap in the two distributions) has a ROC curve that passes through the upper left corner (100% sensitivity, 100% specificity). Therefore the closer the ROC curve is to the upper left corner, the higher the overall accuracy of the test (Zweig & Campbell, 1993). According to our ROC graph, the logistic regression has a best fit model for this problem because AUC =0.77 ."
   ]
  },
  {
   "cell_type": "code",
   "execution_count": 63,
   "metadata": {
    "collapsed": false
   },
   "outputs": [
    {
     "data": {
      "image/png": "[encoded data removed]",
      "text/plain": [
       "<matplotlib.figure.Figure at 0x9372650>"
      ]
     },
     "metadata": {},
     "output_type": "display_data"
    }
   ],
   "source": [
    "\n",
    "plt.style.use('fivethirtyeight')\n",
    "plt.rcParams['figure.figsize'] = (12,6)\n",
    "\n",
    "## plot the importances ##\n",
    "importances = dtree.feature_importances_\n",
    "feat_names = new_customer.drop(['Churn'],axis=1).columns\n",
    "\n",
    "\n",
    "indices = np.argsort(importances)[::-1]\n",
    "plt.figure(figsize=(12,6))\n",
    "plt.title(\"Feature importances by DecisionTreeClassifier\")\n",
    "plt.bar(range(len(indices)), importances[indices], color='lightblue',  align=\"center\")\n",
    "plt.step(range(len(indices)), np.cumsum(importances[indices]), where='mid', label='Cumulative')\n",
    "plt.xticks(range(len(indices)), feat_names[indices], rotation='vertical',fontsize=14)\n",
    "plt.xlim([-1, len(indices)])\n",
    "plt.show()"
   ]
  },
  {
   "cell_type": "markdown",
   "metadata": {
    "collapsed": true
   },
   "source": [
    "Feature Importance\n",
    "________________________________________\n",
    "\n",
    "1.\ttenure\n",
    "2.\tFiber optic \n",
    "3. month-to-month\n",
    "\n"
   ]
  },
  {
   "cell_type": "markdown",
   "metadata": {},
   "source": [
    "# Logistic-regression"
   ]
  },
  {
   "cell_type": "code",
   "execution_count": 64,
   "metadata": {
    "collapsed": false
   },
   "outputs": [
    {
     "data": {
      "text/plain": [
       "<matplotlib.figure.Figure at 0xb3f63d0>"
      ]
     },
     "metadata": {},
     "output_type": "display_data"
    }
   ],
   "source": [
    "plt.figure(figsize=(8, 8))\n",
    "precison, recall, thresholds = precision_recall_curve(y_test, logis.predict_proba(X_test)[:,1])\n"
   ]
  },
  {
   "cell_type": "code",
   "execution_count": 65,
   "metadata": {
    "collapsed": false
   },
   "outputs": [
    {
     "data": {
      "text/plain": [
       "<matplotlib.text.Text at 0xe5f24b0>"
      ]
     },
     "execution_count": 65,
     "metadata": {},
     "output_type": "execute_result"
    },
    {
     "data": {
      "image/png": "[encoded data removed]",
      "text/plain": [
       "<matplotlib.figure.Figure at 0xccecc10>"
      ]
     },
     "metadata": {},
     "output_type": "display_data"
    }
   ],
   "source": [
    "plt.figure(figsize=(8, 8))\n",
    "plt.title(\"Precision and Recall Scores in logistic regression\")\n",
    "plt.plot(thresholds,precison[:-1], \"b--\", label=\"Precision\")\n",
    "plt.plot(thresholds, recall[:-1], \"g-\", label=\"Recall\")\n",
    "plt.ylabel(\"Score\")\n",
    "plt.xlabel(\"Decision Threshold\")\n"
   ]
  },
  {
   "cell_type": "code",
   "execution_count": 66,
   "metadata": {
    "collapsed": false
   },
   "outputs": [
    {
     "data": {
      "text/plain": [
       "<matplotlib.text.Text at 0xccde6f0>"
      ]
     },
     "execution_count": 66,
     "metadata": {},
     "output_type": "execute_result"
    },
    {
     "data": {
      "image/png": "[encoded data removed]",
      "text/plain": [
       "<matplotlib.figure.Figure at 0xe6208d0>"
      ]
     },
     "metadata": {},
     "output_type": "display_data"
    }
   ],
   "source": [
    "plt.figure(figsize=(8, 8))\n",
    "precison, recall, thresholds = precision_recall_curve(y_test, rf.predict_proba(X_test)[:,1])\n",
    "\n",
    "plt.title(\"Precision and Recall Scores in random forest\")\n",
    "plt.plot(thresholds,precison[:-1], \"b--\", label=\"Precision\")\n",
    "plt.plot(thresholds, recall[:-1], \"g-\", label=\"Recall\")\n",
    "plt.ylabel(\"Score\")\n",
    "plt.xlabel(\"Decision Threshold\")\n"
   ]
  },
  {
   "cell_type": "code",
   "execution_count": 67,
   "metadata": {
    "collapsed": false
   },
   "outputs": [
    {
     "data": {
      "text/plain": [
       "<matplotlib.text.Text at 0xcc9fd30>"
      ]
     },
     "execution_count": 67,
     "metadata": {},
     "output_type": "execute_result"
    },
    {
     "data": {
      "image/png": "[encoded data removed]",
      "text/plain": [
       "<matplotlib.figure.Figure at 0xe620770>"
      ]
     },
     "metadata": {},
     "output_type": "display_data"
    }
   ],
   "source": [
    "plt.figure(figsize=(8, 8))\n",
    "precison, recall, thresholds = precision_recall_curve(y_test, dtree.predict_proba(X_test)[:,1])\n",
    "plt.title(\"Precision and Recall Scores in decision tree\")\n",
    "plt.plot(thresholds,precison[:-1], \"b--\", label=\"Precision\")\n",
    "plt.plot(thresholds, recall[:-1], \"g-\", label=\"Recall\")\n",
    "plt.ylabel(\"Score\")\n",
    "plt.xlabel(\"Decision Threshold\")\n"
   ]
  },
  {
   "cell_type": "code",
   "execution_count": 68,
   "metadata": {
    "collapsed": false
   },
   "outputs": [
    {
     "data": {
      "text/plain": [
       "<matplotlib.text.Text at 0xcd88270>"
      ]
     },
     "execution_count": 68,
     "metadata": {},
     "output_type": "execute_result"
    },
    {
     "data": {
      "image/png": "[encoded data removed]",
      "text/plain": [
       "<matplotlib.figure.Figure at 0xccb2590>"
      ]
     },
     "metadata": {},
     "output_type": "display_data"
    }
   ],
   "source": [
    "\n",
    "plt.figure(figsize=(8, 8))\n",
    "precison, recall, thresholds = precision_recall_curve(y_test, ada.predict_proba(X_test)[:,1])\n",
    "plt.title(\"Precision and Recall Scores in ada boost\")\n",
    "plt.plot(thresholds,precison[:-1], \"b--\", label=\"Precision\")\n",
    "plt.plot(thresholds, recall[:-1], \"g-\", label=\"Recall\")\n",
    "plt.ylabel(\"Score\")\n",
    "plt.xlabel(\"Decision Threshold\")\n",
    "\n",
    "                          "
   ]
  },
  {
   "cell_type": "code",
   "execution_count": 69,
   "metadata": {
    "collapsed": false
   },
   "outputs": [
    {
     "data": {
      "image/png": "[encoded data removed]",
      "text/plain": [
       "<matplotlib.figure.Figure at 0xbd2c3f0>"
      ]
     },
     "metadata": {},
     "output_type": "display_data"
    }
   ],
   "source": [
    "from sklearn.metrics import confusion_matrix\n",
    "from sklearn.ensemble import RandomForestClassifier  \n",
    "clf = RandomForestClassifier(n_estimators=300, random_state=0)  \n",
    "from sklearn.model_selection import cross_val_score\n",
    "from sklearn import model_selection\n",
    "X = robust_scaler.fit_transform(X)\n",
    "y=new_customer[target_name]\n",
    "test_size_percent = 0.1\n",
    "X_train, X_test, y_train, y_test = train_test_split(X, y, test_size=test_size_percent) \n",
    "clf.fit(X_train, y_train) \n",
    "predictions = clf.predict_proba(X_test)[:,1]\n",
    "fpr, tpr, thresholds = roc_curve(y_test, predictions , pos_label=1)\n",
    "roc_auc = roc_auc_score(y_test, predictions )\n",
    "\n",
    "\n",
    "\n",
    "thresholds = np.append(thresholds, 1)  \n",
    "TP= np.zeros(thresholds.shape)\n",
    "FP= np.zeros(thresholds.shape)\n",
    "\n",
    "\n",
    "for i in range(thresholds.shape[0]):\n",
    "    cm = confusion_matrix(y_test, predictions >= thresholds[i])\n",
    "    TP[i] = cm[1][1]\n",
    "    FP[i] = cm[0][1]\n",
    "#  the special offer\n",
    "profit = TP*(100)+TP*(-20)+FP*(-20)\n",
    "\n",
    "\n",
    "\n",
    "plt.scatter(thresholds, profit, color=sns.color_palette()[4]) \n",
    "\n",
    "plt.xlim([0.1,1])\n",
    "plt.xlabel('thresholds ')\n",
    "plt.ylabel('Profit')\n",
    "\n",
    "plt.show()\n",
    "\n"
   ]
  },
  {
   "cell_type": "markdown",
   "metadata": {},
   "source": [
    "for this project , the when the threshold is increasing , the recall score is declined, the precison score is increasing "
   ]
  },
  {
   "cell_type": "code",
   "execution_count": 70,
   "metadata": {
    "collapsed": false
   },
   "outputs": [
    {
     "name": "stdout",
     "output_type": "stream",
     "text": [
      "Precision recall curve\n"
     ]
    },
    {
     "data": {
      "image/png": "[encoded data removed]",
      "text/plain": [
       "<matplotlib.figure.Figure at 0xcd7c2f0>"
      ]
     },
     "metadata": {},
     "output_type": "display_data"
    }
   ],
   "source": [
    "from sklearn.utils.fixes import signature\n",
    "precison, recall, thresholds = precision_recall_curve(y_test, logis.predict_proba(X_test)[:,1])\n",
    "print('Precision recall curve' )\n",
    "# In matplotlib < 1.5, plt.fill_between does not have a 'step' argument\n",
    "step_kwargs = ({'step': 'post'}\n",
    "               if 'step' in signature(plt.fill_between).parameters\n",
    "               else {})\n",
    "plt.step(recall, precison, color='b', alpha=0.2,\n",
    "         where='post')\n",
    "plt.fill_between(recall, precison, alpha=0.2, color='b', **step_kwargs)\n",
    "plt.xlim([0.0, 1.0])\n",
    "plt.ylim([0.0, 1.05])\n",
    "plt.xlabel('recall Rate')\n",
    "plt.ylabel('Precision Rate')\n",
    "plt.title('Precision recall curve Graph')\n",
    "plt.show()"
   ]
  },
  {
   "cell_type": "markdown",
   "metadata": {},
   "source": [
    "Dependent : 'Churn' \n",
    "    \n",
    "Independent : 'Month-to-month','tenure','Fiber optic'\n",
    "    "
   ]
  },
  {
   "cell_type": "code",
   "execution_count": 71,
   "metadata": {
    "collapsed": false
   },
   "outputs": [
    {
     "name": "stdout",
     "output_type": "stream",
     "text": [
      "Optimization terminated successfully.\n",
      "         Current function value: 0.439363\n",
      "         Iterations 7\n"
     ]
    }
   ],
   "source": [
    "import statsmodels.api as sm\n",
    "new_customer['int']=1\n",
    "independentvar=['Month-to-month','tenure','Fiber optic','int']\n",
    "logReg=sm.Logit(new_customer['Churn'],new_customer[independentvar])\n",
    "answer=logReg.fit()\n"
   ]
  },
  {
   "cell_type": "code",
   "execution_count": 72,
   "metadata": {
    "collapsed": false
   },
   "outputs": [
    {
     "data": {
      "text/html": [
       "<table class=\"simpletable\">\n",
       "<caption>Logit Regression Results</caption>\n",
       "<tr>\n",
       "  <th>Dep. Variable:</th>       <td>Churn</td>      <th>  No. Observations:  </th>  <td>  7043</td> \n",
       "</tr>\n",
       "<tr>\n",
       "  <th>Model:</th>               <td>Logit</td>      <th>  Df Residuals:      </th>  <td>  7039</td> \n",
       "</tr>\n",
       "<tr>\n",
       "  <th>Method:</th>               <td>MLE</td>       <th>  Df Model:          </th>  <td>     3</td> \n",
       "</tr>\n",
       "<tr>\n",
       "  <th>Date:</th>          <td>Fri, 04 Jan 2019</td> <th>  Pseudo R-squ.:     </th>  <td>0.2406</td> \n",
       "</tr>\n",
       "<tr>\n",
       "  <th>Time:</th>              <td>09:25:01</td>     <th>  Log-Likelihood:    </th> <td> -3094.4</td>\n",
       "</tr>\n",
       "<tr>\n",
       "  <th>converged:</th>           <td>True</td>       <th>  LL-Null:           </th> <td> -4075.1</td>\n",
       "</tr>\n",
       "<tr>\n",
       "  <th> </th>                      <td> </td>        <th>  LLR p-value:       </th>  <td> 0.000</td> \n",
       "</tr>\n",
       "</table>\n",
       "<table class=\"simpletable\">\n",
       "<tr>\n",
       "         <td></td>           <th>coef</th>     <th>std err</th>      <th>z</th>      <th>P>|z|</th>  <th>[0.025</th>    <th>0.975]</th>  \n",
       "</tr>\n",
       "<tr>\n",
       "  <th>Month-to-month</th> <td>    1.2010</td> <td>    0.095</td> <td>   12.590</td> <td> 0.000</td> <td>    1.014</td> <td>    1.388</td>\n",
       "</tr>\n",
       "<tr>\n",
       "  <th>tenure</th>         <td>   -0.0308</td> <td>    0.002</td> <td>  -16.375</td> <td> 0.000</td> <td>   -0.034</td> <td>   -0.027</td>\n",
       "</tr>\n",
       "<tr>\n",
       "  <th>Fiber optic</th>    <td>    1.5123</td> <td>    0.068</td> <td>   22.227</td> <td> 0.000</td> <td>    1.379</td> <td>    1.646</td>\n",
       "</tr>\n",
       "<tr>\n",
       "  <th>int</th>            <td>   -1.8196</td> <td>    0.105</td> <td>  -17.260</td> <td> 0.000</td> <td>   -2.026</td> <td>   -1.613</td>\n",
       "</tr>\n",
       "</table>"
      ],
      "text/plain": [
       "<class 'statsmodels.iolib.summary.Summary'>\n",
       "\"\"\"\n",
       "                           Logit Regression Results                           \n",
       "==============================================================================\n",
       "Dep. Variable:                  Churn   No. Observations:                 7043\n",
       "Model:                          Logit   Df Residuals:                     7039\n",
       "Method:                           MLE   Df Model:                            3\n",
       "Date:                Fri, 04 Jan 2019   Pseudo R-squ.:                  0.2406\n",
       "Time:                        09:25:01   Log-Likelihood:                -3094.4\n",
       "converged:                       True   LL-Null:                       -4075.1\n",
       "                                        LLR p-value:                     0.000\n",
       "==================================================================================\n",
       "                     coef    std err          z      P>|z|      [0.025      0.975]\n",
       "----------------------------------------------------------------------------------\n",
       "Month-to-month     1.2010      0.095     12.590      0.000       1.014       1.388\n",
       "tenure            -0.0308      0.002    -16.375      0.000      -0.034      -0.027\n",
       "Fiber optic        1.5123      0.068     22.227      0.000       1.379       1.646\n",
       "int               -1.8196      0.105    -17.260      0.000      -2.026      -1.613\n",
       "==================================================================================\n",
       "\"\"\""
      ]
     },
     "execution_count": 72,
     "metadata": {},
     "output_type": "execute_result"
    }
   ],
   "source": [
    "answer.summary()"
   ]
  },
  {
   "cell_type": "code",
   "execution_count": 73,
   "metadata": {
    "collapsed": false
   },
   "outputs": [
    {
     "data": {
      "text/plain": [
       "Month-to-month    1.200992\n",
       "tenure           -0.030778\n",
       "Fiber optic       1.512257\n",
       "int              -1.819628\n",
       "dtype: float64"
      ]
     },
     "execution_count": 73,
     "metadata": {},
     "output_type": "execute_result"
    }
   ],
   "source": [
    "answer.params"
   ]
  },
  {
   "cell_type": "code",
   "execution_count": 74,
   "metadata": {
    "collapsed": true
   },
   "outputs": [],
   "source": [
    "coef=answer.params\n"
   ]
  },
  {
   "cell_type": "markdown",
   "metadata": {},
   "source": [
    "Hypothetical example:\n",
    "    \n",
    "if the customer has month to month payment, fiber internet, and the tenure is 3 months: "
   ]
  },
  {
   "cell_type": "code",
   "execution_count": 75,
   "metadata": {
    "collapsed": false
   },
   "outputs": [
    {
     "name": "stdout",
     "output_type": "stream",
     "text": [
      "0.801285477303\n"
     ]
    }
   ],
   "source": [
    "y1=coef[3]+coef[0]*1+coef[1]*3+coef[2]*1\n",
    "print(y1)"
   ]
  },
  {
   "cell_type": "code",
   "execution_count": null,
   "metadata": {
    "collapsed": true
   },
   "outputs": [],
   "source": []
  },
  {
   "cell_type": "markdown",
   "metadata": {},
   "source": [
    "this custumer would have 80% chance to left the company."
   ]
  },
  {
   "cell_type": "markdown",
   "metadata": {},
   "source": [
    "# Random tree"
   ]
  },
  {
   "cell_type": "markdown",
   "metadata": {},
   "source": [
    "# Interpreting the Data"
   ]
  },
  {
   "cell_type": "markdown",
   "metadata": {},
   "source": [
    "# \n",
    "Summary: With all of this information, this is what we know why customers probably churn:\n",
    "1.\tCustomer generally left when they are month to month payment type. \n",
    "2. \tCustomer is likely to churn in first ten months.\n",
    "3.\tCustomers is likely to leave customer when they use Fiber optic service.\n",
    "4.\tBut there is 0% customers use fiber only, customers are likely to cancel services when they use phone and fiber.\n",
    "5.\tCustomers have no partner and no dependent is highly percent to churn than other. \n",
    "6.\tCustomer month to month, tenure, and fiber optic were the three biggest factors in determining churn.\n",
    "\n"
   ]
  },
  {
   "cell_type": "code",
   "execution_count": null,
   "metadata": {
    "collapsed": true
   },
   "outputs": [],
   "source": []
  },
  {
   "cell_type": "code",
   "execution_count": null,
   "metadata": {
    "collapsed": true
   },
   "outputs": [],
   "source": []
  },
  {
   "cell_type": "code",
   "execution_count": null,
   "metadata": {
    "collapsed": true
   },
   "outputs": [],
   "source": []
  },
  {
   "cell_type": "code",
   "execution_count": null,
   "metadata": {
    "collapsed": true
   },
   "outputs": [],
   "source": []
  }
 ],
 "metadata": {
  "kernelspec": {
   "display_name": "Python 2",
   "language": "python",
   "name": "python2"
  },
  "language_info": {
   "codemirror_mode": {
    "name": "ipython",
    "version": 2
   },
   "file_extension": ".py",
   "mimetype": "text/x-python",
   "name": "python",
   "nbconvert_exporter": "python",
   "pygments_lexer": "ipython2",
   "version": "2.7.11"
  }
 },
 "nbformat": 4,
 "nbformat_minor": 1
}
